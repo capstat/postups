{
 "cells": [
  {
   "cell_type": "markdown",
   "metadata": {},
   "source": [
    "# The Wu-Tang Clan Network\n",
    "\n",
    "[Wu-Tang Clan](https://en.wikipedia.org/wiki/Wu-Tang_Clan)\n",
    "\n",
    "For this project, we were tasked with exploring and analyzing a bi-modal network.  It was important to me to choose a data set that I was familiar with.  Familiarity with the data helped me make sure the calculations produce coherent results.   \n",
    "\n",
    "So why Wu-Tang?  The Wu-Tang Clan is a rap group that formed in the early 1990s in Staten Island, New York.  There are 9 members of the group and they all went on to produce solo albums with varying degrees of success.  A feature of almost all rap albums is that there are many collaborators.  Using the Wu-Tang Clan and its members' discography, it is possible to create an artist network that can be explored and analyzed.  \n",
    "\n",
    "Analyzing this network should allow us to answer some Wu-Tang related questions.  \n",
    "\n",
    "I was a teacher for 10 years.  This data set is a good introductory data set because it is small, the data analysis *should* dovetail with the real life Wu-Tang story, and it is original.  And also, for me it's personal.  \n",
    "\n",
    "I moved to [Staten Island](http://statisland.com/608.html) in 1993.  This was the same year that the Wu-Tang released their debut platinum selling album, Enter the Wu-Tang (36 Chambers).  Before moving to Staten Island's North Shore, I lived in a small town in upstate New York where most of the kids were listening to Alt-Rock.  The music that the kids from Staten Island were listening to was radically different.  I don't really listen to rap music anymore but in the mid 90s on Staten Island the Wu-Tang was where it was at."
   ]
  },
  {
   "cell_type": "code",
   "execution_count": 1,
   "metadata": {},
   "outputs": [],
   "source": [
    "#read the file\n",
    "import pandas as pd\n",
    "\n",
    "url = \"https://raw.githubusercontent.com/capstat/MSDA_620/master/data/wutang.csv\"\n",
    "wutang = pd.read_csv(url, encoding='utf8')"
   ]
  },
  {
   "cell_type": "markdown",
   "metadata": {
    "collapsed": true
   },
   "source": [
    "I manually created a csv file that lists every artist featured on every Wu-Tang album or Wu-Tang member's album from 1993 to 2007.  For each artist on every album, the number of appearances is listed along with some information about the album (Year, Number of Songs, and the RIAA certification - Gold, Platinum, Multi-Platinum, None).  I decided not to scrape the internet for this information because the data set was small and I believe that I would spend just as much time coding and checking the results as just typing.   \n",
    "\n",
    "I stopped collecting data after 2007 because Wikipedia stopped listing the Wu-Tang member featured on each song after 2007.  If I want to continue on with the data collection I could get the information from thier penultimate album from other webistes. However, I decided that I collected enough data for the aim of this project.  Also, it would be pointless to try to collect the info from thier most recent album.  [They only created one copy and the track info is still unknown](https://en.wikipedia.org/wiki/Once_Upon_a_Time_in_Shaolin).\n",
    "\n",
    "The edge weights are the proportion of artist appearances on an album.  The artisit of a solo album was assigned a weight of 1.0.  This assumes that the solo artist appears on all of their own album's tracks.  This assumption is not true.  For example, only Raekwon raps on the track \"The Faster Blade\" from Ghostface's Ironman album.  I was not about to listen to every song to verify that the solo artists were on all of their own tracks.  I think if I did this again, I  would scrape the lyrics and info from [here](https://rap.genius.com/)."
   ]
  },
  {
   "cell_type": "code",
   "execution_count": 2,
   "metadata": {},
   "outputs": [
    {
     "data": {
      "text/html": [
       "<div>\n",
       "<table border=\"1\" class=\"dataframe\">\n",
       "  <thead>\n",
       "    <tr style=\"text-align: right;\">\n",
       "      <th></th>\n",
       "      <th>Album</th>\n",
       "      <th>Primary_Artist</th>\n",
       "      <th>Songs_on_Album</th>\n",
       "      <th>Artist</th>\n",
       "      <th>Appearances</th>\n",
       "      <th>Year</th>\n",
       "      <th>Member</th>\n",
       "      <th>Sold</th>\n",
       "      <th>App_Prop</th>\n",
       "    </tr>\n",
       "  </thead>\n",
       "  <tbody>\n",
       "    <tr>\n",
       "      <th>49</th>\n",
       "      <td>Iron Flag</td>\n",
       "      <td>Wu-Tang Clan</td>\n",
       "      <td>13</td>\n",
       "      <td>Raekwon</td>\n",
       "      <td>11</td>\n",
       "      <td>2001</td>\n",
       "      <td>1</td>\n",
       "      <td>G</td>\n",
       "      <td>0.846154</td>\n",
       "    </tr>\n",
       "    <tr>\n",
       "      <th>0</th>\n",
       "      <td>Enter the Wu-Tang (36 Chambers)</td>\n",
       "      <td>Wu-Tang Clan</td>\n",
       "      <td>12</td>\n",
       "      <td>RZA</td>\n",
       "      <td>9</td>\n",
       "      <td>1993</td>\n",
       "      <td>1</td>\n",
       "      <td>P</td>\n",
       "      <td>0.750000</td>\n",
       "    </tr>\n",
       "    <tr>\n",
       "      <th>2</th>\n",
       "      <td>Enter the Wu-Tang (36 Chambers)</td>\n",
       "      <td>Wu-Tang Clan</td>\n",
       "      <td>12</td>\n",
       "      <td>Raekwon</td>\n",
       "      <td>9</td>\n",
       "      <td>1993</td>\n",
       "      <td>1</td>\n",
       "      <td>P</td>\n",
       "      <td>0.750000</td>\n",
       "    </tr>\n",
       "    <tr>\n",
       "      <th>71</th>\n",
       "      <td>8 Diagrams</td>\n",
       "      <td>Wu-Tang Clan</td>\n",
       "      <td>15</td>\n",
       "      <td>Method Man</td>\n",
       "      <td>10</td>\n",
       "      <td>2007</td>\n",
       "      <td>1</td>\n",
       "      <td>N</td>\n",
       "      <td>0.666667</td>\n",
       "    </tr>\n",
       "    <tr>\n",
       "      <th>1</th>\n",
       "      <td>Enter the Wu-Tang (36 Chambers)</td>\n",
       "      <td>Wu-Tang Clan</td>\n",
       "      <td>12</td>\n",
       "      <td>Ghostface Killah</td>\n",
       "      <td>8</td>\n",
       "      <td>1993</td>\n",
       "      <td>1</td>\n",
       "      <td>P</td>\n",
       "      <td>0.666667</td>\n",
       "    </tr>\n",
       "  </tbody>\n",
       "</table>\n",
       "</div>"
      ],
      "text/plain": [
       "                              Album Primary_Artist  Songs_on_Album  \\\n",
       "49                        Iron Flag   Wu-Tang Clan              13   \n",
       "0   Enter the Wu-Tang (36 Chambers)   Wu-Tang Clan              12   \n",
       "2   Enter the Wu-Tang (36 Chambers)   Wu-Tang Clan              12   \n",
       "71                       8 Diagrams   Wu-Tang Clan              15   \n",
       "1   Enter the Wu-Tang (36 Chambers)   Wu-Tang Clan              12   \n",
       "\n",
       "              Artist  Appearances  Year  Member Sold  App_Prop  \n",
       "49           Raekwon           11  2001       1    G  0.846154  \n",
       "0                RZA            9  1993       1    P  0.750000  \n",
       "2            Raekwon            9  1993       1    P  0.750000  \n",
       "71        Method Man           10  2007       1    N  0.666667  \n",
       "1   Ghostface Killah            8  1993       1    P  0.666667  "
      ]
     },
     "execution_count": 2,
     "metadata": {},
     "output_type": "execute_result"
    }
   ],
   "source": [
    "#filter out any 0 appearances\n",
    "wutang = wutang.loc[wutang['Appearances']!=0]\n",
    "#create edge weights\n",
    "wutang['App_Prop'] = wutang['Appearances']/wutang['Songs_on_Album']\n",
    "wutang[wutang['App_Prop'] != 1].sort_values('App_Prop', ascending=False).head()"
   ]
  },
  {
   "cell_type": "markdown",
   "metadata": {},
   "source": [
    "Above are the artists that appeared on the highest proportion of songs on an album, excluding artists' own solo album.\n",
    "\n",
    "From 1993 to 2007 members of the Wu-Tang Clan put out 33 albums either as a group or as solo artists.  Astonishingly, from 1993 to 1998, the Wu-Tang clan released 9 albums, all were certified Gold by RIAA, and 6 were certified Platinum.  The only rapper with more Platinum albums is Eminem, and it took him 20 years.\n",
    "\n",
    "Let's take a look at the Wu-Tang universe!"
   ]
  },
  {
   "cell_type": "code",
   "execution_count": 3,
   "metadata": {},
   "outputs": [
    {
     "name": "stderr",
     "output_type": "stream",
     "text": [
      "[INFO] graphlab.cython.cy_server: GraphLab Create v2.1 started. Logging: /tmp/graphlab_server_1499040007.log\n"
     ]
    },
    {
     "name": "stdout",
     "output_type": "stream",
     "text": [
      "This non-commercial license of GraphLab Create for academic use is assigned to nicholas.capofari@spsmail.cuny.edu and will expire on June 06, 2018.\n"
     ]
    },
    {
     "data": {
      "application/javascript": [
       "$(\"head\").append($(\"<link/>\").attr({\n",
       "  rel:  \"stylesheet\",\n",
       "  type: \"text/css\",\n",
       "  href: \"//cdnjs.cloudflare.com/ajax/libs/font-awesome/4.1.0/css/font-awesome.min.css\"\n",
       "}));\n",
       "$(\"head\").append($(\"<link/>\").attr({\n",
       "  rel:  \"stylesheet\",\n",
       "  type: \"text/css\",\n",
       "  href: \"https://static.turi.com/products/graphlab-create/2.1/canvas/css/canvas.css\"\n",
       "}));\n",
       "\n",
       "            (function(){\n",
       "\n",
       "                var e = null;\n",
       "                if (typeof element == 'undefined') {\n",
       "                    var scripts = document.getElementsByTagName('script');\n",
       "                    var thisScriptTag = scripts[scripts.length-1];\n",
       "                    var parentDiv = thisScriptTag.parentNode;\n",
       "                    e = document.createElement('div');\n",
       "                    parentDiv.appendChild(e);\n",
       "                } else {\n",
       "                    e = element[0];\n",
       "                }\n",
       "\n",
       "                if (typeof requirejs !== 'undefined') {\n",
       "                    // disable load timeout; ipython_app.js is large and can take a while to load.\n",
       "                    requirejs.config({waitSeconds: 0});\n",
       "                }\n",
       "\n",
       "                require(['https://static.turi.com/products/graphlab-create/2.1/canvas/js/ipython_app.js'], function(IPythonApp){\n",
       "                    var app = new IPythonApp();\n",
       "                    app.attachView('sgraph','View', {\"edges_labels\": null, \"selected_variable\": {\"name\": [\"g\"], \"view_file\": \"sgraph\", \"view_component\": \"View\", \"view_params\": {\"elabel_hover\": false, \"vertex_positions\": null, \"h_offset\": 0.0, \"node_size\": 300, \"ecolor\": [0.37, 0.33, 0.33], \"elabel\": null, \"arrows\": false, \"ewidth\": 1, \"vlabel\": \"__id\", \"highlight_color\": [[0.69, 0.0, 0.498], [0.69, 0.0, 0.498], [0.69, 0.0, 0.498], [0.69, 0.0, 0.498], [0.69, 0.0, 0.498], [0.69, 0.0, 0.498], [0.69, 0.0, 0.498], [0.69, 0.0, 0.498], [0.69, 0.0, 0.498], [0.69, 0.0, 0.498], [0.69, 0.0, 0.498], [0.69, 0.0, 0.498], [0.69, 0.0, 0.498], [0.69, 0.0, 0.498], [0.69, 0.0, 0.498], [0.69, 0.0, 0.498], [0.69, 0.0, 0.498], [0.69, 0.0, 0.498], [0.69, 0.0, 0.498], [0.69, 0.0, 0.498], [0.69, 0.0, 0.498], [0.69, 0.0, 0.498], [0.69, 0.0, 0.498], [0.69, 0.0, 0.498], [0.69, 0.0, 0.498], [0.69, 0.0, 0.498], [0.69, 0.0, 0.498], [0.69, 0.0, 0.498], [0.69, 0.0, 0.498], [0.69, 0.0, 0.498], [0.69, 0.0, 0.498], [0.69, 0.0, 0.498], [0.69, 0.0, 0.498], [0.69, 0.0, 0.498], [0.69, 0.0, 0.498], [0.69, 0.0, 0.498], [0.69, 0.0, 0.498], [0.69, 0.0, 0.498], [0.69, 0.0, 0.498], [0.69, 0.0, 0.498], [0.69, 0.0, 0.498], [0.69, 0.0, 0.498], [0.69, 0.0, 0.498], [0.69, 0.0, 0.498], [0.69, 0.0, 0.498], [0.69, 0.0, 0.498], [0.69, 0.0, 0.498], [0.69, 0.0, 0.498], [0.69, 0.0, 0.498], [0.69, 0.0, 0.498], [0.69, 0.0, 0.498], [0.69, 0.0, 0.498], [0.69, 0.0, 0.498], [0.69, 0.0, 0.498], [0.69, 0.0, 0.498], [0.69, 0.0, 0.498], [0.69, 0.0, 0.498], [0.69, 0.0, 0.498], [0.69, 0.0, 0.498], [0.69, 0.0, 0.498], [0.69, 0.0, 0.498], [0.69, 0.0, 0.498], [0.69, 0.0, 0.498], [0.69, 0.0, 0.498], [0.69, 0.0, 0.498], [0.69, 0.0, 0.498], [0.69, 0.0, 0.498], [0.69, 0.0, 0.498], [0.69, 0.0, 0.498], [0.69, 0.0, 0.498], [0.69, 0.0, 0.498], [0.69, 0.0, 0.498], [0.69, 0.0, 0.498], [0.69, 0.0, 0.498], [0.69, 0.0, 0.498], [0.69, 0.0, 0.498], [0.69, 0.0, 0.498], [0.69, 0.0, 0.498], [0.69, 0.0, 0.498], [0.69, 0.0, 0.498], [0.69, 0.0, 0.498], [0.69, 0.0, 0.498], [0.69, 0.0, 0.498], [0.69, 0.0, 0.498], [0.69, 0.0, 0.498], [0.69, 0.0, 0.498], [0.69, 0.0, 0.498], [0.69, 0.0, 0.498], [0.69, 0.0, 0.498], [0.69, 0.0, 0.498], [0.69, 0.0, 0.498], [0.69, 0.0, 0.498], [0.69, 0.0, 0.498], [0.69, 0.0, 0.498], [0.69, 0.0, 0.498], [0.69, 0.0, 0.498], [0.69, 0.0, 0.498], [0.69, 0.0, 0.498], [0.69, 0.0, 0.498], [0.69, 0.0, 0.498], [0.69, 0.0, 0.498], [0.69, 0.0, 0.498], [0.69, 0.0, 0.498], [0.69, 0.0, 0.498], [0.69, 0.0, 0.498], [0.69, 0.0, 0.498], [0.69, 0.0, 0.498], [0.69, 0.0, 0.498], [0.69, 0.0, 0.498], [0.69, 0.0, 0.498], [0.69, 0.0, 0.498], [0.69, 0.0, 0.498], [0.69, 0.0, 0.498], [0.69, 0.0, 0.498], [0.69, 0.0, 0.498], [0.69, 0.0, 0.498], [0.69, 0.0, 0.498], [0.69, 0.0, 0.498], [0.69, 0.0, 0.498], [0.69, 0.0, 0.498], [0.69, 0.0, 0.498], [0.69, 0.0, 0.498], [0.69, 0.0, 0.498], [0.69, 0.0, 0.498], [0.69, 0.0, 0.498], [0.69, 0.0, 0.498], [0.69, 0.0, 0.498], [0.69, 0.0, 0.498], [0.69, 0.0, 0.498], [0.69, 0.0, 0.498], [0.69, 0.0, 0.498], [0.69, 0.0, 0.498], [0.69, 0.0, 0.498], [0.69, 0.0, 0.498], [0.69, 0.0, 0.498], [0.69, 0.0, 0.498], [0.69, 0.0, 0.498], [0.69, 0.0, 0.498], [0.69, 0.0, 0.498], [0.69, 0.0, 0.498], [0.69, 0.0, 0.498], [0.69, 0.0, 0.498], [0.69, 0.0, 0.498], [0.69, 0.0, 0.498], [0.69, 0.0, 0.498], [0.69, 0.0, 0.498], [0.69, 0.0, 0.498], [0.69, 0.0, 0.498], [0.69, 0.0, 0.498], [0.69, 0.0, 0.498], [0.69, 0.0, 0.498], [0.69, 0.0, 0.498], [0.69, 0.0, 0.498], [0.69, 0.0, 0.498], [0.69, 0.0, 0.498], [0.69, 0.0, 0.498], [0.69, 0.0, 0.498], [0.69, 0.0, 0.498], [0.69, 0.0, 0.498], [0.69, 0.0, 0.498], [0.69, 0.0, 0.498], [0.69, 0.0, 0.498], [0.69, 0.0, 0.498], [0.69, 0.0, 0.498], [0.69, 0.0, 0.498], [0.69, 0.0, 0.498], [0.69, 0.0, 0.498], [0.69, 0.0, 0.498], [0.69, 0.0, 0.498], [0.69, 0.0, 0.498], [0.69, 0.0, 0.498], [0.69, 0.0, 0.498], [0.69, 0.0, 0.498], [0.69, 0.0, 0.498], [0.69, 0.0, 0.498], [0.69, 0.0, 0.498], [0.69, 0.0, 0.498], [0.69, 0.0, 0.498], [0.69, 0.0, 0.498], [0.69, 0.0, 0.498], [0.69, 0.0, 0.498], [0.69, 0.0, 0.498], [0.69, 0.0, 0.498], [0.69, 0.0, 0.498], [0.69, 0.0, 0.498], [0.69, 0.0, 0.498], [0.69, 0.0, 0.498], [0.69, 0.0, 0.498], [0.69, 0.0, 0.498], [0.69, 0.0, 0.498], [0.69, 0.0, 0.498], [0.69, 0.0, 0.498], [0.69, 0.0, 0.498], [0.69, 0.0, 0.498], [0.69, 0.0, 0.498], [0.69, 0.0, 0.498], [0.69, 0.0, 0.498], [0.69, 0.0, 0.498], [0.69, 0.0, 0.498], [0.69, 0.0, 0.498], [0.69, 0.0, 0.498], [0.69, 0.0, 0.498], [0.69, 0.0, 0.498], [0.69, 0.0, 0.498], [0.69, 0.0, 0.498], [0.69, 0.0, 0.498], [0.69, 0.0, 0.498], [0.69, 0.0, 0.498], [0.69, 0.0, 0.498], [0.69, 0.0, 0.498], [0.69, 0.0, 0.498], [0.69, 0.0, 0.498], [0.69, 0.0, 0.498], [0.69, 0.0, 0.498], [0.69, 0.0, 0.498], [0.69, 0.0, 0.498], [0.69, 0.0, 0.498], [0.69, 0.0, 0.498], [0.69, 0.0, 0.498], [0.69, 0.0, 0.498], [0.69, 0.0, 0.498], [0.69, 0.0, 0.498], [0.69, 0.0, 0.498], [0.69, 0.0, 0.498], [0.69, 0.0, 0.498], [0.69, 0.0, 0.498], [0.69, 0.0, 0.498], [0.69, 0.0, 0.498], [0.69, 0.0, 0.498], [0.69, 0.0, 0.498], [0.69, 0.0, 0.498], [0.69, 0.0, 0.498], [0.69, 0.0, 0.498], [0.69, 0.0, 0.498], [0.69, 0.0, 0.498], [0.69, 0.0, 0.498], [0.69, 0.0, 0.498], [0.69, 0.0, 0.498], [0.69, 0.0, 0.498], [0.69, 0.0, 0.498], [0.69, 0.0, 0.498], [0.69, 0.0, 0.498], [0.69, 0.0, 0.498], [0.69, 0.0, 0.498], [0.69, 0.0, 0.498], [0.69, 0.0, 0.498], [0.69, 0.0, 0.498], [0.69, 0.0, 0.498], [0.69, 0.0, 0.498], [0.69, 0.0, 0.498], [0.69, 0.0, 0.498], [0.69, 0.0, 0.498], [0.69, 0.0, 0.498], [0.69, 0.0, 0.498], [0.69, 0.0, 0.498], [0.69, 0.0, 0.498], [0.69, 0.0, 0.498], [0.69, 0.0, 0.498], [0.69, 0.0, 0.498], [0.69, 0.0, 0.498], [0.69, 0.0, 0.498], [0.69, 0.0, 0.498], [0.69, 0.0, 0.498], [0.69, 0.0, 0.498], [0.69, 0.0, 0.498], [0.69, 0.0, 0.498], [0.69, 0.0, 0.498], [0.69, 0.0, 0.498], [0.69, 0.0, 0.498], [0.69, 0.0, 0.498], [0.69, 0.0, 0.498], [0.69, 0.0, 0.498], [0.69, 0.0, 0.498], [0.69, 0.0, 0.498], [0.69, 0.0, 0.498], [0.69, 0.0, 0.498], [0.69, 0.0, 0.498], [0.69, 0.0, 0.498], [0.69, 0.0, 0.498], [0.69, 0.0, 0.498], [0.69, 0.0, 0.498], [0.69, 0.0, 0.498], [0.69, 0.0, 0.498], [0.69, 0.0, 0.498], [0.69, 0.0, 0.498], [0.69, 0.0, 0.498], [0.69, 0.0, 0.498], [0.69, 0.0, 0.498], [0.69, 0.0, 0.498], [0.69, 0.0, 0.498], [0.69, 0.0, 0.498], [0.69, 0.0, 0.498], [0.69, 0.0, 0.498], [0.69, 0.0, 0.498], [0.69, 0.0, 0.498], [0.69, 0.0, 0.498], [0.69, 0.0, 0.498], [0.69, 0.0, 0.498], [0.69, 0.0, 0.498], [0.69, 0.0, 0.498], [0.69, 0.0, 0.498], [0.69, 0.0, 0.498], [0.69, 0.0, 0.498], [0.69, 0.0, 0.498], [0.69, 0.0, 0.498], [0.69, 0.0, 0.498], [0.69, 0.0, 0.498], [0.69, 0.0, 0.498], [0.69, 0.0, 0.498], [0.69, 0.0, 0.498], [0.69, 0.0, 0.498], [0.69, 0.0, 0.498], [0.69, 0.0, 0.498], [0.69, 0.0, 0.498], [0.69, 0.0, 0.498], [0.69, 0.0, 0.498], [0.69, 0.0, 0.498], [0.69, 0.0, 0.498], [0.69, 0.0, 0.498], [0.69, 0.0, 0.498], [0.69, 0.0, 0.498], [0.69, 0.0, 0.498], [0.69, 0.0, 0.498], [0.69, 0.0, 0.498], [0.69, 0.0, 0.498], [0.69, 0.0, 0.498], [0.69, 0.0, 0.498], [0.69, 0.0, 0.498], [0.69, 0.0, 0.498], [0.69, 0.0, 0.498], [0.69, 0.0, 0.498], [0.69, 0.0, 0.498], [0.69, 0.0, 0.498], [0.69, 0.0, 0.498], [0.69, 0.0, 0.498], [0.69, 0.0, 0.498], [0.69, 0.0, 0.498], [0.69, 0.0, 0.498], [0.69, 0.0, 0.498], [0.69, 0.0, 0.498], [0.69, 0.0, 0.498], [0.69, 0.0, 0.498], [0.69, 0.0, 0.498], [0.69, 0.0, 0.498], [0.69, 0.0, 0.498], [0.69, 0.0, 0.498], [0.69, 0.0, 0.498], [0.69, 0.0, 0.498], [0.69, 0.0, 0.498], [0.69, 0.0, 0.498], [0.69, 0.0, 0.498], [0.69, 0.0, 0.498], [0.69, 0.0, 0.498], [0.69, 0.0, 0.498], [0.69, 0.0, 0.498], [0.69, 0.0, 0.498], [0.69, 0.0, 0.498], [0.69, 0.0, 0.498], [0.69, 0.0, 0.498], [0.69, 0.0, 0.498], [0.69, 0.0, 0.498], [0.69, 0.0, 0.498], [0.69, 0.0, 0.498], [0.69, 0.0, 0.498], [0.69, 0.0, 0.498], [0.69, 0.0, 0.498], [0.69, 0.0, 0.498], [0.69, 0.0, 0.498], [0.69, 0.0, 0.498], [0.69, 0.0, 0.498], [0.69, 0.0, 0.498], [0.69, 0.0, 0.498], [0.69, 0.0, 0.498], [0.69, 0.0, 0.498], [0.69, 0.0, 0.498], [0.69, 0.0, 0.498], [0.69, 0.0, 0.498], [0.69, 0.0, 0.498], [0.69, 0.0, 0.498], [0.69, 0.0, 0.498], [0.69, 0.0, 0.498], [0.69, 0.0, 0.498], [0.69, 0.0, 0.498], [0.69, 0.0, 0.498], [0.69, 0.0, 0.498], [0.69, 0.0, 0.498], [0.69, 0.0, 0.498], [0.69, 0.0, 0.498], [0.69, 0.0, 0.498], [0.69, 0.0, 0.498], [0.69, 0.0, 0.498], [0.69, 0.0, 0.498], [0.69, 0.0, 0.498], [0.69, 0.0, 0.498], [0.69, 0.0, 0.498], [0.69, 0.0, 0.498], [0.69, 0.0, 0.498], [0.69, 0.0, 0.498], [0.69, 0.0, 0.498], [0.69, 0.0, 0.498], [0.69, 0.0, 0.498], [0.69, 0.0, 0.498], [0.69, 0.0, 0.498], [0.69, 0.0, 0.498], [0.69, 0.0, 0.498], [0.69, 0.0, 0.498], [0.69, 0.0, 0.498], [0.69, 0.0, 0.498], [0.69, 0.0, 0.498], [0.69, 0.0, 0.498], [0.69, 0.0, 0.498], [0.69, 0.0, 0.498], [0.69, 0.0, 0.498], [0.69, 0.0, 0.498], [0.69, 0.0, 0.498], [0.69, 0.0, 0.498], [0.69, 0.0, 0.498], [0.69, 0.0, 0.498], [0.69, 0.0, 0.498], [0.69, 0.0, 0.498], [0.69, 0.0, 0.498], [0.69, 0.0, 0.498], [0.69, 0.0, 0.498], [0.69, 0.0, 0.498], [0.69, 0.0, 0.498], [0.69, 0.0, 0.498], [0.69, 0.0, 0.498], [0.69, 0.0, 0.498], [0.69, 0.0, 0.498], [0.69, 0.0, 0.498], [0.69, 0.0, 0.498], [0.69, 0.0, 0.498], [0.69, 0.0, 0.498], [0.69, 0.0, 0.498], [0.69, 0.0, 0.498], [0.69, 0.0, 0.498], [0.69, 0.0, 0.498], [0.69, 0.0, 0.498], [0.69, 0.0, 0.498], [0.69, 0.0, 0.498]], \"vcolor\": [0.522, 0.741, 0.0], \"vlabel_hover\": true, \"highlight\": {\"Islord\": [0.69, 0.0, 0.498], \"Ed Lover\": [0.69, 0.0, 0.498], \"Tekitha\": [0.69, 0.0, 0.498], \"Superb\": [0.69, 0.0, 0.498], \"Popa Wu\": [0.69, 0.0, 0.498], \"Cuetrax\": [0.69, 0.0, 0.498], \"Method Man\": [0.69, 0.0, 0.498], \"Ras Kass\": [0.69, 0.0, 0.498], \"Cilvaringz\": [0.69, 0.0, 0.498], \"Ski\": [0.69, 0.0, 0.498], \"Shamel, Kareem & Jamel\": [0.69, 0.0, 0.498], \"Tash Mahogany\": [0.69, 0.0, 0.498], \"Chrisette Michele\": [0.69, 0.0, 0.498], \"Styles P\": [0.69, 0.0, 0.498], \"Puff Daddy\": [0.69, 0.0, 0.498], \"Kim Stephens\": [0.69, 0.0, 0.498], \"K. Born\": [0.69, 0.0, 0.498], \"IAM\": [0.69, 0.0, 0.498], \"Sunny Valentine\": [0.69, 0.0, 0.498], \"Killah Priest\": [0.69, 0.0, 0.498], \"Streetlife\": [0.69, 0.0, 0.498], \"Janet Jackson\": [0.69, 0.0, 0.498], \"Angela Yee\": [0.69, 0.0, 0.498], \"Ch\": [0.69, 0.0, 0.498], \"Inspectah Deck\": [0.69, 0.0, 0.498], \"Kool G Rap\": [0.69, 0.0, 0.498], \"Intrigue\": [0.69, 0.0, 0.498], \"Xavier Naidoo\": [0.69, 0.0, 0.498], \"Jadakiss\": [0.69, 0.0, 0.498], \"Madame Cez\": [0.69, 0.0, 0.498], \"Ludacris\": [0.69, 0.0, 0.498], \"Isaac Hayes\": [0.69, 0.0, 0.498], \"George Clinton\": [0.69, 0.0, 0.498], \"Carl Thomas\": [0.69, 0.0, 0.498], \"American Cream Team\": [0.69, 0.0, 0.498], \"Anthony Allen\": [0.69, 0.0, 0.498], \"Jacki-O\": [0.69, 0.0, 0.498], \"Busta Rhymes\": [0.69, 0.0, 0.498], \"Res\": [0.69, 0.0, 0.498], \"Mizzza\": [0.69, 0.0, 0.498], \"D\\u2019Angelo\": [0.69, 0.0, 0.498], \"The Willie Cottrell Band\": [0.69, 0.0, 0.498], \"U-God\": [0.69, 0.0, 0.498], \"Sheek Louch\": [0.69, 0.0, 0.498], \"Shyheim\": [0.69, 0.0, 0.498], \"The Force M.D.s\": [0.69, 0.0, 0.498], \"Allah Real\": [0.69, 0.0, 0.498], \"Lil\\u2019 Mo\": [0.69, 0.0, 0.498], \"Leatha Face\": [0.69, 0.0, 0.498], \"La the Darkman\": [0.69, 0.0, 0.498], \"Kelis\": [0.69, 0.0, 0.498], \"Chip Banks\": [0.69, 0.0, 0.498], \"Ms. Roxy\": [0.69, 0.0, 0.498], \"Dom Pachino\": [0.69, 0.0, 0.498], \"Jayms Madison\": [0.69, 0.0, 0.498], \"E3\": [0.69, 0.0, 0.498], \"Booster\": [0.69, 0.0, 0.498], \"Missy Elliott\": [0.69, 0.0, 0.498], \"Flavor Flav\": [0.69, 0.0, 0.498], \"DJ Kayslay\": [0.69, 0.0, 0.498], \"Prodigal Sunn\": [0.69, 0.0, 0.498], \"Left Eye\": [0.69, 0.0, 0.498], \"Boo Kapone\": [0.69, 0.0, 0.498], \"Angel Cake\": [0.69, 0.0, 0.498], \"Ne-Yo\": [0.69, 0.0, 0.498], \"Sun God\": [0.69, 0.0, 0.498], \"Raekwon\": [0.69, 0.0, 0.498], \"GZA\": [0.69, 0.0, 0.498], \"Blue Raspberry\": [0.69, 0.0, 0.498], \"Kid Capri\": [0.69, 0.0, 0.498], \"P.R. Terror\": [0.69, 0.0, 0.498], \"Capone\": [0.69, 0.0, 0.498], \"Redman\": [0.69, 0.0, 0.498], \"Papa Don\": [0.69, 0.0, 0.498], \"Governor Tools\": [0.69, 0.0, 0.498], \"Joan Davis\": [0.69, 0.0, 0.498], \"Timbo King\": [0.69, 0.0, 0.498], \"Beat Switch\": [0.69, 0.0, 0.498], \"Carlton Fisk\": [0.69, 0.0, 0.498], \"Young Justice\": [0.69, 0.0, 0.498], \"Startel\": [0.69, 0.0, 0.498], \"Star\": [0.69, 0.0, 0.498], \"Big Gipp\": [0.69, 0.0, 0.498], \"Suga Bang Bang\": [0.69, 0.0, 0.498], \"Polite\": [0.69, 0.0, 0.498], \"Masta Killa\": [0.69, 0.0, 0.498], \"Nas\": [0.69, 0.0, 0.498], \"Black Ice\": [0.69, 0.0, 0.498], \"Shadii\": [0.69, 0.0, 0.498], \"Kinetic 9\": [0.69, 0.0, 0.498], \"Chris Rock\": [0.69, 0.0, 0.498], \"Vine Mojica\": [0.69, 0.0, 0.498], \"Zu Keeper\": [0.69, 0.0, 0.498], \"ODB\": [0.69, 0.0, 0.498], \"Amille D. Harris\": [0.69, 0.0, 0.498], \"Madame D\": [0.69, 0.0, 0.498], \"Santi White\": [0.69, 0.0, 0.498], \"Cool & Dre\": [0.69, 0.0, 0.498], \"Dexter Wiggle\": [0.69, 0.0, 0.498], \"Cappadonna\": [0.69, 0.0, 0.498], \"Madame Majestic\": [0.69, 0.0, 0.498], \"Ron Isley\": [0.69, 0.0, 0.498], \"Ruff Endz\": [0.69, 0.0, 0.498], \"Buddha Monk\": [0.69, 0.0, 0.498], \"Trife da God\": [0.69, 0.0, 0.498], \"Ghostface Killah\": [0.69, 0.0, 0.498], \"Snoop Dogg\": [0.69, 0.0, 0.498], \"Kanye West\": [0.69, 0.0, 0.498], \"Gerald Alston\": [0.69, 0.0, 0.498], \"Twiz\": [0.69, 0.0, 0.498], \"The Delfonics\": [0.69, 0.0, 0.498], \"Dreddy Kruger\": [0.69, 0.0, 0.498], \"Doc Gyneco\": [0.69, 0.0, 0.498], \"Music Soulchild\": [0.69, 0.0, 0.498], \"Ice Water Inc.\": [0.69, 0.0, 0.498], \"Solomon Childs\": [0.69, 0.0, 0.498], \"12 O\\u2019Clock\": [0.69, 0.0, 0.498], \"Ultra\": [0.69, 0.0, 0.498], \"Shift Shi Yan Ming\": [0.69, 0.0, 0.498], \"Crisis\": [0.69, 0.0, 0.498], \"Tiffany Villarreal\": [0.69, 0.0, 0.498], \"Kardinal Offishall\": [0.69, 0.0, 0.498], \"The Notorious B.I.G.\": [0.69, 0.0, 0.498], \"Killa Sin\": [0.69, 0.0, 0.498], \"Mr. Porter\": [0.69, 0.0, 0.498], \"Havoc\": [0.69, 0.0, 0.498], \"Megan Rochell\": [0.69, 0.0, 0.498], \"MC Eiht\": [0.69, 0.0, 0.498], \"Victorious\": [0.69, 0.0, 0.498], \"Doc Doom\": [0.69, 0.0, 0.498], \"Mathematics\": [0.69, 0.0, 0.498], \"Ebony Burke\": [0.69, 0.0, 0.498], \"Njeri Earth\": [0.69, 0.0, 0.498], \"Paulissa Moorman\": [0.69, 0.0, 0.498], \"Junior Reid\": [0.69, 0.0, 0.498], \"Squeak Ru\": [0.69, 0.0, 0.498], \"Santigold\": [0.69, 0.0, 0.498], \"Ginuwine\": [0.69, 0.0, 0.498], \"Erica Bryant\": [0.69, 0.0, 0.498], \"Shorty S\": [0.69, 0.0, 0.498], \"9th Prince\": [0.69, 0.0, 0.498], \"Saukrates\": [0.69, 0.0, 0.498], \"Beretta 9\": [0.69, 0.0, 0.498], \"Trigga\": [0.69, 0.0, 0.498], \"Murduc\": [0.69, 0.0, 0.498], \"Uncle Pete\": [0.69, 0.0, 0.498], \"RZA\": [0.69, 0.0, 0.498], \"Hell Razah\": [0.69, 0.0, 0.498], \"CCF Division\": [0.69, 0.0, 0.498], \"Joi Star\": [0.69, 0.0, 0.498], \"Monk\": [0.69, 0.0, 0.498], \"Free Murder\": [0.69, 0.0, 0.498], \"Big Bub\": [0.69, 0.0, 0.498], \"Amy Winehouse\": [0.69, 0.0, 0.498], \"Fat Joe\": [0.69, 0.0, 0.498], \"Cho-Flo\": [0.69, 0.0, 0.498], \"K. Fox\": [0.69, 0.0, 0.498], \"Erykah Badu\": [0.69, 0.0, 0.498], \"Jamie Sommers\": [0.69, 0.0, 0.498], \"Rhythm Roots Allstars\": [0.69, 0.0, 0.498], \"Mr. Maygreen\": [0.69, 0.0, 0.498], \"Eamon\": [0.69, 0.0, 0.498], \"Shawn Wigs\": [0.69, 0.0, 0.498], \"Trife\": [0.69, 0.0, 0.498], \"Crummie Beats\": [0.69, 0.0, 0.498], \"Armel\": [0.69, 0.0, 0.498], \"Bennie Sigel\": [0.69, 0.0, 0.498], \"Mojehan\": [0.69, 0.0, 0.498], \"Mary J. Blige\": [0.69, 0.0, 0.498], \"60 Second Assassin\": [0.69, 0.0, 0.498]}, \"v_offset\": 0.03}, \"view_components\": [\"View\"], \"type\": \"SGraph\", \"descriptives_links\": {\"edges\": \"edges\", \"vertices\": \"vertices\"}, \"descriptives\": {\"edges\": 440, \"vertices\": 203}}, \"positions\": null, \"error_type\": 0, \"vertices\": [\"Buddha Monk\", \"Bulletproof Wallets\", \"Cappadonna\", \"Cuetrax\", \"DJ Kayslay\", \"Golden Arms Redemption\", \"Hell Razah\", \"Immobilarity\", \"K. Born\", \"K. Fox\", \"MC Eiht\", \"Madame Cez\", \"Monk\", \"Ne-Yo\", \"P.R. Terror\", \"Popa Wu\", \"Shamel, Kareem & Jamel\", \"Shawn Wigs\", \"Ski\", \"Sunny Valentine\", \"Superb\", \"The Pretty Toney Album\", \"Angela Yee\", \"Big Bub\", \"Bobby Digital in Stereo\", \"CCF Division\", \"Carl Thomas\", \"Cilvaringz\", \"Gerald Alston\", \"Havoc\", \"Janet Jackson\", \"Kanye West\", \"Kardinal Offishall\", \"Kim Stephens\", \"Kinetic 9\", \"Lil\\u2019 Mo\", \"Mojehan\", \"Mr. Xcitement\", \"Music Soulchild\", \"Njeri Earth\", \"Puff Daddy\", \"RZA\", \"Res\", \"Return to the 36 Chambers: The Dirty Version\", \"Streetlife\", \"The Force M.D.s\", \"Angel Cake\", \"Anthony Allen\", \"Ebony Burke\", \"Enter the Wu-Tang (36 Chambers)\", \"Flavor Flav\", \"Ginuwine\", \"Ironman\", \"Jacki-O\", \"Joi Star\", \"Kool G Rap\", \"Liquid Swords\", \"Ludacris\", \"Mathematics\", \"Megan Rochell\", \"The W\", \"Tical\", \"Wu-Tang Forever\", \"Young Justice\", \"Allah Real\", \"Beat Switch\", \"Carlton Fisk\", \"Doc Doom\", \"Intrigue\", \"Kelis\", \"Killa Sin\", \"Leatha Face\", \"Madame Majestic\", \"Made in Brooklyn\", \"Mary J. Blige\", \"Method Man\", \"Mizzza\", \"More Fish\", \"Shyheim\", \"Styles P\", \"Tiffany Villarreal\", \"Uncontrolled Substance\", \"Xavier Naidoo\", \"4:21\\u2026The Day After\", \"60 Second Assassin\", \"Armel\", \"Beretta 9\", \"Boo Kapone\", \"Ch\", \"Chip Banks\", \"Digital Bullet\", \"Doc Gyneco\", \"D\\u2019Angelo\", \"Erykah Badu\", \"George Clinton\", \"Governor Tools\", \"Iron Flag\", \"Isaac Hayes\", \"Islord\", \"Jadakiss\", \"Kid Capri\", \"Left Eye\", \"Legend of the Liquid Sword\", \"Mr. Maygreen\", \"Mr. Porter\", \"Murduc\", \"Nas\", \"No Said Date\", \"ODB\", \"Prodigal Sunn\", \"Ras Kass\", \"Ruff Endz\", \"Shadii\", \"Sheek Louch\", \"Shorty S\", \"Solomon Childs\", \"Suga Bang Bang\", \"The Willie Cottrell Band\", \"Trife da God\", \"Trigga\", \"U-God\", \"Ultra\", \"Uncle Pete\", \"Victorious\", \"Vine Mojica\", \"Zu Keeper\", \"American Cream Team\", \"Bennie Sigel\", \"Blue Raspberry\", \"Chris Rock\", \"Cool & Dre\", \"Crisis\", \"Dom Pachino\", \"Eamon\", \"GZA\", \"Jayms Madison\", \"Joan Davis\", \"La the Darkman\", \"Ms. Roxy\", \"Paulissa Moorman\", \"Redman\", \"Santi White\", \"Tash Mahogany\", \"Timbo King\", \"Twiz\", \"12 O\\u2019Clock\", \"8 Diagrams\", \"Amy Winehouse\", \"Beneath the Surface\", \"Big Gipp\", \"Booster\", \"Busta Rhymes\", \"Capone\", \"Cho-Flo\", \"Dexter Wiggle\", \"Dreddy Kruger\", \"Fat Joe\", \"IAM\", \"Missy Elliott\", \"Papa Don\", \"Rhythm Roots Allstars\", \"Ron Isley\", \"Santigold\", \"Saukrates\", \"Sun God\", \"Supreme Clientele\", \"Tekitha\", \"The Delfonics\", \"The Lex Diamond Story\", \"The Movement\", \"The Notorious B.I.G.\", \"Tical 0: The Prequel\", \"Trife\", \"_____ Please\", \"9th Prince\", \"Amille D. Harris\", \"Birth of a Prince\", \"Black Ice\", \"Chrisette Michele\", \"Crummie Beats\", \"E3\", \"Ed Lover\", \"Erica Bryant\", \"Fishscale\", \"Free Murder\", \"Ghostface Killah\", \"Ice Water Inc.\", \"Inspectah Deck\", \"Jamie Sommers\", \"Junior Reid\", \"Killah Priest\", \"Madame D\", \"Masta Killa\", \"Only Built 4 Cuban Linx\\u2026\", \"Polite\", \"Raekwon\", \"Shift Shi Yan Ming\", \"Snoop Dogg\", \"Squeak Ru\", \"Star\", \"Startel\", \"The Big Doe Rehab\", \"Tical 2000: Judgement Day\"], \"vertices_labels\": [\"Buddha Monk\", \"Bulletproof Wallets\", \"Cappadonna\", \"Cuetrax\", \"DJ Kayslay\", \"Golden Arms Redemption\", \"Hell Razah\", \"Immobilarity\", \"K. Born\", \"K. Fox\", \"MC Eiht\", \"Madame Cez\", \"Monk\", \"Ne-Yo\", \"P.R. Terror\", \"Popa Wu\", \"Shamel, Kareem & Jamel\", \"Shawn Wigs\", \"Ski\", \"Sunny Valentine\", \"Superb\", \"The Pretty Toney Album\", \"Angela Yee\", \"Big Bub\", \"Bobby Digital in Stereo\", \"CCF Division\", \"Carl Thomas\", \"Cilvaringz\", \"Gerald Alston\", \"Havoc\", \"Janet Jackson\", \"Kanye West\", \"Kardinal Offishall\", \"Kim Stephens\", \"Kinetic 9\", \"Lil\\u2019 Mo\", \"Mojehan\", \"Mr. Xcitement\", \"Music Soulchild\", \"Njeri Earth\", \"Puff Daddy\", \"RZA\", \"Res\", \"Return to the 36 Chambers: The Dirty Version\", \"Streetlife\", \"The Force M.D.s\", \"Angel Cake\", \"Anthony Allen\", \"Ebony Burke\", \"Enter the Wu-Tang (36 Chambers)\", \"Flavor Flav\", \"Ginuwine\", \"Ironman\", \"Jacki-O\", \"Joi Star\", \"Kool G Rap\", \"Liquid Swords\", \"Ludacris\", \"Mathematics\", \"Megan Rochell\", \"The W\", \"Tical\", \"Wu-Tang Forever\", \"Young Justice\", \"Allah Real\", \"Beat Switch\", \"Carlton Fisk\", \"Doc Doom\", \"Intrigue\", \"Kelis\", \"Killa Sin\", \"Leatha Face\", \"Madame Majestic\", \"Made in Brooklyn\", \"Mary J. Blige\", \"Method Man\", \"Mizzza\", \"More Fish\", \"Shyheim\", \"Styles P\", \"Tiffany Villarreal\", \"Uncontrolled Substance\", \"Xavier Naidoo\", \"4:21\\u2026The Day After\", \"60 Second Assassin\", \"Armel\", \"Beretta 9\", \"Boo Kapone\", \"Ch\", \"Chip Banks\", \"Digital Bullet\", \"Doc Gyneco\", \"D\\u2019Angelo\", \"Erykah Badu\", \"George Clinton\", \"Governor Tools\", \"Iron Flag\", \"Isaac Hayes\", \"Islord\", \"Jadakiss\", \"Kid Capri\", \"Left Eye\", \"Legend of the Liquid Sword\", \"Mr. Maygreen\", \"Mr. Porter\", \"Murduc\", \"Nas\", \"No Said Date\", \"ODB\", \"Prodigal Sunn\", \"Ras Kass\", \"Ruff Endz\", \"Shadii\", \"Sheek Louch\", \"Shorty S\", \"Solomon Childs\", \"Suga Bang Bang\", \"The Willie Cottrell Band\", \"Trife da God\", \"Trigga\", \"U-God\", \"Ultra\", \"Uncle Pete\", \"Victorious\", \"Vine Mojica\", \"Zu Keeper\", \"American Cream Team\", \"Bennie Sigel\", \"Blue Raspberry\", \"Chris Rock\", \"Cool & Dre\", \"Crisis\", \"Dom Pachino\", \"Eamon\", \"GZA\", \"Jayms Madison\", \"Joan Davis\", \"La the Darkman\", \"Ms. Roxy\", \"Paulissa Moorman\", \"Redman\", \"Santi White\", \"Tash Mahogany\", \"Timbo King\", \"Twiz\", \"12 O\\u2019Clock\", \"8 Diagrams\", \"Amy Winehouse\", \"Beneath the Surface\", \"Big Gipp\", \"Booster\", \"Busta Rhymes\", \"Capone\", \"Cho-Flo\", \"Dexter Wiggle\", \"Dreddy Kruger\", \"Fat Joe\", \"IAM\", \"Missy Elliott\", \"Papa Don\", \"Rhythm Roots Allstars\", \"Ron Isley\", \"Santigold\", \"Saukrates\", \"Sun God\", \"Supreme Clientele\", \"Tekitha\", \"The Delfonics\", \"The Lex Diamond Story\", \"The Movement\", \"The Notorious B.I.G.\", \"Tical 0: The Prequel\", \"Trife\", \"_____ Please\", \"9th Prince\", \"Amille D. Harris\", \"Birth of a Prince\", \"Black Ice\", \"Chrisette Michele\", \"Crummie Beats\", \"E3\", \"Ed Lover\", \"Erica Bryant\", \"Fishscale\", \"Free Murder\", \"Ghostface Killah\", \"Ice Water Inc.\", \"Inspectah Deck\", \"Jamie Sommers\", \"Junior Reid\", \"Killah Priest\", \"Madame D\", \"Masta Killa\", \"Only Built 4 Cuban Linx\\u2026\", \"Polite\", \"Raekwon\", \"Shift Shi Yan Ming\", \"Snoop Dogg\", \"Squeak Ru\", \"Star\", \"Startel\", \"The Big Doe Rehab\", \"Tical 2000: Judgement Day\"], \"edges\": [[\"The Pretty Toney Album\", \"K. Fox\"], [\"Golden Arms Redemption\", \"Hell Razah\"], [\"Bulletproof Wallets\", \"Superb\"], [\"The Pretty Toney Album\", \"Music Soulchild\"], [\"Immobilarity\", \"Big Bub\"], [\"Immobilarity\", \"Kim Stephens\"], [\"Bulletproof Wallets\", \"Carl Thomas\"], [\"The Pretty Toney Album\", \"Jacki-O\"], [\"Golden Arms Redemption\", \"Method Man\"], [\"Golden Arms Redemption\", \"Leatha Face\"], [\"Immobilarity\", \"Method Man\"], [\"Bulletproof Wallets\", \"Method Man\"], [\"Bulletproof Wallets\", \"Madame Majestic\"], [\"Bulletproof Wallets\", \"Killa Sin\"], [\"The Pretty Toney Album\", \"Styles P\"], [\"The Pretty Toney Album\", \"Allah Real\"], [\"Golden Arms Redemption\", \"U-God\"], [\"Bulletproof Wallets\", \"Ruff Endz\"], [\"Bulletproof Wallets\", \"Prodigal Sunn\"], [\"The Pretty Toney Album\", \"Trife da God\"], [\"The Pretty Toney Album\", \"Sheek Louch\"], [\"The Pretty Toney Album\", \"Jadakiss\"], [\"Immobilarity\", \"American Cream Team\"], [\"Bulletproof Wallets\", \"Twiz\"], [\"Bulletproof Wallets\", \"Trife\"], [\"Bulletproof Wallets\", \"Tekitha\"], [\"The Pretty Toney Album\", \"Missy Elliott\"], [\"Golden Arms Redemption\", \"Raekwon\"], [\"Golden Arms Redemption\", \"Inspectah Deck\"], [\"Immobilarity\", \"Raekwon\"], [\"Immobilarity\", \"Masta Killa\"], [\"Bulletproof Wallets\", \"Ghostface Killah\"], [\"Bulletproof Wallets\", \"Raekwon\"], [\"The Pretty Toney Album\", \"Ghostface Killah\"], [\"Mr. Xcitement\", \"MC Eiht\"], [\"Mr. Xcitement\", \"Cuetrax\"], [\"Return to the 36 Chambers: The Dirty Version\", \"Buddha Monk\"], [\"Bobby Digital in Stereo\", \"P.R. Terror\"], [\"Return to the 36 Chambers: The Dirty Version\", \"RZA\"], [\"Bobby Digital in Stereo\", \"RZA\"], [\"Bobby Digital in Stereo\", \"The Force M.D.s\"], [\"Bobby Digital in Stereo\", \"Kinetic 9\"], [\"Mr. Xcitement\", \"Ebony Burke\"], [\"Bobby Digital in Stereo\", \"Angel Cake\"], [\"Mr. Xcitement\", \"Leatha Face\"], [\"Return to the 36 Chambers: The Dirty Version\", \"Method Man\"], [\"Bobby Digital in Stereo\", \"Method Man\"], [\"Bobby Digital in Stereo\", \"Doc Doom\"], [\"Bobby Digital in Stereo\", \"Killa Sin\"], [\"Mr. Xcitement\", \"U-God\"], [\"Mr. Xcitement\", \"Boo Kapone\"], [\"Return to the 36 Chambers: The Dirty Version\", \"ODB\"], [\"Return to the 36 Chambers: The Dirty Version\", \"Prodigal Sunn\"], [\"Return to the 36 Chambers: The Dirty Version\", \"Zu Keeper\"], [\"Return to the 36 Chambers: The Dirty Version\", \"Murduc\"], [\"Return to the 36 Chambers: The Dirty Version\", \"Shorty S\"], [\"Return to the 36 Chambers: The Dirty Version\", \"60 Second Assassin\"], [\"Bobby Digital in Stereo\", \"ODB\"], [\"Bobby Digital in Stereo\", \"U-God\"], [\"Bobby Digital in Stereo\", \"Islord\"], [\"Bobby Digital in Stereo\", \"Ras Kass\"], [\"Return to the 36 Chambers: The Dirty Version\", \"GZA\"], [\"Bobby Digital in Stereo\", \"Ms. Roxy\"], [\"Bobby Digital in Stereo\", \"Dom Pachino\"], [\"Bobby Digital in Stereo\", \"Timbo King\"], [\"Return to the 36 Chambers: The Dirty Version\", \"12 O\\u2019Clock\"], [\"Bobby Digital in Stereo\", \"Tekitha\"], [\"Mr. Xcitement\", \"Squeak Ru\"], [\"Return to the 36 Chambers: The Dirty Version\", \"Ghostface Killah\"], [\"Return to the 36 Chambers: The Dirty Version\", \"Raekwon\"], [\"Return to the 36 Chambers: The Dirty Version\", \"Masta Killa\"], [\"Return to the 36 Chambers: The Dirty Version\", \"Killah Priest\"], [\"Bobby Digital in Stereo\", \"Ghostface Killah\"], [\"Bobby Digital in Stereo\", \"Masta Killa\"], [\"Bobby Digital in Stereo\", \"Jamie Sommers\"], [\"Bobby Digital in Stereo\", \"9th Prince\"], [\"Ironman\", \"Cappadonna\"], [\"Enter the Wu-Tang (36 Chambers)\", \"Buddha Monk\"], [\"Wu-Tang Forever\", \"Popa Wu\"], [\"Wu-Tang Forever\", \"Cappadonna\"], [\"The W\", \"Cappadonna\"], [\"The W\", \"DJ Kayslay\"], [\"Ironman\", \"RZA\"], [\"Liquid Swords\", \"RZA\"], [\"Tical\", \"RZA\"], [\"Tical\", \"Streetlife\"], [\"Enter the Wu-Tang (36 Chambers)\", \"RZA\"], [\"Wu-Tang Forever\", \"RZA\"], [\"Wu-Tang Forever\", \"Streetlife\"], [\"The W\", \"RZA\"], [\"The W\", \"Streetlife\"], [\"Ironman\", \"Method Man\"], [\"Ironman\", \"Mary J. Blige\"], [\"Liquid Swords\", \"Method Man\"], [\"Tical\", \"Method Man\"], [\"Tical\", \"Carlton Fisk\"], [\"Enter the Wu-Tang (36 Chambers)\", \"Method Man\"], [\"Wu-Tang Forever\", \"Method Man\"], [\"Wu-Tang Forever\", \"Shyheim\"], [\"The W\", \"Method Man\"], [\"Ironman\", \"U-God\"], [\"Liquid Swords\", \"ODB\"], [\"Liquid Swords\", \"U-God\"], [\"Enter the Wu-Tang (36 Chambers)\", \"ODB\"], [\"Enter the Wu-Tang (36 Chambers)\", \"U-God\"], [\"Wu-Tang Forever\", \"ODB\"], [\"Wu-Tang Forever\", \"U-God\"], [\"Wu-Tang Forever\", \"Uncle Pete\"], [\"The W\", \"ODB\"], [\"The W\", \"U-God\"], [\"The W\", \"Nas\"], [\"The W\", \"Isaac Hayes\"], [\"Liquid Swords\", \"GZA\"], [\"Tical\", \"Blue Raspberry\"], [\"Enter the Wu-Tang (36 Chambers)\", \"GZA\"], [\"Wu-Tang Forever\", \"GZA\"], [\"Wu-Tang Forever\", \"Ms. Roxy\"], [\"Wu-Tang Forever\", \"Dom Pachino\"], [\"The W\", \"GZA\"], [\"The W\", \"Redman\"], [\"The W\", \"Paulissa Moorman\"], [\"Ironman\", \"The Delfonics\"], [\"Wu-Tang Forever\", \"Tekitha\"], [\"Wu-Tang Forever\", \"Dreddy Kruger\"], [\"The W\", \"Busta Rhymes\"], [\"Ironman\", \"Ghostface Killah\"], [\"Ironman\", \"Raekwon\"], [\"Ironman\", \"Inspectah Deck\"], [\"Ironman\", \"Masta Killa\"], [\"Liquid Swords\", \"Ghostface Killah\"], [\"Liquid Swords\", \"Raekwon\"], [\"Liquid Swords\", \"Inspectah Deck\"], [\"Liquid Swords\", \"Masta Killa\"], [\"Liquid Swords\", \"Killah Priest\"], [\"Tical\", \"Raekwon\"], [\"Tical\", \"Inspectah Deck\"], [\"Enter the Wu-Tang (36 Chambers)\", \"Ghostface Killah\"], [\"Enter the Wu-Tang (36 Chambers)\", \"Raekwon\"], [\"Enter the Wu-Tang (36 Chambers)\", \"Inspectah Deck\"], [\"Enter the Wu-Tang (36 Chambers)\", \"Masta Killa\"], [\"Wu-Tang Forever\", \"Ghostface Killah\"], [\"Wu-Tang Forever\", \"Raekwon\"], [\"Wu-Tang Forever\", \"Inspectah Deck\"], [\"Wu-Tang Forever\", \"Masta Killa\"], [\"The W\", \"Ghostface Killah\"], [\"The W\", \"Raekwon\"], [\"The W\", \"Inspectah Deck\"], [\"The W\", \"Masta Killa\"], [\"The W\", \"Junior Reid\"], [\"The W\", \"Snoop Dogg\"], [\"More Fish\", \"Cappadonna\"], [\"More Fish\", \"Shawn Wigs\"], [\"More Fish\", \"Ne-Yo\"], [\"Made in Brooklyn\", \"Shamel, Kareem & Jamel\"], [\"Made in Brooklyn\", \"K. Born\"], [\"Made in Brooklyn\", \"Ski\"], [\"More Fish\", \"Kanye West\"], [\"Made in Brooklyn\", \"RZA\"], [\"Uncontrolled Substance\", \"Streetlife\"], [\"More Fish\", \"Killa Sin\"], [\"Made in Brooklyn\", \"Method Man\"], [\"Made in Brooklyn\", \"Killa Sin\"], [\"Uncontrolled Substance\", \"Killa Sin\"], [\"More Fish\", \"Trife da God\"], [\"More Fish\", \"Mr. Maygreen\"], [\"More Fish\", \"The Willie Cottrell Band\"], [\"More Fish\", \"Solomon Childs\"], [\"More Fish\", \"Sheek Louch\"], [\"Made in Brooklyn\", \"U-God\"], [\"Made in Brooklyn\", \"Victorious\"], [\"Made in Brooklyn\", \"Governor Tools\"], [\"Uncontrolled Substance\", \"U-God\"], [\"Uncontrolled Substance\", \"Beretta 9\"], [\"Uncontrolled Substance\", \"Shadii\"], [\"Uncontrolled Substance\", \"Vine Mojica\"], [\"More Fish\", \"Redman\"], [\"More Fish\", \"Eamon\"], [\"Made in Brooklyn\", \"GZA\"], [\"Uncontrolled Substance\", \"La the Darkman\"], [\"More Fish\", \"Sun God\"], [\"More Fish\", \"Amy Winehouse\"], [\"More Fish\", \"Ghostface Killah\"], [\"Made in Brooklyn\", \"Ghostface Killah\"], [\"Made in Brooklyn\", \"Raekwon\"], [\"Made in Brooklyn\", \"Inspectah Deck\"], [\"Made in Brooklyn\", \"Masta Killa\"], [\"Made in Brooklyn\", \"Startel\"], [\"Made in Brooklyn\", \"Free Murder\"], [\"Uncontrolled Substance\", \"Inspectah Deck\"], [\"Uncontrolled Substance\", \"Masta Killa\"], [\"No Said Date\", \"Shamel, Kareem & Jamel\"], [\"Digital Bullet\", \"Madame Cez\"], [\"Digital Bullet\", \"Monk\"], [\"Iron Flag\", \"Cappadonna\"], [\"No Said Date\", \"RZA\"], [\"No Said Date\", \"Streetlife\"], [\"4:21\\u2026The Day After\", \"RZA\"], [\"4:21\\u2026The Day After\", \"Streetlife\"], [\"Digital Bullet\", \"Cilvaringz\"], [\"Legend of the Liquid Sword\", \"RZA\"], [\"Legend of the Liquid Sword\", \"Streetlife\"], [\"Iron Flag\", \"RZA\"], [\"Iron Flag\", \"Streetlife\"], [\"Digital Bullet\", \"RZA\"], [\"Digital Bullet\", \"Streetlife\"], [\"Digital Bullet\", \"The Force M.D.s\"], [\"4:21\\u2026The Day After\", \"Ginuwine\"], [\"4:21\\u2026The Day After\", \"Megan Rochell\"], [\"Legend of the Liquid Sword\", \"Young Justice\"], [\"Legend of the Liquid Sword\", \"Anthony Allen\"], [\"Iron Flag\", \"Flavor Flav\"], [\"No Said Date\", \"Method Man\"], [\"No Said Date\", \"Allah Real\"], [\"4:21\\u2026The Day After\", \"Method Man\"], [\"4:21\\u2026The Day After\", \"Carlton Fisk\"], [\"4:21\\u2026The Day After\", \"Styles P\"], [\"Digital Bullet\", \"Killa Sin\"], [\"Digital Bullet\", \"Intrigue\"], [\"Iron Flag\", \"Method Man\"], [\"Iron Flag\", \"Beat Switch\"], [\"Digital Bullet\", \"Method Man\"], [\"No Said Date\", \"ODB\"], [\"No Said Date\", \"U-God\"], [\"No Said Date\", \"Prodigal Sunn\"], [\"4:21\\u2026The Day After\", \"ODB\"], [\"4:21\\u2026The Day After\", \"U-God\"], [\"Digital Bullet\", \"Prodigal Sunn\"], [\"Digital Bullet\", \"Solomon Childs\"], [\"Digital Bullet\", \"Isaac Hayes\"], [\"Digital Bullet\", \"Doc Gyneco\"], [\"Legend of the Liquid Sword\", \"Governor Tools\"], [\"Legend of the Liquid Sword\", \"Armel\"], [\"Legend of the Liquid Sword\", \"Prodigal Sunn\"], [\"Iron Flag\", \"U-God\"], [\"Iron Flag\", \"Suga Bang Bang\"], [\"Iron Flag\", \"Prodigal Sunn\"], [\"Digital Bullet\", \"ODB\"], [\"Digital Bullet\", \"Beretta 9\"], [\"No Said Date\", \"GZA\"], [\"4:21\\u2026The Day After\", \"La the Darkman\"], [\"4:21\\u2026The Day After\", \"Redman\"], [\"Digital Bullet\", \"Crisis\"], [\"Legend of the Liquid Sword\", \"GZA\"], [\"Legend of the Liquid Sword\", \"Santi White\"], [\"Iron Flag\", \"GZA\"], [\"Digital Bullet\", \"GZA\"], [\"4:21\\u2026The Day After\", \"Fat Joe\"], [\"Digital Bullet\", \"Tekitha\"], [\"Legend of the Liquid Sword\", \"12 O\\u2019Clock\"], [\"Iron Flag\", \"12 O\\u2019Clock\"], [\"Iron Flag\", \"Ron Isley\"], [\"Digital Bullet\", \"Big Gipp\"], [\"No Said Date\", \"Ghostface Killah\"], [\"No Said Date\", \"Raekwon\"], [\"No Said Date\", \"Inspectah Deck\"], [\"No Said Date\", \"Masta Killa\"], [\"No Said Date\", \"Killah Priest\"], [\"4:21\\u2026The Day After\", \"Raekwon\"], [\"4:21\\u2026The Day After\", \"Inspectah Deck\"], [\"Digital Bullet\", \"Jamie Sommers\"], [\"Digital Bullet\", \"Junior Reid\"], [\"Legend of the Liquid Sword\", \"Ghostface Killah\"], [\"Legend of the Liquid Sword\", \"Inspectah Deck\"], [\"Legend of the Liquid Sword\", \"Masta Killa\"], [\"Iron Flag\", \"Ghostface Killah\"], [\"Iron Flag\", \"Raekwon\"], [\"Iron Flag\", \"Inspectah Deck\"], [\"Iron Flag\", \"Masta Killa\"], [\"Iron Flag\", \"Madame D\"], [\"Digital Bullet\", \"Masta Killa\"], [\"The Lex Diamond Story\", \"Cappadonna\"], [\"Supreme Clientele\", \"Superb\"], [\"Supreme Clientele\", \"Cappadonna\"], [\"Supreme Clientele\", \"Hell Razah\"], [\"Beneath the Surface\", \"Hell Razah\"], [\"8 Diagrams\", \"Cappadonna\"], [\"8 Diagrams\", \"Sunny Valentine\"], [\"The Movement\", \"Streetlife\"], [\"The Movement\", \"Mojehan\"], [\"Tical 0: The Prequel\", \"RZA\"], [\"Tical 0: The Prequel\", \"Streetlife\"], [\"Tical 0: The Prequel\", \"Kardinal Offishall\"], [\"The Lex Diamond Story\", \"Havoc\"], [\"Supreme Clientele\", \"RZA\"], [\"Beneath the Surface\", \"RZA\"], [\"Beneath the Surface\", \"Res\"], [\"Beneath the Surface\", \"Njeri Earth\"], [\"Beneath the Surface\", \"Angela Yee\"], [\"_____ Please\", \"Lil\\u2019 Mo\"], [\"8 Diagrams\", \"RZA\"], [\"8 Diagrams\", \"Gerald Alston\"], [\"8 Diagrams\", \"Streetlife\"], [\"The Movement\", \"Kool G Rap\"], [\"Tical 0: The Prequel\", \"Ludacris\"], [\"Supreme Clientele\", \"Mathematics\"], [\"The Movement\", \"Killa Sin\"], [\"Tical 0: The Prequel\", \"Method Man\"], [\"The Lex Diamond Story\", \"Method Man\"], [\"The Lex Diamond Story\", \"Mizzza\"], [\"The Lex Diamond Story\", \"Tiffany Villarreal\"], [\"Supreme Clientele\", \"Method Man\"], [\"Beneath the Surface\", \"Method Man\"], [\"_____ Please\", \"Kelis\"], [\"8 Diagrams\", \"Method Man\"], [\"Tical 0: The Prequel\", \"Mr. Porter\"], [\"Tical 0: The Prequel\", \"Ch\"], [\"The Lex Diamond Story\", \"Sheek Louch\"], [\"The Lex Diamond Story\", \"Ultra\"], [\"Supreme Clientele\", \"U-God\"], [\"Supreme Clientele\", \"Chip Banks\"], [\"Supreme Clientele\", \"Solomon Childs\"], [\"Beneath the Surface\", \"ODB\"], [\"Beneath the Surface\", \"Trigga\"], [\"Beneath the Surface\", \"Prodigal Sunn\"], [\"_____ Please\", \"ODB\"], [\"_____ Please\", \"Zu Keeper\"], [\"_____ Please\", \"Shorty S\"], [\"8 Diagrams\", \"U-God\"], [\"8 Diagrams\", \"Erykah Badu\"], [\"8 Diagrams\", \"George Clinton\"], [\"Tical 0: The Prequel\", \"Redman\"], [\"Supreme Clientele\", \"GZA\"], [\"Supreme Clientele\", \"Redman\"], [\"Beneath the Surface\", \"GZA\"], [\"Beneath the Surface\", \"Timbo King\"], [\"Beneath the Surface\", \"Joan Davis\"], [\"Beneath the Surface\", \"La the Darkman\"], [\"_____ Please\", \"Chris Rock\"], [\"_____ Please\", \"La the Darkman\"], [\"8 Diagrams\", \"GZA\"], [\"8 Diagrams\", \"Tash Mahogany\"], [\"Tical 0: The Prequel\", \"Missy Elliott\"], [\"Tical 0: The Prequel\", \"Busta Rhymes\"], [\"Tical 0: The Prequel\", \"Saukrates\"], [\"Tical 0: The Prequel\", \"IAM\"], [\"The Lex Diamond Story\", \"Fat Joe\"], [\"The Lex Diamond Story\", \"Capone\"], [\"The Lex Diamond Story\", \"Tekitha\"], [\"Beneath the Surface\", \"Santigold\"], [\"Beneath the Surface\", \"Dreddy Kruger\"], [\"_____ Please\", \"12 O\\u2019Clock\"], [\"8 Diagrams\", \"Dexter Wiggle\"], [\"The Movement\", \"Inspectah Deck\"], [\"Tical 0: The Prequel\", \"Ghostface Killah\"], [\"Tical 0: The Prequel\", \"Raekwon\"], [\"Tical 0: The Prequel\", \"Snoop Dogg\"], [\"Tical 0: The Prequel\", \"E3\"], [\"Tical 0: The Prequel\", \"Black Ice\"], [\"The Lex Diamond Story\", \"Ghostface Killah\"], [\"The Lex Diamond Story\", \"Raekwon\"], [\"The Lex Diamond Story\", \"Inspectah Deck\"], [\"The Lex Diamond Story\", \"Masta Killa\"], [\"The Lex Diamond Story\", \"Crummie Beats\"], [\"The Lex Diamond Story\", \"Polite\"], [\"The Lex Diamond Story\", \"Ice Water Inc.\"], [\"Supreme Clientele\", \"Ghostface Killah\"], [\"Supreme Clientele\", \"Raekwon\"], [\"Supreme Clientele\", \"Masta Killa\"], [\"Beneath the Surface\", \"Masta Killa\"], [\"Beneath the Surface\", \"Killah Priest\"], [\"8 Diagrams\", \"Ghostface Killah\"], [\"8 Diagrams\", \"Raekwon\"], [\"8 Diagrams\", \"Inspectah Deck\"], [\"8 Diagrams\", \"Masta Killa\"], [\"8 Diagrams\", \"Shift Shi Yan Ming\"], [\"Fishscale\", \"Ne-Yo\"], [\"Fishscale\", \"Cappadonna\"], [\"Fishscale\", \"Shawn Wigs\"], [\"The Big Doe Rehab\", \"Shawn Wigs\"], [\"The Big Doe Rehab\", \"Cappadonna\"], [\"Only Built 4 Cuban Linx\\u2026\", \"Cappadonna\"], [\"Tical 2000: Judgement Day\", \"Cappadonna\"], [\"Fishscale\", \"RZA\"], [\"Fishscale\", \"Puff Daddy\"], [\"Tical 2000: Judgement Day\", \"Janet Jackson\"], [\"Only Built 4 Cuban Linx\\u2026\", \"RZA\"], [\"Birth of a Prince\", \"RZA\"], [\"Birth of a Prince\", \"CCF Division\"], [\"Birth of a Prince\", \"Cilvaringz\"], [\"Tical 2000: Judgement Day\", \"Streetlife\"], [\"Fishscale\", \"Megan Rochell\"], [\"The Big Doe Rehab\", \"Joi Star\"], [\"Fishscale\", \"Method Man\"], [\"The Big Doe Rehab\", \"Method Man\"], [\"The Big Doe Rehab\", \"Styles P\"], [\"Only Built 4 Cuban Linx\\u2026\", \"Method Man\"], [\"Birth of a Prince\", \"Allah Real\"], [\"Birth of a Prince\", \"Xavier Naidoo\"], [\"Tical 2000: Judgement Day\", \"Method Man\"], [\"Tical 2000: Judgement Day\", \"Killa Sin\"], [\"Fishscale\", \"U-God\"], [\"Fishscale\", \"Trife da God\"], [\"The Big Doe Rehab\", \"U-God\"], [\"The Big Doe Rehab\", \"Solomon Childs\"], [\"The Big Doe Rehab\", \"Kid Capri\"], [\"The Big Doe Rehab\", \"Trife da God\"], [\"Tical 2000: Judgement Day\", \"D\\u2019Angelo\"], [\"Only Built 4 Cuban Linx\\u2026\", \"U-God\"], [\"Birth of a Prince\", \"ODB\"], [\"Birth of a Prince\", \"Beretta 9\"], [\"Birth of a Prince\", \"Prodigal Sunn\"], [\"Tical 2000: Judgement Day\", \"Left Eye\"], [\"Fishscale\", \"GZA\"], [\"Fishscale\", \"Cool & Dre\"], [\"The Big Doe Rehab\", \"Bennie Sigel\"], [\"The Big Doe Rehab\", \"Jayms Madison\"], [\"Only Built 4 Cuban Linx\\u2026\", \"GZA\"], [\"Only Built 4 Cuban Linx\\u2026\", \"Blue Raspberry\"], [\"Birth of a Prince\", \"Tash Mahogany\"], [\"Tical 2000: Judgement Day\", \"Chris Rock\"], [\"Tical 2000: Judgement Day\", \"Redman\"], [\"Fishscale\", \"Sun God\"], [\"Fishscale\", \"The Notorious B.I.G.\"], [\"The Big Doe Rehab\", \"Rhythm Roots Allstars\"], [\"The Big Doe Rehab\", \"Sun God\"], [\"The Big Doe Rehab\", \"Papa Don\"], [\"Tical 2000: Judgement Day\", \"Booster\"], [\"Tical 2000: Judgement Day\", \"Cho-Flo\"], [\"Fishscale\", \"Ghostface Killah\"], [\"Fishscale\", \"Raekwon\"], [\"Fishscale\", \"Inspectah Deck\"], [\"Fishscale\", \"Masta Killa\"], [\"The Big Doe Rehab\", \"Ghostface Killah\"], [\"The Big Doe Rehab\", \"Raekwon\"], [\"The Big Doe Rehab\", \"Masta Killa\"], [\"The Big Doe Rehab\", \"Amille D. Harris\"], [\"The Big Doe Rehab\", \"Chrisette Michele\"], [\"Only Built 4 Cuban Linx\\u2026\", \"Ghostface Killah\"], [\"Only Built 4 Cuban Linx\\u2026\", \"Raekwon\"], [\"Only Built 4 Cuban Linx\\u2026\", \"Inspectah Deck\"], [\"Only Built 4 Cuban Linx\\u2026\", \"Masta Killa\"], [\"Birth of a Prince\", \"Ghostface Killah\"], [\"Birth of a Prince\", \"Masta Killa\"], [\"Birth of a Prince\", \"Erica Bryant\"], [\"Tical 2000: Judgement Day\", \"Raekwon\"], [\"Tical 2000: Judgement Day\", \"Inspectah Deck\"], [\"Tical 2000: Judgement Day\", \"Masta Killa\"], [\"Tical 2000: Judgement Day\", \"Ed Lover\"], [\"Tical 2000: Judgement Day\", \"Polite\"], [\"Tical 2000: Judgement Day\", \"Star\"]], \"ipython\": true, \"error_msg\": \"\"}, e);\n",
       "                });\n",
       "            })();\n",
       "        "
      ]
     },
     "metadata": {},
     "output_type": "display_data"
    }
   ],
   "source": [
    "import graphlab as gl\n",
    "gl.canvas.set_target('ipynb')\n",
    "\n",
    "sf = gl.SFrame(wutang)\n",
    "g = gl.SGraph()\n",
    "g = g.add_edges(sf,\n",
    "                src_field='Album', \n",
    "                dst_field='Artist')\n",
    "\n",
    "g.show(vlabel='__id', vlabel_hover=True, highlight=sf['Artist'])"
   ]
  },
  {
   "cell_type": "markdown",
   "metadata": {},
   "source": [
    "For all graphs, the artists are in Purple and the albums are in Green.  The graph above includes all artists that have appeared on a Wu-Tang album or a Wu-Tang members' album from 1993 to 2007.  The artists in the center of the graph are the artists that have appeared on the most albums.  The artists outside the Green ring of albums near the center of the graph represent artists that appeared only on one or two albums.  Any album far from the center is an album that features artists that do not appear often on other albums."
   ]
  },
  {
   "cell_type": "code",
   "execution_count": 4,
   "metadata": {},
   "outputs": [
    {
     "data": {
      "application/javascript": [
       "$(\"head\").append($(\"<link/>\").attr({\n",
       "  rel:  \"stylesheet\",\n",
       "  type: \"text/css\",\n",
       "  href: \"//cdnjs.cloudflare.com/ajax/libs/font-awesome/4.1.0/css/font-awesome.min.css\"\n",
       "}));\n",
       "$(\"head\").append($(\"<link/>\").attr({\n",
       "  rel:  \"stylesheet\",\n",
       "  type: \"text/css\",\n",
       "  href: \"https://static.turi.com/products/graphlab-create/2.1/canvas/css/canvas.css\"\n",
       "}));\n",
       "\n",
       "            (function(){\n",
       "\n",
       "                var e = null;\n",
       "                if (typeof element == 'undefined') {\n",
       "                    var scripts = document.getElementsByTagName('script');\n",
       "                    var thisScriptTag = scripts[scripts.length-1];\n",
       "                    var parentDiv = thisScriptTag.parentNode;\n",
       "                    e = document.createElement('div');\n",
       "                    parentDiv.appendChild(e);\n",
       "                } else {\n",
       "                    e = element[0];\n",
       "                }\n",
       "\n",
       "                if (typeof requirejs !== 'undefined') {\n",
       "                    // disable load timeout; ipython_app.js is large and can take a while to load.\n",
       "                    requirejs.config({waitSeconds: 0});\n",
       "                }\n",
       "\n",
       "                require(['https://static.turi.com/products/graphlab-create/2.1/canvas/js/ipython_app.js'], function(IPythonApp){\n",
       "                    var app = new IPythonApp();\n",
       "                    app.attachView('sgraph','View', {\"edges_labels\": null, \"selected_variable\": {\"name\": [\"gMembers\"], \"view_file\": \"sgraph\", \"view_component\": \"View\", \"view_params\": {\"elabel_hover\": false, \"vertex_positions\": null, \"h_offset\": 0.0, \"node_size\": 300, \"ecolor\": [0.37, 0.33, 0.33], \"elabel\": null, \"arrows\": false, \"ewidth\": 1, \"vlabel\": \"__id\", \"highlight_color\": [[0.69, 0.0, 0.498], [0.69, 0.0, 0.498], [0.69, 0.0, 0.498], [0.69, 0.0, 0.498], [0.69, 0.0, 0.498], [0.69, 0.0, 0.498], [0.69, 0.0, 0.498], [0.69, 0.0, 0.498], [0.69, 0.0, 0.498], [0.69, 0.0, 0.498], [0.69, 0.0, 0.498], [0.69, 0.0, 0.498], [0.69, 0.0, 0.498], [0.69, 0.0, 0.498], [0.69, 0.0, 0.498], [0.69, 0.0, 0.498], [0.69, 0.0, 0.498], [0.69, 0.0, 0.498], [0.69, 0.0, 0.498], [0.69, 0.0, 0.498], [0.69, 0.0, 0.498], [0.69, 0.0, 0.498], [0.69, 0.0, 0.498], [0.69, 0.0, 0.498], [0.69, 0.0, 0.498], [0.69, 0.0, 0.498], [0.69, 0.0, 0.498], [0.69, 0.0, 0.498], [0.69, 0.0, 0.498], [0.69, 0.0, 0.498], [0.69, 0.0, 0.498], [0.69, 0.0, 0.498], [0.69, 0.0, 0.498], [0.69, 0.0, 0.498], [0.69, 0.0, 0.498], [0.69, 0.0, 0.498], [0.69, 0.0, 0.498], [0.69, 0.0, 0.498], [0.69, 0.0, 0.498], [0.69, 0.0, 0.498], [0.69, 0.0, 0.498], [0.69, 0.0, 0.498], [0.69, 0.0, 0.498], [0.69, 0.0, 0.498], [0.69, 0.0, 0.498], [0.69, 0.0, 0.498], [0.69, 0.0, 0.498], [0.69, 0.0, 0.498], [0.69, 0.0, 0.498], [0.69, 0.0, 0.498], [0.69, 0.0, 0.498], [0.69, 0.0, 0.498], [0.69, 0.0, 0.498], [0.69, 0.0, 0.498], [0.69, 0.0, 0.498], [0.69, 0.0, 0.498], [0.69, 0.0, 0.498], [0.69, 0.0, 0.498], [0.69, 0.0, 0.498], [0.69, 0.0, 0.498], [0.69, 0.0, 0.498], [0.69, 0.0, 0.498], [0.69, 0.0, 0.498], [0.69, 0.0, 0.498], [0.69, 0.0, 0.498], [0.69, 0.0, 0.498], [0.69, 0.0, 0.498], [0.69, 0.0, 0.498], [0.69, 0.0, 0.498], [0.69, 0.0, 0.498], [0.69, 0.0, 0.498], [0.69, 0.0, 0.498], [0.69, 0.0, 0.498], [0.69, 0.0, 0.498], [0.69, 0.0, 0.498], [0.69, 0.0, 0.498], [0.69, 0.0, 0.498], [0.69, 0.0, 0.498], [0.69, 0.0, 0.498], [0.69, 0.0, 0.498], [0.69, 0.0, 0.498], [0.69, 0.0, 0.498], [0.69, 0.0, 0.498], [0.69, 0.0, 0.498], [0.69, 0.0, 0.498], [0.69, 0.0, 0.498], [0.69, 0.0, 0.498], [0.69, 0.0, 0.498], [0.69, 0.0, 0.498], [0.69, 0.0, 0.498], [0.69, 0.0, 0.498], [0.69, 0.0, 0.498], [0.69, 0.0, 0.498], [0.69, 0.0, 0.498], [0.69, 0.0, 0.498], [0.69, 0.0, 0.498], [0.69, 0.0, 0.498], [0.69, 0.0, 0.498], [0.69, 0.0, 0.498], [0.69, 0.0, 0.498], [0.69, 0.0, 0.498], [0.69, 0.0, 0.498], [0.69, 0.0, 0.498], [0.69, 0.0, 0.498], [0.69, 0.0, 0.498], [0.69, 0.0, 0.498], [0.69, 0.0, 0.498], [0.69, 0.0, 0.498], [0.69, 0.0, 0.498], [0.69, 0.0, 0.498], [0.69, 0.0, 0.498], [0.69, 0.0, 0.498], [0.69, 0.0, 0.498], [0.69, 0.0, 0.498], [0.69, 0.0, 0.498], [0.69, 0.0, 0.498], [0.69, 0.0, 0.498], [0.69, 0.0, 0.498], [0.69, 0.0, 0.498], [0.69, 0.0, 0.498], [0.69, 0.0, 0.498], [0.69, 0.0, 0.498], [0.69, 0.0, 0.498], [0.69, 0.0, 0.498], [0.69, 0.0, 0.498], [0.69, 0.0, 0.498], [0.69, 0.0, 0.498], [0.69, 0.0, 0.498], [0.69, 0.0, 0.498], [0.69, 0.0, 0.498], [0.69, 0.0, 0.498], [0.69, 0.0, 0.498], [0.69, 0.0, 0.498], [0.69, 0.0, 0.498], [0.69, 0.0, 0.498], [0.69, 0.0, 0.498], [0.69, 0.0, 0.498], [0.69, 0.0, 0.498], [0.69, 0.0, 0.498], [0.69, 0.0, 0.498], [0.69, 0.0, 0.498], [0.69, 0.0, 0.498], [0.69, 0.0, 0.498], [0.69, 0.0, 0.498], [0.69, 0.0, 0.498], [0.69, 0.0, 0.498], [0.69, 0.0, 0.498], [0.69, 0.0, 0.498], [0.69, 0.0, 0.498], [0.69, 0.0, 0.498], [0.69, 0.0, 0.498], [0.69, 0.0, 0.498], [0.69, 0.0, 0.498], [0.69, 0.0, 0.498], [0.69, 0.0, 0.498], [0.69, 0.0, 0.498], [0.69, 0.0, 0.498], [0.69, 0.0, 0.498], [0.69, 0.0, 0.498], [0.69, 0.0, 0.498], [0.69, 0.0, 0.498], [0.69, 0.0, 0.498], [0.69, 0.0, 0.498], [0.69, 0.0, 0.498], [0.69, 0.0, 0.498], [0.69, 0.0, 0.498], [0.69, 0.0, 0.498], [0.69, 0.0, 0.498], [0.69, 0.0, 0.498], [0.69, 0.0, 0.498], [0.69, 0.0, 0.498], [0.69, 0.0, 0.498], [0.69, 0.0, 0.498], [0.69, 0.0, 0.498], [0.69, 0.0, 0.498], [0.69, 0.0, 0.498], [0.69, 0.0, 0.498], [0.69, 0.0, 0.498], [0.69, 0.0, 0.498], [0.69, 0.0, 0.498], [0.69, 0.0, 0.498], [0.69, 0.0, 0.498], [0.69, 0.0, 0.498], [0.69, 0.0, 0.498], [0.69, 0.0, 0.498], [0.69, 0.0, 0.498], [0.69, 0.0, 0.498], [0.69, 0.0, 0.498], [0.69, 0.0, 0.498], [0.69, 0.0, 0.498], [0.69, 0.0, 0.498], [0.69, 0.0, 0.498], [0.69, 0.0, 0.498], [0.69, 0.0, 0.498], [0.69, 0.0, 0.498], [0.69, 0.0, 0.498], [0.69, 0.0, 0.498], [0.69, 0.0, 0.498], [0.69, 0.0, 0.498], [0.69, 0.0, 0.498], [0.69, 0.0, 0.498], [0.69, 0.0, 0.498], [0.69, 0.0, 0.498], [0.69, 0.0, 0.498], [0.69, 0.0, 0.498], [0.69, 0.0, 0.498], [0.69, 0.0, 0.498], [0.69, 0.0, 0.498], [0.69, 0.0, 0.498], [0.69, 0.0, 0.498], [0.69, 0.0, 0.498], [0.69, 0.0, 0.498], [0.69, 0.0, 0.498], [0.69, 0.0, 0.498], [0.69, 0.0, 0.498], [0.69, 0.0, 0.498], [0.69, 0.0, 0.498], [0.69, 0.0, 0.498], [0.69, 0.0, 0.498], [0.69, 0.0, 0.498], [0.69, 0.0, 0.498], [0.69, 0.0, 0.498], [0.69, 0.0, 0.498], [0.69, 0.0, 0.498], [0.69, 0.0, 0.498], [0.69, 0.0, 0.498], [0.69, 0.0, 0.498], [0.69, 0.0, 0.498], [0.69, 0.0, 0.498], [0.69, 0.0, 0.498], [0.69, 0.0, 0.498], [0.69, 0.0, 0.498], [0.69, 0.0, 0.498], [0.69, 0.0, 0.498], [0.69, 0.0, 0.498], [0.69, 0.0, 0.498], [0.69, 0.0, 0.498], [0.69, 0.0, 0.498], [0.69, 0.0, 0.498], [0.69, 0.0, 0.498], [0.69, 0.0, 0.498], [0.69, 0.0, 0.498], [0.69, 0.0, 0.498], [0.69, 0.0, 0.498], [0.69, 0.0, 0.498], [0.69, 0.0, 0.498], [0.69, 0.0, 0.498], [0.69, 0.0, 0.498], [0.69, 0.0, 0.498], [0.69, 0.0, 0.498], [0.69, 0.0, 0.498], [0.69, 0.0, 0.498], [0.69, 0.0, 0.498], [0.69, 0.0, 0.498], [0.69, 0.0, 0.498], [0.69, 0.0, 0.498], [0.69, 0.0, 0.498], [0.69, 0.0, 0.498], [0.69, 0.0, 0.498], [0.69, 0.0, 0.498], [0.69, 0.0, 0.498], [0.69, 0.0, 0.498], [0.69, 0.0, 0.498], [0.69, 0.0, 0.498], [0.69, 0.0, 0.498], [0.69, 0.0, 0.498], [0.69, 0.0, 0.498], [0.69, 0.0, 0.498], [0.69, 0.0, 0.498], [0.69, 0.0, 0.498], [0.69, 0.0, 0.498], [0.69, 0.0, 0.498], [0.69, 0.0, 0.498], [0.69, 0.0, 0.498], [0.69, 0.0, 0.498], [0.69, 0.0, 0.498], [0.69, 0.0, 0.498], [0.69, 0.0, 0.498], [0.69, 0.0, 0.498], [0.69, 0.0, 0.498], [0.69, 0.0, 0.498], [0.69, 0.0, 0.498], [0.69, 0.0, 0.498], [0.69, 0.0, 0.498], [0.69, 0.0, 0.498], [0.69, 0.0, 0.498], [0.69, 0.0, 0.498], [0.69, 0.0, 0.498], [0.69, 0.0, 0.498], [0.69, 0.0, 0.498], [0.69, 0.0, 0.498], [0.69, 0.0, 0.498], [0.69, 0.0, 0.498], [0.69, 0.0, 0.498], [0.69, 0.0, 0.498], [0.69, 0.0, 0.498], [0.69, 0.0, 0.498], [0.69, 0.0, 0.498], [0.69, 0.0, 0.498], [0.69, 0.0, 0.498], [0.69, 0.0, 0.498], [0.69, 0.0, 0.498], [0.69, 0.0, 0.498], [0.69, 0.0, 0.498], [0.69, 0.0, 0.498], [0.69, 0.0, 0.498], [0.69, 0.0, 0.498], [0.69, 0.0, 0.498], [0.69, 0.0, 0.498], [0.69, 0.0, 0.498], [0.69, 0.0, 0.498], [0.69, 0.0, 0.498], [0.69, 0.0, 0.498], [0.69, 0.0, 0.498], [0.69, 0.0, 0.498], [0.69, 0.0, 0.498], [0.69, 0.0, 0.498], [0.69, 0.0, 0.498], [0.69, 0.0, 0.498], [0.69, 0.0, 0.498], [0.69, 0.0, 0.498], [0.69, 0.0, 0.498], [0.69, 0.0, 0.498], [0.69, 0.0, 0.498], [0.69, 0.0, 0.498], [0.69, 0.0, 0.498], [0.69, 0.0, 0.498], [0.69, 0.0, 0.498], [0.69, 0.0, 0.498], [0.69, 0.0, 0.498], [0.69, 0.0, 0.498], [0.69, 0.0, 0.498], [0.69, 0.0, 0.498], [0.69, 0.0, 0.498], [0.69, 0.0, 0.498], [0.69, 0.0, 0.498], [0.69, 0.0, 0.498], [0.69, 0.0, 0.498], [0.69, 0.0, 0.498], [0.69, 0.0, 0.498], [0.69, 0.0, 0.498], [0.69, 0.0, 0.498], [0.69, 0.0, 0.498], [0.69, 0.0, 0.498], [0.69, 0.0, 0.498], [0.69, 0.0, 0.498], [0.69, 0.0, 0.498], [0.69, 0.0, 0.498], [0.69, 0.0, 0.498], [0.69, 0.0, 0.498], [0.69, 0.0, 0.498], [0.69, 0.0, 0.498], [0.69, 0.0, 0.498], [0.69, 0.0, 0.498], [0.69, 0.0, 0.498], [0.69, 0.0, 0.498], [0.69, 0.0, 0.498], [0.69, 0.0, 0.498], [0.69, 0.0, 0.498], [0.69, 0.0, 0.498], [0.69, 0.0, 0.498], [0.69, 0.0, 0.498], [0.69, 0.0, 0.498], [0.69, 0.0, 0.498], [0.69, 0.0, 0.498], [0.69, 0.0, 0.498], [0.69, 0.0, 0.498], [0.69, 0.0, 0.498], [0.69, 0.0, 0.498], [0.69, 0.0, 0.498], [0.69, 0.0, 0.498], [0.69, 0.0, 0.498], [0.69, 0.0, 0.498], [0.69, 0.0, 0.498], [0.69, 0.0, 0.498], [0.69, 0.0, 0.498], [0.69, 0.0, 0.498], [0.69, 0.0, 0.498], [0.69, 0.0, 0.498], [0.69, 0.0, 0.498], [0.69, 0.0, 0.498], [0.69, 0.0, 0.498], [0.69, 0.0, 0.498], [0.69, 0.0, 0.498], [0.69, 0.0, 0.498], [0.69, 0.0, 0.498], [0.69, 0.0, 0.498], [0.69, 0.0, 0.498], [0.69, 0.0, 0.498], [0.69, 0.0, 0.498], [0.69, 0.0, 0.498], [0.69, 0.0, 0.498], [0.69, 0.0, 0.498], [0.69, 0.0, 0.498], [0.69, 0.0, 0.498], [0.69, 0.0, 0.498], [0.69, 0.0, 0.498], [0.69, 0.0, 0.498], [0.69, 0.0, 0.498], [0.69, 0.0, 0.498], [0.69, 0.0, 0.498], [0.69, 0.0, 0.498], [0.69, 0.0, 0.498], [0.69, 0.0, 0.498], [0.69, 0.0, 0.498], [0.69, 0.0, 0.498], [0.69, 0.0, 0.498], [0.69, 0.0, 0.498], [0.69, 0.0, 0.498], [0.69, 0.0, 0.498], [0.69, 0.0, 0.498], [0.69, 0.0, 0.498], [0.69, 0.0, 0.498], [0.69, 0.0, 0.498], [0.69, 0.0, 0.498], [0.69, 0.0, 0.498], [0.69, 0.0, 0.498], [0.69, 0.0, 0.498], [0.69, 0.0, 0.498], [0.69, 0.0, 0.498], [0.69, 0.0, 0.498], [0.69, 0.0, 0.498], [0.69, 0.0, 0.498], [0.69, 0.0, 0.498], [0.69, 0.0, 0.498], [0.69, 0.0, 0.498], [0.69, 0.0, 0.498], [0.69, 0.0, 0.498], [0.69, 0.0, 0.498], [0.69, 0.0, 0.498], [0.69, 0.0, 0.498], [0.69, 0.0, 0.498], [0.69, 0.0, 0.498], [0.69, 0.0, 0.498], [0.69, 0.0, 0.498], [0.69, 0.0, 0.498], [0.69, 0.0, 0.498], [0.69, 0.0, 0.498], [0.69, 0.0, 0.498], [0.69, 0.0, 0.498]], \"vcolor\": [0.522, 0.741, 0.0], \"vlabel_hover\": true, \"highlight\": {\"Islord\": [0.69, 0.0, 0.498], \"Ed Lover\": [0.69, 0.0, 0.498], \"Tekitha\": [0.69, 0.0, 0.498], \"Superb\": [0.69, 0.0, 0.498], \"Popa Wu\": [0.69, 0.0, 0.498], \"Cuetrax\": [0.69, 0.0, 0.498], \"Method Man\": [0.69, 0.0, 0.498], \"Ras Kass\": [0.69, 0.0, 0.498], \"Cilvaringz\": [0.69, 0.0, 0.498], \"Ski\": [0.69, 0.0, 0.498], \"Shamel, Kareem & Jamel\": [0.69, 0.0, 0.498], \"Tash Mahogany\": [0.69, 0.0, 0.498], \"Chrisette Michele\": [0.69, 0.0, 0.498], \"Styles P\": [0.69, 0.0, 0.498], \"Puff Daddy\": [0.69, 0.0, 0.498], \"Kim Stephens\": [0.69, 0.0, 0.498], \"K. Born\": [0.69, 0.0, 0.498], \"IAM\": [0.69, 0.0, 0.498], \"Sunny Valentine\": [0.69, 0.0, 0.498], \"Killah Priest\": [0.69, 0.0, 0.498], \"Streetlife\": [0.69, 0.0, 0.498], \"Janet Jackson\": [0.69, 0.0, 0.498], \"Angela Yee\": [0.69, 0.0, 0.498], \"Ch\": [0.69, 0.0, 0.498], \"Inspectah Deck\": [0.69, 0.0, 0.498], \"Kool G Rap\": [0.69, 0.0, 0.498], \"Intrigue\": [0.69, 0.0, 0.498], \"Xavier Naidoo\": [0.69, 0.0, 0.498], \"Jadakiss\": [0.69, 0.0, 0.498], \"Madame Cez\": [0.69, 0.0, 0.498], \"Ludacris\": [0.69, 0.0, 0.498], \"Isaac Hayes\": [0.69, 0.0, 0.498], \"George Clinton\": [0.69, 0.0, 0.498], \"Carl Thomas\": [0.69, 0.0, 0.498], \"American Cream Team\": [0.69, 0.0, 0.498], \"Anthony Allen\": [0.69, 0.0, 0.498], \"Jacki-O\": [0.69, 0.0, 0.498], \"Busta Rhymes\": [0.69, 0.0, 0.498], \"Res\": [0.69, 0.0, 0.498], \"Mizzza\": [0.69, 0.0, 0.498], \"D\\u2019Angelo\": [0.69, 0.0, 0.498], \"The Willie Cottrell Band\": [0.69, 0.0, 0.498], \"U-God\": [0.69, 0.0, 0.498], \"Sheek Louch\": [0.69, 0.0, 0.498], \"Shyheim\": [0.69, 0.0, 0.498], \"The Force M.D.s\": [0.69, 0.0, 0.498], \"Allah Real\": [0.69, 0.0, 0.498], \"Lil\\u2019 Mo\": [0.69, 0.0, 0.498], \"Leatha Face\": [0.69, 0.0, 0.498], \"La the Darkman\": [0.69, 0.0, 0.498], \"Kelis\": [0.69, 0.0, 0.498], \"Chip Banks\": [0.69, 0.0, 0.498], \"Ms. Roxy\": [0.69, 0.0, 0.498], \"Dom Pachino\": [0.69, 0.0, 0.498], \"Jayms Madison\": [0.69, 0.0, 0.498], \"E3\": [0.69, 0.0, 0.498], \"Booster\": [0.69, 0.0, 0.498], \"Missy Elliott\": [0.69, 0.0, 0.498], \"Flavor Flav\": [0.69, 0.0, 0.498], \"DJ Kayslay\": [0.69, 0.0, 0.498], \"Prodigal Sunn\": [0.69, 0.0, 0.498], \"Left Eye\": [0.69, 0.0, 0.498], \"Boo Kapone\": [0.69, 0.0, 0.498], \"Angel Cake\": [0.69, 0.0, 0.498], \"Ne-Yo\": [0.69, 0.0, 0.498], \"Sun God\": [0.69, 0.0, 0.498], \"Raekwon\": [0.69, 0.0, 0.498], \"GZA\": [0.69, 0.0, 0.498], \"Blue Raspberry\": [0.69, 0.0, 0.498], \"Kid Capri\": [0.69, 0.0, 0.498], \"P.R. Terror\": [0.69, 0.0, 0.498], \"Capone\": [0.69, 0.0, 0.498], \"Redman\": [0.69, 0.0, 0.498], \"Papa Don\": [0.69, 0.0, 0.498], \"Governor Tools\": [0.69, 0.0, 0.498], \"Joan Davis\": [0.69, 0.0, 0.498], \"Timbo King\": [0.69, 0.0, 0.498], \"Beat Switch\": [0.69, 0.0, 0.498], \"Carlton Fisk\": [0.69, 0.0, 0.498], \"Young Justice\": [0.69, 0.0, 0.498], \"Startel\": [0.69, 0.0, 0.498], \"Star\": [0.69, 0.0, 0.498], \"Big Gipp\": [0.69, 0.0, 0.498], \"Suga Bang Bang\": [0.69, 0.0, 0.498], \"Polite\": [0.69, 0.0, 0.498], \"Masta Killa\": [0.69, 0.0, 0.498], \"Nas\": [0.69, 0.0, 0.498], \"Black Ice\": [0.69, 0.0, 0.498], \"Shadii\": [0.69, 0.0, 0.498], \"Kinetic 9\": [0.69, 0.0, 0.498], \"Chris Rock\": [0.69, 0.0, 0.498], \"Vine Mojica\": [0.69, 0.0, 0.498], \"Zu Keeper\": [0.69, 0.0, 0.498], \"ODB\": [0.69, 0.0, 0.498], \"Amille D. Harris\": [0.69, 0.0, 0.498], \"Madame D\": [0.69, 0.0, 0.498], \"Santi White\": [0.69, 0.0, 0.498], \"Cool & Dre\": [0.69, 0.0, 0.498], \"Dexter Wiggle\": [0.69, 0.0, 0.498], \"Cappadonna\": [0.69, 0.0, 0.498], \"Madame Majestic\": [0.69, 0.0, 0.498], \"Ron Isley\": [0.69, 0.0, 0.498], \"Ruff Endz\": [0.69, 0.0, 0.498], \"Buddha Monk\": [0.69, 0.0, 0.498], \"Trife da God\": [0.69, 0.0, 0.498], \"Ghostface Killah\": [0.69, 0.0, 0.498], \"Snoop Dogg\": [0.69, 0.0, 0.498], \"Kanye West\": [0.69, 0.0, 0.498], \"Gerald Alston\": [0.69, 0.0, 0.498], \"Twiz\": [0.69, 0.0, 0.498], \"The Delfonics\": [0.69, 0.0, 0.498], \"Dreddy Kruger\": [0.69, 0.0, 0.498], \"Doc Gyneco\": [0.69, 0.0, 0.498], \"Music Soulchild\": [0.69, 0.0, 0.498], \"Ice Water Inc.\": [0.69, 0.0, 0.498], \"Solomon Childs\": [0.69, 0.0, 0.498], \"12 O\\u2019Clock\": [0.69, 0.0, 0.498], \"Ultra\": [0.69, 0.0, 0.498], \"Shift Shi Yan Ming\": [0.69, 0.0, 0.498], \"Crisis\": [0.69, 0.0, 0.498], \"Tiffany Villarreal\": [0.69, 0.0, 0.498], \"Kardinal Offishall\": [0.69, 0.0, 0.498], \"The Notorious B.I.G.\": [0.69, 0.0, 0.498], \"Killa Sin\": [0.69, 0.0, 0.498], \"Mr. Porter\": [0.69, 0.0, 0.498], \"Havoc\": [0.69, 0.0, 0.498], \"Megan Rochell\": [0.69, 0.0, 0.498], \"MC Eiht\": [0.69, 0.0, 0.498], \"Victorious\": [0.69, 0.0, 0.498], \"Doc Doom\": [0.69, 0.0, 0.498], \"Mathematics\": [0.69, 0.0, 0.498], \"Ebony Burke\": [0.69, 0.0, 0.498], \"Njeri Earth\": [0.69, 0.0, 0.498], \"Paulissa Moorman\": [0.69, 0.0, 0.498], \"Junior Reid\": [0.69, 0.0, 0.498], \"Squeak Ru\": [0.69, 0.0, 0.498], \"Santigold\": [0.69, 0.0, 0.498], \"Ginuwine\": [0.69, 0.0, 0.498], \"Erica Bryant\": [0.69, 0.0, 0.498], \"Shorty S\": [0.69, 0.0, 0.498], \"9th Prince\": [0.69, 0.0, 0.498], \"Saukrates\": [0.69, 0.0, 0.498], \"Beretta 9\": [0.69, 0.0, 0.498], \"Trigga\": [0.69, 0.0, 0.498], \"Murduc\": [0.69, 0.0, 0.498], \"Uncle Pete\": [0.69, 0.0, 0.498], \"RZA\": [0.69, 0.0, 0.498], \"Hell Razah\": [0.69, 0.0, 0.498], \"CCF Division\": [0.69, 0.0, 0.498], \"Joi Star\": [0.69, 0.0, 0.498], \"Monk\": [0.69, 0.0, 0.498], \"Free Murder\": [0.69, 0.0, 0.498], \"Big Bub\": [0.69, 0.0, 0.498], \"Amy Winehouse\": [0.69, 0.0, 0.498], \"Fat Joe\": [0.69, 0.0, 0.498], \"Cho-Flo\": [0.69, 0.0, 0.498], \"K. Fox\": [0.69, 0.0, 0.498], \"Erykah Badu\": [0.69, 0.0, 0.498], \"Jamie Sommers\": [0.69, 0.0, 0.498], \"Rhythm Roots Allstars\": [0.69, 0.0, 0.498], \"Mr. Maygreen\": [0.69, 0.0, 0.498], \"Eamon\": [0.69, 0.0, 0.498], \"Shawn Wigs\": [0.69, 0.0, 0.498], \"Trife\": [0.69, 0.0, 0.498], \"Crummie Beats\": [0.69, 0.0, 0.498], \"Armel\": [0.69, 0.0, 0.498], \"Bennie Sigel\": [0.69, 0.0, 0.498], \"Mojehan\": [0.69, 0.0, 0.498], \"Mary J. Blige\": [0.69, 0.0, 0.498], \"60 Second Assassin\": [0.69, 0.0, 0.498]}, \"v_offset\": 0.03}, \"view_components\": [\"View\"], \"type\": \"SGraph\", \"descriptives_links\": {\"edges\": \"edges\", \"vertices\": \"vertices\"}, \"descriptives\": {\"edges\": 177, \"vertices\": 42}}, \"positions\": null, \"error_type\": 0, \"vertices\": [\"Immobilarity\", \"The Pretty Toney Album\", \"Golden Arms Redemption\", \"Bulletproof Wallets\", \"Return to the 36 Chambers: The Dirty Version\", \"RZA\", \"Mr. Xcitement\", \"Bobby Digital in Stereo\", \"Enter the Wu-Tang (36 Chambers)\", \"Wu-Tang Forever\", \"Ironman\", \"Tical\", \"The W\", \"Liquid Swords\", \"More Fish\", \"Method Man\", \"Uncontrolled Substance\", \"Made in Brooklyn\", \"U-God\", \"ODB\", \"No Said Date\", \"Iron Flag\", \"Legend of the Liquid Sword\", \"Digital Bullet\", \"4:21\\u2026The Day After\", \"GZA\", \"Supreme Clientele\", \"Beneath the Surface\", \"Tical 0: The Prequel\", \"8 Diagrams\", \"The Lex Diamond Story\", \"_____ Please\", \"The Movement\", \"Tical 2000: Judgement Day\", \"The Big Doe Rehab\", \"Raekwon\", \"Inspectah Deck\", \"Only Built 4 Cuban Linx\\u2026\", \"Fishscale\", \"Birth of a Prince\", \"Masta Killa\", \"Ghostface Killah\"], \"vertices_labels\": [\"Immobilarity\", \"The Pretty Toney Album\", \"Golden Arms Redemption\", \"Bulletproof Wallets\", \"Return to the 36 Chambers: The Dirty Version\", \"RZA\", \"Mr. Xcitement\", \"Bobby Digital in Stereo\", \"Enter the Wu-Tang (36 Chambers)\", \"Wu-Tang Forever\", \"Ironman\", \"Tical\", \"The W\", \"Liquid Swords\", \"More Fish\", \"Method Man\", \"Uncontrolled Substance\", \"Made in Brooklyn\", \"U-God\", \"ODB\", \"No Said Date\", \"Iron Flag\", \"Legend of the Liquid Sword\", \"Digital Bullet\", \"4:21\\u2026The Day After\", \"GZA\", \"Supreme Clientele\", \"Beneath the Surface\", \"Tical 0: The Prequel\", \"8 Diagrams\", \"The Lex Diamond Story\", \"_____ Please\", \"The Movement\", \"Tical 2000: Judgement Day\", \"The Big Doe Rehab\", \"Raekwon\", \"Inspectah Deck\", \"Only Built 4 Cuban Linx\\u2026\", \"Fishscale\", \"Birth of a Prince\", \"Masta Killa\", \"Ghostface Killah\"], \"edges\": [[\"Immobilarity\", \"Method Man\"], [\"Golden Arms Redemption\", \"Method Man\"], [\"Bulletproof Wallets\", \"Method Man\"], [\"Golden Arms Redemption\", \"U-God\"], [\"Immobilarity\", \"Raekwon\"], [\"Golden Arms Redemption\", \"Raekwon\"], [\"Golden Arms Redemption\", \"Inspectah Deck\"], [\"Immobilarity\", \"Masta Killa\"], [\"Bulletproof Wallets\", \"Raekwon\"], [\"Bulletproof Wallets\", \"Ghostface Killah\"], [\"The Pretty Toney Album\", \"Ghostface Killah\"], [\"Return to the 36 Chambers: The Dirty Version\", \"RZA\"], [\"Bobby Digital in Stereo\", \"RZA\"], [\"Return to the 36 Chambers: The Dirty Version\", \"Method Man\"], [\"Bobby Digital in Stereo\", \"Method Man\"], [\"Mr. Xcitement\", \"U-God\"], [\"Bobby Digital in Stereo\", \"U-God\"], [\"Return to the 36 Chambers: The Dirty Version\", \"ODB\"], [\"Bobby Digital in Stereo\", \"ODB\"], [\"Return to the 36 Chambers: The Dirty Version\", \"GZA\"], [\"Return to the 36 Chambers: The Dirty Version\", \"Masta Killa\"], [\"Return to the 36 Chambers: The Dirty Version\", \"Ghostface Killah\"], [\"Return to the 36 Chambers: The Dirty Version\", \"Raekwon\"], [\"Bobby Digital in Stereo\", \"Masta Killa\"], [\"Bobby Digital in Stereo\", \"Ghostface Killah\"], [\"Wu-Tang Forever\", \"RZA\"], [\"Ironman\", \"RZA\"], [\"The W\", \"RZA\"], [\"Liquid Swords\", \"RZA\"], [\"Tical\", \"RZA\"], [\"Enter the Wu-Tang (36 Chambers)\", \"RZA\"], [\"Tical\", \"Method Man\"], [\"Liquid Swords\", \"Method Man\"], [\"The W\", \"Method Man\"], [\"Enter the Wu-Tang (36 Chambers)\", \"Method Man\"], [\"Ironman\", \"Method Man\"], [\"Wu-Tang Forever\", \"Method Man\"], [\"The W\", \"ODB\"], [\"Liquid Swords\", \"ODB\"], [\"The W\", \"U-God\"], [\"Enter the Wu-Tang (36 Chambers)\", \"U-God\"], [\"Wu-Tang Forever\", \"U-God\"], [\"Wu-Tang Forever\", \"ODB\"], [\"Enter the Wu-Tang (36 Chambers)\", \"ODB\"], [\"Ironman\", \"U-God\"], [\"Liquid Swords\", \"U-God\"], [\"The W\", \"GZA\"], [\"Wu-Tang Forever\", \"GZA\"], [\"Enter the Wu-Tang (36 Chambers)\", \"GZA\"], [\"Liquid Swords\", \"GZA\"], [\"Liquid Swords\", \"Inspectah Deck\"], [\"The W\", \"Masta Killa\"], [\"Liquid Swords\", \"Ghostface Killah\"], [\"Liquid Swords\", \"Masta Killa\"], [\"The W\", \"Raekwon\"], [\"Tical\", \"Raekwon\"], [\"Ironman\", \"Ghostface Killah\"], [\"Wu-Tang Forever\", \"Masta Killa\"], [\"Wu-Tang Forever\", \"Ghostface Killah\"], [\"The W\", \"Inspectah Deck\"], [\"Liquid Swords\", \"Raekwon\"], [\"Ironman\", \"Raekwon\"], [\"Wu-Tang Forever\", \"Inspectah Deck\"], [\"Tical\", \"Inspectah Deck\"], [\"Enter the Wu-Tang (36 Chambers)\", \"Raekwon\"], [\"Wu-Tang Forever\", \"Raekwon\"], [\"Enter the Wu-Tang (36 Chambers)\", \"Ghostface Killah\"], [\"Enter the Wu-Tang (36 Chambers)\", \"Inspectah Deck\"], [\"Enter the Wu-Tang (36 Chambers)\", \"Masta Killa\"], [\"Ironman\", \"Masta Killa\"], [\"Ironman\", \"Inspectah Deck\"], [\"The W\", \"Ghostface Killah\"], [\"Made in Brooklyn\", \"RZA\"], [\"Made in Brooklyn\", \"Method Man\"], [\"Uncontrolled Substance\", \"U-God\"], [\"Made in Brooklyn\", \"U-God\"], [\"Made in Brooklyn\", \"GZA\"], [\"Made in Brooklyn\", \"Masta Killa\"], [\"More Fish\", \"Ghostface Killah\"], [\"Made in Brooklyn\", \"Ghostface Killah\"], [\"Made in Brooklyn\", \"Raekwon\"], [\"Uncontrolled Substance\", \"Inspectah Deck\"], [\"Uncontrolled Substance\", \"Masta Killa\"], [\"Made in Brooklyn\", \"Inspectah Deck\"], [\"No Said Date\", \"RZA\"], [\"Legend of the Liquid Sword\", \"RZA\"], [\"Digital Bullet\", \"RZA\"], [\"Iron Flag\", \"RZA\"], [\"4:21\\u2026The Day After\", \"RZA\"], [\"4:21\\u2026The Day After\", \"Method Man\"], [\"Iron Flag\", \"Method Man\"], [\"No Said Date\", \"Method Man\"], [\"Digital Bullet\", \"Method Man\"], [\"No Said Date\", \"ODB\"], [\"Iron Flag\", \"U-God\"], [\"No Said Date\", \"U-God\"], [\"Digital Bullet\", \"ODB\"], [\"4:21\\u2026The Day After\", \"U-God\"], [\"4:21\\u2026The Day After\", \"ODB\"], [\"No Said Date\", \"GZA\"], [\"Digital Bullet\", \"GZA\"], [\"Legend of the Liquid Sword\", \"GZA\"], [\"Iron Flag\", \"GZA\"], [\"4:21\\u2026The Day After\", \"Raekwon\"], [\"Legend of the Liquid Sword\", \"Ghostface Killah\"], [\"Iron Flag\", \"Inspectah Deck\"], [\"Digital Bullet\", \"Masta Killa\"], [\"Iron Flag\", \"Masta Killa\"], [\"No Said Date\", \"Ghostface Killah\"], [\"Legend of the Liquid Sword\", \"Inspectah Deck\"], [\"No Said Date\", \"Inspectah Deck\"], [\"No Said Date\", \"Raekwon\"], [\"No Said Date\", \"Masta Killa\"], [\"Legend of the Liquid Sword\", \"Masta Killa\"], [\"Iron Flag\", \"Ghostface Killah\"], [\"Iron Flag\", \"Raekwon\"], [\"4:21\\u2026The Day After\", \"Inspectah Deck\"], [\"8 Diagrams\", \"RZA\"], [\"Tical 0: The Prequel\", \"RZA\"], [\"Supreme Clientele\", \"RZA\"], [\"Beneath the Surface\", \"RZA\"], [\"Supreme Clientele\", \"Method Man\"], [\"Tical 0: The Prequel\", \"Method Man\"], [\"The Lex Diamond Story\", \"Method Man\"], [\"8 Diagrams\", \"Method Man\"], [\"Beneath the Surface\", \"Method Man\"], [\"Supreme Clientele\", \"U-God\"], [\"8 Diagrams\", \"U-God\"], [\"_____ Please\", \"ODB\"], [\"Beneath the Surface\", \"ODB\"], [\"8 Diagrams\", \"GZA\"], [\"Supreme Clientele\", \"GZA\"], [\"Beneath the Surface\", \"GZA\"], [\"The Lex Diamond Story\", \"Ghostface Killah\"], [\"The Lex Diamond Story\", \"Raekwon\"], [\"Supreme Clientele\", \"Ghostface Killah\"], [\"The Lex Diamond Story\", \"Masta Killa\"], [\"8 Diagrams\", \"Masta Killa\"], [\"8 Diagrams\", \"Inspectah Deck\"], [\"The Movement\", \"Inspectah Deck\"], [\"The Lex Diamond Story\", \"Inspectah Deck\"], [\"Supreme Clientele\", \"Masta Killa\"], [\"Supreme Clientele\", \"Raekwon\"], [\"8 Diagrams\", \"Raekwon\"], [\"8 Diagrams\", \"Ghostface Killah\"], [\"Tical 0: The Prequel\", \"Ghostface Killah\"], [\"Beneath the Surface\", \"Masta Killa\"], [\"Tical 0: The Prequel\", \"Raekwon\"], [\"Fishscale\", \"RZA\"], [\"Only Built 4 Cuban Linx\\u2026\", \"RZA\"], [\"Birth of a Prince\", \"RZA\"], [\"Tical 2000: Judgement Day\", \"Method Man\"], [\"Fishscale\", \"Method Man\"], [\"The Big Doe Rehab\", \"Method Man\"], [\"Only Built 4 Cuban Linx\\u2026\", \"Method Man\"], [\"Only Built 4 Cuban Linx\\u2026\", \"U-God\"], [\"Fishscale\", \"U-God\"], [\"The Big Doe Rehab\", \"U-God\"], [\"Birth of a Prince\", \"ODB\"], [\"Only Built 4 Cuban Linx\\u2026\", \"GZA\"], [\"Fishscale\", \"GZA\"], [\"Only Built 4 Cuban Linx\\u2026\", \"Masta Killa\"], [\"The Big Doe Rehab\", \"Masta Killa\"], [\"Fishscale\", \"Raekwon\"], [\"Fishscale\", \"Inspectah Deck\"], [\"The Big Doe Rehab\", \"Ghostface Killah\"], [\"The Big Doe Rehab\", \"Raekwon\"], [\"Tical 2000: Judgement Day\", \"Masta Killa\"], [\"Tical 2000: Judgement Day\", \"Raekwon\"], [\"Birth of a Prince\", \"Masta Killa\"], [\"Only Built 4 Cuban Linx\\u2026\", \"Ghostface Killah\"], [\"Only Built 4 Cuban Linx\\u2026\", \"Raekwon\"], [\"Fishscale\", \"Ghostface Killah\"], [\"Fishscale\", \"Masta Killa\"], [\"Only Built 4 Cuban Linx\\u2026\", \"Inspectah Deck\"], [\"Birth of a Prince\", \"Ghostface Killah\"], [\"Tical 2000: Judgement Day\", \"Inspectah Deck\"]], \"ipython\": true, \"error_msg\": \"\"}, e);\n",
       "                });\n",
       "            })();\n",
       "        "
      ]
     },
     "metadata": {},
     "output_type": "display_data"
    }
   ],
   "source": [
    "#the network of Wu-Tang members only\n",
    "gMembers = g.get_neighborhood(sf['Artist'][sf['Member']==1])\n",
    "gMembers.show(vlabel='__id', vlabel_hover=True, highlight=sf['Artist'])"
   ]
  },
  {
   "cell_type": "code",
   "execution_count": 5,
   "metadata": {},
   "outputs": [
    {
     "name": "stdout",
     "output_type": "stream",
     "text": [
      "170 Artists\n"
     ]
    }
   ],
   "source": [
    "#use networkx for calculations\n",
    "#based upon SNA textbook\n",
    "import networkx as nx\n",
    "from networkx.algorithms import bipartite as bi\n",
    "\n",
    "#For weighted graphs the edge weights must be greater than zero. \n",
    "#Zero edge weights can produce an infinite number of equal length paths between pairs of nodes.\n",
    "wutang['Weight'] = wutang['App_Prop'] * 10\n",
    "\n",
    "g2 = nx.from_pandas_dataframe(wutang, source='Album', target='Artist', edge_attr='App_Prop')\n",
    "artist_network = bi.weighted_projected_graph(g2, pd.unique(wutang['Artist']), ratio=False)\n",
    "\n",
    "print len(artist_network.nodes()), \"Artists\""
   ]
  },
  {
   "cell_type": "markdown",
   "metadata": {},
   "source": [
    "## Question 1: Who is the most important Wu-Tang network member?\n",
    "\n",
    "The RZA founded the Wu-Tang Clan.  He produces most of the music for Wu-Tang albums and he also produces many of the songs of the solo albums.  This network does not include that information so instead I believe the most popular member will be Method Man.  His solo work is the most comercially successful compared to the other members.  And since he is so popular he is often featured on other artists albums.  I also imagine that Ghostface will feature prominantly because he is the artists that has the most solo albums."
   ]
  },
  {
   "cell_type": "code",
   "execution_count": 6,
   "metadata": {},
   "outputs": [
    {
     "name": "stdout",
     "output_type": "stream",
     "text": [
      "Closeness Centrality\n",
      "Method Man :  0.862244897959\n",
      "Masta Killa :  0.828431372549\n",
      "Ghostface Killah :  0.816425120773\n",
      "Raekwon :  0.768181818182\n",
      "RZA :  0.757847533632\n"
     ]
    }
   ],
   "source": [
    "def sorted_map(map):\n",
    "    ms = sorted(map.iteritems(), key=lambda (k,v): (-v,k))\n",
    "    return ms\n",
    "\n",
    "c = nx.closeness_centrality(artist_network)\n",
    "cc = sorted_map(c)\n",
    "\n",
    "print \"Closeness Centrality\"\n",
    "for each in cc[:5]: print each[0], \": \", each[1]"
   ]
  },
  {
   "cell_type": "code",
   "execution_count": 7,
   "metadata": {},
   "outputs": [
    {
     "name": "stdout",
     "output_type": "stream",
     "text": [
      "Betweeness Centrality\n",
      "Method Man :  0.123439237825\n",
      "Ghostface Killah :  0.122549641751\n",
      "Masta Killa :  0.104495516439\n",
      "U-God :  0.0850536306631\n",
      "Raekwon :  0.0767985121772\n"
     ]
    }
   ],
   "source": [
    "b = nx.betweenness_centrality(artist_network)\n",
    "bt = sorted_map(b)\n",
    "\n",
    "print \"Betweeness Centrality\"\n",
    "for each in bt[:5]: print each[0], \": \", each[1]"
   ]
  },
  {
   "cell_type": "code",
   "execution_count": 8,
   "metadata": {},
   "outputs": [
    {
     "name": "stdout",
     "output_type": "stream",
     "text": [
      "PageRank\n",
      "Method Man :  0.0471179948029\n",
      "Masta Killa :  0.0441401858446\n",
      "Ghostface Killah :  0.0423033364056\n",
      "RZA :  0.0394787031923\n",
      "Raekwon :  0.0394629498632\n"
     ]
    }
   ],
   "source": [
    "p = nx.pagerank(artist_network)\n",
    "pr = sorted_map(p)\n",
    "\n",
    "print \"PageRank\"\n",
    "for each in pr[:5]: print each[0], \": \", each[1]"
   ]
  },
  {
   "cell_type": "markdown",
   "metadata": {},
   "source": [
    "Method Man does come out on top in all of the centrality measures.  Suprisingly, Masta Killa is ranked highly in many of these centrality measures (he is considered one of the least popular members)."
   ]
  },
  {
   "cell_type": "markdown",
   "metadata": {},
   "source": [
    "## Question 2: What members form this network's \"cores of the most activity\"?\n",
    "\n",
    "Using the \"island method\" we can find out which members of the Wu-Tang Clan produce the strongest amount of contributing activity.  "
   ]
  },
  {
   "cell_type": "code",
   "execution_count": 9,
   "metadata": {
    "collapsed": true
   },
   "outputs": [],
   "source": [
    "from __future__ import division\n",
    "\n",
    "#finding islands\n",
    "def trim_edges(gr, weight=1):\n",
    "    #temp graph\n",
    "    temp = nx.Graph()\n",
    "    for f, to, edata in gr.edges(data=True):\n",
    "        #add edges if weight fits criteria\n",
    "        if edata['weight'] > weight/1000:\n",
    "            temp.add_edge(f, to, edata)\n",
    "    return temp\n",
    "\n",
    "def island_method(gr, i=5):\n",
    "    #extract weights\n",
    "    weights = [edata['weight'] for f, to, edata in gr.edges(data=True)]\n",
    "    #find min and max\n",
    "    mn = int(1000*min(weights))\n",
    "    mx = int(1000*max(weights))\n",
    "    #find the step\n",
    "    step = int((mx-mn)/i)\n",
    "    #return the 5 iterations\n",
    "    return [[threshold, trim_edges(gr, threshold)] for threshold in range(mn, mx, step)]"
   ]
  },
  {
   "cell_type": "code",
   "execution_count": 26,
   "metadata": {},
   "outputs": [
    {
     "name": "stdout",
     "output_type": "stream",
     "text": [
      "Using matplotlib backend: MacOSX\n",
      "Populating the interactive namespace from numpy and matplotlib\n"
     ]
    }
   ],
   "source": [
    "%pylab\n",
    "\n",
    "islands = island_method(artist_network)\n",
    "#middle threshold\n",
    "nx.draw(islands[2][1], with_labels=True)"
   ]
  },
  {
   "cell_type": "code",
   "execution_count": 28,
   "metadata": {},
   "outputs": [
    {
     "name": "stdout",
     "output_type": "stream",
     "text": [
      "Using matplotlib backend: MacOSX\n",
      "Populating the interactive namespace from numpy and matplotlib\n"
     ]
    }
   ],
   "source": [
    "%pylab\n",
    "\n",
    "#top threshold\n",
    "nx.draw(islands[4][1], with_labels=True)"
   ]
  },
  {
   "cell_type": "markdown",
   "metadata": {},
   "source": [
    "This network is not vast enough for the \"island method\" to split the network into multiple islands.  Instead the \"island method\" reveals the peak of the Wu-Tang network.  From this peak we can see the Wu-Tang members that collaborate the most with each other.  It is easy to see how this project could be extended to include all albums from all of the artists that have ever been featured on a Wu-Tang album.  It would be interesting to see if the network analysis can depict the feud between the East Coast and West Coast that occurred during the 1990s.\n",
    "\n",
    "The second to last iteration includes all of the members of the group except ODB.  ODB passed away in 2004 and was estranged from many of the members for many years.  The \"island method\" captures this information."
   ]
  },
  {
   "cell_type": "code",
   "execution_count": 30,
   "metadata": {},
   "outputs": [
    {
     "name": "stdout",
     "output_type": "stream",
     "text": [
      "Using matplotlib backend: MacOSX\n",
      "Populating the interactive namespace from numpy and matplotlib\n"
     ]
    }
   ],
   "source": [
    "%pylab\n",
    "\n",
    "nx.draw(islands[3][1], with_labels=True)"
   ]
  },
  {
   "cell_type": "markdown",
   "metadata": {},
   "source": [
    "## Question 3: In 2014, it was announced that Cappadonna is an official member of the Wu-Tang Clan.  Can network analysis back this up?"
   ]
  },
  {
   "cell_type": "code",
   "execution_count": 13,
   "metadata": {},
   "outputs": [
    {
     "data": {
      "text/plain": [
       "False"
      ]
     },
     "execution_count": 13,
     "metadata": {},
     "output_type": "execute_result"
    }
   ],
   "source": [
    "#compare centrality measures\n",
    "#is Cappadonna's betweenness centrality greater than Streetlife's?\n",
    "[i for i in bt if i[0] == 'Cappadonna'][0][1] > [i for i in bt if i[0] == 'Streetlife'][0][1]"
   ]
  },
  {
   "cell_type": "code",
   "execution_count": 14,
   "metadata": {},
   "outputs": [
    {
     "data": {
      "text/plain": [
       "False"
      ]
     },
     "execution_count": 14,
     "metadata": {},
     "output_type": "execute_result"
    }
   ],
   "source": [
    "#is Cappadonna's closeness centrality greater than Streetlife's?\n",
    "[i for i in cc if i[0] == 'Cappadonna'][0][1] > [i for i in cc if i[0] == 'Streetlife'][0][1]"
   ]
  },
  {
   "cell_type": "code",
   "execution_count": 15,
   "metadata": {},
   "outputs": [
    {
     "data": {
      "application/javascript": [
       "$(\"head\").append($(\"<link/>\").attr({\n",
       "  rel:  \"stylesheet\",\n",
       "  type: \"text/css\",\n",
       "  href: \"//cdnjs.cloudflare.com/ajax/libs/font-awesome/4.1.0/css/font-awesome.min.css\"\n",
       "}));\n",
       "$(\"head\").append($(\"<link/>\").attr({\n",
       "  rel:  \"stylesheet\",\n",
       "  type: \"text/css\",\n",
       "  href: \"https://static.turi.com/products/graphlab-create/2.1/canvas/css/canvas.css\"\n",
       "}));\n",
       "\n",
       "            (function(){\n",
       "\n",
       "                var e = null;\n",
       "                if (typeof element == 'undefined') {\n",
       "                    var scripts = document.getElementsByTagName('script');\n",
       "                    var thisScriptTag = scripts[scripts.length-1];\n",
       "                    var parentDiv = thisScriptTag.parentNode;\n",
       "                    e = document.createElement('div');\n",
       "                    parentDiv.appendChild(e);\n",
       "                } else {\n",
       "                    e = element[0];\n",
       "                }\n",
       "\n",
       "                if (typeof requirejs !== 'undefined') {\n",
       "                    // disable load timeout; ipython_app.js is large and can take a while to load.\n",
       "                    requirejs.config({waitSeconds: 0});\n",
       "                }\n",
       "\n",
       "                require(['https://static.turi.com/products/graphlab-create/2.1/canvas/js/ipython_app.js'], function(IPythonApp){\n",
       "                    var app = new IPythonApp();\n",
       "                    app.attachView('sgraph','View', {\"edges_labels\": null, \"selected_variable\": {\"name\": [\"gCompare\"], \"view_file\": \"sgraph\", \"view_component\": \"View\", \"view_params\": {\"elabel_hover\": false, \"vertex_positions\": null, \"h_offset\": 0.0, \"node_size\": 300, \"ecolor\": [0.37, 0.33, 0.33], \"elabel\": null, \"arrows\": false, \"ewidth\": 1, \"vlabel\": \"__id\", \"highlight_color\": [[0.69, 0.0, 0.498], [0.69, 0.0, 0.498], [0.69, 0.0, 0.498], [0.69, 0.0, 0.498], [0.69, 0.0, 0.498], [0.69, 0.0, 0.498], [0.69, 0.0, 0.498], [0.69, 0.0, 0.498], [0.69, 0.0, 0.498], [0.69, 0.0, 0.498], [0.69, 0.0, 0.498], [0.69, 0.0, 0.498], [0.69, 0.0, 0.498], [0.69, 0.0, 0.498], [0.69, 0.0, 0.498], [0.69, 0.0, 0.498], [0.69, 0.0, 0.498], [0.69, 0.0, 0.498], [0.69, 0.0, 0.498], [0.69, 0.0, 0.498], [0.69, 0.0, 0.498], [0.69, 0.0, 0.498], [0.69, 0.0, 0.498], [0.69, 0.0, 0.498], [0.69, 0.0, 0.498], [0.69, 0.0, 0.498], [0.69, 0.0, 0.498], [0.69, 0.0, 0.498], [0.69, 0.0, 0.498], [0.69, 0.0, 0.498], [0.69, 0.0, 0.498], [0.69, 0.0, 0.498], [0.69, 0.0, 0.498], [0.69, 0.0, 0.498], [0.69, 0.0, 0.498], [0.69, 0.0, 0.498], [0.69, 0.0, 0.498], [0.69, 0.0, 0.498], [0.69, 0.0, 0.498], [0.69, 0.0, 0.498], [0.69, 0.0, 0.498], [0.69, 0.0, 0.498], [0.69, 0.0, 0.498], [0.69, 0.0, 0.498], [0.69, 0.0, 0.498], [0.69, 0.0, 0.498], [0.69, 0.0, 0.498], [0.69, 0.0, 0.498], [0.69, 0.0, 0.498], [0.69, 0.0, 0.498], [0.69, 0.0, 0.498], [0.69, 0.0, 0.498], [0.69, 0.0, 0.498], [0.69, 0.0, 0.498], [0.69, 0.0, 0.498], [0.69, 0.0, 0.498], [0.69, 0.0, 0.498], [0.69, 0.0, 0.498], [0.69, 0.0, 0.498], [0.69, 0.0, 0.498], [0.69, 0.0, 0.498], [0.69, 0.0, 0.498], [0.69, 0.0, 0.498], [0.69, 0.0, 0.498], [0.69, 0.0, 0.498], [0.69, 0.0, 0.498], [0.69, 0.0, 0.498], [0.69, 0.0, 0.498], [0.69, 0.0, 0.498], [0.69, 0.0, 0.498], [0.69, 0.0, 0.498], [0.69, 0.0, 0.498], [0.69, 0.0, 0.498], [0.69, 0.0, 0.498], [0.69, 0.0, 0.498], [0.69, 0.0, 0.498], [0.69, 0.0, 0.498], [0.69, 0.0, 0.498], [0.69, 0.0, 0.498], [0.69, 0.0, 0.498], [0.69, 0.0, 0.498], [0.69, 0.0, 0.498], [0.69, 0.0, 0.498], [0.69, 0.0, 0.498], [0.69, 0.0, 0.498], [0.69, 0.0, 0.498], [0.69, 0.0, 0.498], [0.69, 0.0, 0.498], [0.69, 0.0, 0.498], [0.69, 0.0, 0.498], [0.69, 0.0, 0.498], [0.69, 0.0, 0.498], [0.69, 0.0, 0.498], [0.69, 0.0, 0.498], [0.69, 0.0, 0.498], [0.69, 0.0, 0.498], [0.69, 0.0, 0.498], [0.69, 0.0, 0.498], [0.69, 0.0, 0.498], [0.69, 0.0, 0.498], [0.69, 0.0, 0.498], [0.69, 0.0, 0.498], [0.69, 0.0, 0.498], [0.69, 0.0, 0.498], [0.69, 0.0, 0.498], [0.69, 0.0, 0.498], [0.69, 0.0, 0.498], [0.69, 0.0, 0.498], [0.69, 0.0, 0.498], [0.69, 0.0, 0.498], [0.69, 0.0, 0.498], [0.69, 0.0, 0.498], [0.69, 0.0, 0.498], [0.69, 0.0, 0.498], [0.69, 0.0, 0.498], [0.69, 0.0, 0.498], [0.69, 0.0, 0.498], [0.69, 0.0, 0.498], [0.69, 0.0, 0.498], [0.69, 0.0, 0.498], [0.69, 0.0, 0.498], [0.69, 0.0, 0.498], [0.69, 0.0, 0.498], [0.69, 0.0, 0.498], [0.69, 0.0, 0.498], [0.69, 0.0, 0.498], [0.69, 0.0, 0.498], [0.69, 0.0, 0.498], [0.69, 0.0, 0.498], [0.69, 0.0, 0.498], [0.69, 0.0, 0.498], [0.69, 0.0, 0.498], [0.69, 0.0, 0.498], [0.69, 0.0, 0.498], [0.69, 0.0, 0.498], [0.69, 0.0, 0.498], [0.69, 0.0, 0.498], [0.69, 0.0, 0.498], [0.69, 0.0, 0.498], [0.69, 0.0, 0.498], [0.69, 0.0, 0.498], [0.69, 0.0, 0.498], [0.69, 0.0, 0.498], [0.69, 0.0, 0.498], [0.69, 0.0, 0.498], [0.69, 0.0, 0.498], [0.69, 0.0, 0.498], [0.69, 0.0, 0.498], [0.69, 0.0, 0.498], [0.69, 0.0, 0.498], [0.69, 0.0, 0.498], [0.69, 0.0, 0.498], [0.69, 0.0, 0.498], [0.69, 0.0, 0.498], [0.69, 0.0, 0.498], [0.69, 0.0, 0.498], [0.69, 0.0, 0.498], [0.69, 0.0, 0.498], [0.69, 0.0, 0.498], [0.69, 0.0, 0.498], [0.69, 0.0, 0.498], [0.69, 0.0, 0.498], [0.69, 0.0, 0.498], [0.69, 0.0, 0.498], [0.69, 0.0, 0.498], [0.69, 0.0, 0.498], [0.69, 0.0, 0.498], [0.69, 0.0, 0.498], [0.69, 0.0, 0.498], [0.69, 0.0, 0.498], [0.69, 0.0, 0.498], [0.69, 0.0, 0.498], [0.69, 0.0, 0.498], [0.69, 0.0, 0.498], [0.69, 0.0, 0.498], [0.69, 0.0, 0.498], [0.69, 0.0, 0.498], [0.69, 0.0, 0.498], [0.69, 0.0, 0.498], [0.69, 0.0, 0.498], [0.69, 0.0, 0.498], [0.69, 0.0, 0.498], [0.69, 0.0, 0.498], [0.69, 0.0, 0.498], [0.69, 0.0, 0.498], [0.69, 0.0, 0.498], [0.69, 0.0, 0.498], [0.69, 0.0, 0.498], [0.69, 0.0, 0.498], [0.69, 0.0, 0.498], [0.69, 0.0, 0.498], [0.69, 0.0, 0.498], [0.69, 0.0, 0.498], [0.69, 0.0, 0.498], [0.69, 0.0, 0.498], [0.69, 0.0, 0.498], [0.69, 0.0, 0.498], [0.69, 0.0, 0.498], [0.69, 0.0, 0.498], [0.69, 0.0, 0.498], [0.69, 0.0, 0.498], [0.69, 0.0, 0.498], [0.69, 0.0, 0.498], [0.69, 0.0, 0.498], [0.69, 0.0, 0.498], [0.69, 0.0, 0.498], [0.69, 0.0, 0.498], [0.69, 0.0, 0.498], [0.69, 0.0, 0.498], [0.69, 0.0, 0.498], [0.69, 0.0, 0.498], [0.69, 0.0, 0.498], [0.69, 0.0, 0.498], [0.69, 0.0, 0.498], [0.69, 0.0, 0.498], [0.69, 0.0, 0.498], [0.69, 0.0, 0.498], [0.69, 0.0, 0.498], [0.69, 0.0, 0.498], [0.69, 0.0, 0.498], [0.69, 0.0, 0.498], [0.69, 0.0, 0.498], [0.69, 0.0, 0.498], [0.69, 0.0, 0.498], [0.69, 0.0, 0.498], [0.69, 0.0, 0.498], [0.69, 0.0, 0.498], [0.69, 0.0, 0.498], [0.69, 0.0, 0.498], [0.69, 0.0, 0.498], [0.69, 0.0, 0.498], [0.69, 0.0, 0.498], [0.69, 0.0, 0.498], [0.69, 0.0, 0.498], [0.69, 0.0, 0.498], [0.69, 0.0, 0.498], [0.69, 0.0, 0.498], [0.69, 0.0, 0.498], [0.69, 0.0, 0.498], [0.69, 0.0, 0.498], [0.69, 0.0, 0.498], [0.69, 0.0, 0.498], [0.69, 0.0, 0.498], [0.69, 0.0, 0.498], [0.69, 0.0, 0.498], [0.69, 0.0, 0.498], [0.69, 0.0, 0.498], [0.69, 0.0, 0.498], [0.69, 0.0, 0.498], [0.69, 0.0, 0.498], [0.69, 0.0, 0.498], [0.69, 0.0, 0.498], [0.69, 0.0, 0.498], [0.69, 0.0, 0.498], [0.69, 0.0, 0.498], [0.69, 0.0, 0.498], [0.69, 0.0, 0.498], [0.69, 0.0, 0.498], [0.69, 0.0, 0.498], [0.69, 0.0, 0.498], [0.69, 0.0, 0.498], [0.69, 0.0, 0.498], [0.69, 0.0, 0.498], [0.69, 0.0, 0.498], [0.69, 0.0, 0.498], [0.69, 0.0, 0.498], [0.69, 0.0, 0.498], [0.69, 0.0, 0.498], [0.69, 0.0, 0.498], [0.69, 0.0, 0.498], [0.69, 0.0, 0.498], [0.69, 0.0, 0.498], [0.69, 0.0, 0.498], [0.69, 0.0, 0.498], [0.69, 0.0, 0.498], [0.69, 0.0, 0.498], [0.69, 0.0, 0.498], [0.69, 0.0, 0.498], [0.69, 0.0, 0.498], [0.69, 0.0, 0.498], [0.69, 0.0, 0.498], [0.69, 0.0, 0.498], [0.69, 0.0, 0.498], [0.69, 0.0, 0.498], [0.69, 0.0, 0.498], [0.69, 0.0, 0.498], [0.69, 0.0, 0.498], [0.69, 0.0, 0.498], [0.69, 0.0, 0.498], [0.69, 0.0, 0.498], [0.69, 0.0, 0.498], [0.69, 0.0, 0.498], [0.69, 0.0, 0.498], [0.69, 0.0, 0.498], [0.69, 0.0, 0.498], [0.69, 0.0, 0.498], [0.69, 0.0, 0.498], [0.69, 0.0, 0.498], [0.69, 0.0, 0.498], [0.69, 0.0, 0.498], [0.69, 0.0, 0.498], [0.69, 0.0, 0.498], [0.69, 0.0, 0.498], [0.69, 0.0, 0.498], [0.69, 0.0, 0.498], [0.69, 0.0, 0.498], [0.69, 0.0, 0.498], [0.69, 0.0, 0.498], [0.69, 0.0, 0.498], [0.69, 0.0, 0.498], [0.69, 0.0, 0.498], [0.69, 0.0, 0.498], [0.69, 0.0, 0.498], [0.69, 0.0, 0.498], [0.69, 0.0, 0.498], [0.69, 0.0, 0.498], [0.69, 0.0, 0.498], [0.69, 0.0, 0.498], [0.69, 0.0, 0.498], [0.69, 0.0, 0.498], [0.69, 0.0, 0.498], [0.69, 0.0, 0.498], [0.69, 0.0, 0.498], [0.69, 0.0, 0.498], [0.69, 0.0, 0.498], [0.69, 0.0, 0.498], [0.69, 0.0, 0.498], [0.69, 0.0, 0.498], [0.69, 0.0, 0.498], [0.69, 0.0, 0.498], [0.69, 0.0, 0.498], [0.69, 0.0, 0.498], [0.69, 0.0, 0.498], [0.69, 0.0, 0.498], [0.69, 0.0, 0.498], [0.69, 0.0, 0.498], [0.69, 0.0, 0.498], [0.69, 0.0, 0.498], [0.69, 0.0, 0.498], [0.69, 0.0, 0.498], [0.69, 0.0, 0.498], [0.69, 0.0, 0.498], [0.69, 0.0, 0.498], [0.69, 0.0, 0.498], [0.69, 0.0, 0.498], [0.69, 0.0, 0.498], [0.69, 0.0, 0.498], [0.69, 0.0, 0.498], [0.69, 0.0, 0.498], [0.69, 0.0, 0.498], [0.69, 0.0, 0.498], [0.69, 0.0, 0.498], [0.69, 0.0, 0.498], [0.69, 0.0, 0.498], [0.69, 0.0, 0.498], [0.69, 0.0, 0.498], [0.69, 0.0, 0.498], [0.69, 0.0, 0.498], [0.69, 0.0, 0.498], [0.69, 0.0, 0.498], [0.69, 0.0, 0.498], [0.69, 0.0, 0.498], [0.69, 0.0, 0.498], [0.69, 0.0, 0.498], [0.69, 0.0, 0.498], [0.69, 0.0, 0.498], [0.69, 0.0, 0.498], [0.69, 0.0, 0.498], [0.69, 0.0, 0.498], [0.69, 0.0, 0.498], [0.69, 0.0, 0.498], [0.69, 0.0, 0.498], [0.69, 0.0, 0.498], [0.69, 0.0, 0.498], [0.69, 0.0, 0.498], [0.69, 0.0, 0.498], [0.69, 0.0, 0.498], [0.69, 0.0, 0.498], [0.69, 0.0, 0.498], [0.69, 0.0, 0.498], [0.69, 0.0, 0.498], [0.69, 0.0, 0.498], [0.69, 0.0, 0.498], [0.69, 0.0, 0.498], [0.69, 0.0, 0.498], [0.69, 0.0, 0.498], [0.69, 0.0, 0.498], [0.69, 0.0, 0.498], [0.69, 0.0, 0.498], [0.69, 0.0, 0.498], [0.69, 0.0, 0.498], [0.69, 0.0, 0.498], [0.69, 0.0, 0.498], [0.69, 0.0, 0.498], [0.69, 0.0, 0.498], [0.69, 0.0, 0.498], [0.69, 0.0, 0.498], [0.69, 0.0, 0.498], [0.69, 0.0, 0.498], [0.69, 0.0, 0.498], [0.69, 0.0, 0.498], [0.69, 0.0, 0.498], [0.69, 0.0, 0.498], [0.69, 0.0, 0.498], [0.69, 0.0, 0.498], [0.69, 0.0, 0.498], [0.69, 0.0, 0.498], [0.69, 0.0, 0.498], [0.69, 0.0, 0.498], [0.69, 0.0, 0.498], [0.69, 0.0, 0.498], [0.69, 0.0, 0.498], [0.69, 0.0, 0.498], [0.69, 0.0, 0.498], [0.69, 0.0, 0.498], [0.69, 0.0, 0.498], [0.69, 0.0, 0.498], [0.69, 0.0, 0.498], [0.69, 0.0, 0.498], [0.69, 0.0, 0.498], [0.69, 0.0, 0.498], [0.69, 0.0, 0.498], [0.69, 0.0, 0.498], [0.69, 0.0, 0.498], [0.69, 0.0, 0.498], [0.69, 0.0, 0.498], [0.69, 0.0, 0.498], [0.69, 0.0, 0.498], [0.69, 0.0, 0.498], [0.69, 0.0, 0.498], [0.69, 0.0, 0.498], [0.69, 0.0, 0.498], [0.69, 0.0, 0.498], [0.69, 0.0, 0.498], [0.69, 0.0, 0.498], [0.69, 0.0, 0.498], [0.69, 0.0, 0.498], [0.69, 0.0, 0.498], [0.69, 0.0, 0.498], [0.69, 0.0, 0.498]], \"vcolor\": [0.522, 0.741, 0.0], \"vlabel_hover\": false, \"highlight\": {\"Islord\": [0.69, 0.0, 0.498], \"Ed Lover\": [0.69, 0.0, 0.498], \"Tekitha\": [0.69, 0.0, 0.498], \"Superb\": [0.69, 0.0, 0.498], \"Popa Wu\": [0.69, 0.0, 0.498], \"Cuetrax\": [0.69, 0.0, 0.498], \"Method Man\": [0.69, 0.0, 0.498], \"Ras Kass\": [0.69, 0.0, 0.498], \"Cilvaringz\": [0.69, 0.0, 0.498], \"Ski\": [0.69, 0.0, 0.498], \"Shamel, Kareem & Jamel\": [0.69, 0.0, 0.498], \"Tash Mahogany\": [0.69, 0.0, 0.498], \"Chrisette Michele\": [0.69, 0.0, 0.498], \"Styles P\": [0.69, 0.0, 0.498], \"Puff Daddy\": [0.69, 0.0, 0.498], \"Kim Stephens\": [0.69, 0.0, 0.498], \"K. Born\": [0.69, 0.0, 0.498], \"IAM\": [0.69, 0.0, 0.498], \"Sunny Valentine\": [0.69, 0.0, 0.498], \"Killah Priest\": [0.69, 0.0, 0.498], \"Streetlife\": [0.69, 0.0, 0.498], \"Janet Jackson\": [0.69, 0.0, 0.498], \"Angela Yee\": [0.69, 0.0, 0.498], \"Ch\": [0.69, 0.0, 0.498], \"Inspectah Deck\": [0.69, 0.0, 0.498], \"Kool G Rap\": [0.69, 0.0, 0.498], \"Intrigue\": [0.69, 0.0, 0.498], \"Xavier Naidoo\": [0.69, 0.0, 0.498], \"Jadakiss\": [0.69, 0.0, 0.498], \"Madame Cez\": [0.69, 0.0, 0.498], \"Ludacris\": [0.69, 0.0, 0.498], \"Isaac Hayes\": [0.69, 0.0, 0.498], \"George Clinton\": [0.69, 0.0, 0.498], \"Carl Thomas\": [0.69, 0.0, 0.498], \"American Cream Team\": [0.69, 0.0, 0.498], \"Anthony Allen\": [0.69, 0.0, 0.498], \"Jacki-O\": [0.69, 0.0, 0.498], \"Busta Rhymes\": [0.69, 0.0, 0.498], \"Res\": [0.69, 0.0, 0.498], \"Mizzza\": [0.69, 0.0, 0.498], \"D\\u2019Angelo\": [0.69, 0.0, 0.498], \"The Willie Cottrell Band\": [0.69, 0.0, 0.498], \"U-God\": [0.69, 0.0, 0.498], \"Sheek Louch\": [0.69, 0.0, 0.498], \"Shyheim\": [0.69, 0.0, 0.498], \"The Force M.D.s\": [0.69, 0.0, 0.498], \"Allah Real\": [0.69, 0.0, 0.498], \"Lil\\u2019 Mo\": [0.69, 0.0, 0.498], \"Leatha Face\": [0.69, 0.0, 0.498], \"La the Darkman\": [0.69, 0.0, 0.498], \"Kelis\": [0.69, 0.0, 0.498], \"Chip Banks\": [0.69, 0.0, 0.498], \"Ms. Roxy\": [0.69, 0.0, 0.498], \"Dom Pachino\": [0.69, 0.0, 0.498], \"Jayms Madison\": [0.69, 0.0, 0.498], \"E3\": [0.69, 0.0, 0.498], \"Booster\": [0.69, 0.0, 0.498], \"Missy Elliott\": [0.69, 0.0, 0.498], \"Flavor Flav\": [0.69, 0.0, 0.498], \"DJ Kayslay\": [0.69, 0.0, 0.498], \"Prodigal Sunn\": [0.69, 0.0, 0.498], \"Left Eye\": [0.69, 0.0, 0.498], \"Boo Kapone\": [0.69, 0.0, 0.498], \"Angel Cake\": [0.69, 0.0, 0.498], \"Ne-Yo\": [0.69, 0.0, 0.498], \"Sun God\": [0.69, 0.0, 0.498], \"Raekwon\": [0.69, 0.0, 0.498], \"GZA\": [0.69, 0.0, 0.498], \"Blue Raspberry\": [0.69, 0.0, 0.498], \"Kid Capri\": [0.69, 0.0, 0.498], \"P.R. Terror\": [0.69, 0.0, 0.498], \"Capone\": [0.69, 0.0, 0.498], \"Redman\": [0.69, 0.0, 0.498], \"Papa Don\": [0.69, 0.0, 0.498], \"Governor Tools\": [0.69, 0.0, 0.498], \"Joan Davis\": [0.69, 0.0, 0.498], \"Timbo King\": [0.69, 0.0, 0.498], \"Beat Switch\": [0.69, 0.0, 0.498], \"Carlton Fisk\": [0.69, 0.0, 0.498], \"Young Justice\": [0.69, 0.0, 0.498], \"Startel\": [0.69, 0.0, 0.498], \"Star\": [0.69, 0.0, 0.498], \"Big Gipp\": [0.69, 0.0, 0.498], \"Suga Bang Bang\": [0.69, 0.0, 0.498], \"Polite\": [0.69, 0.0, 0.498], \"Masta Killa\": [0.69, 0.0, 0.498], \"Nas\": [0.69, 0.0, 0.498], \"Black Ice\": [0.69, 0.0, 0.498], \"Shadii\": [0.69, 0.0, 0.498], \"Kinetic 9\": [0.69, 0.0, 0.498], \"Chris Rock\": [0.69, 0.0, 0.498], \"Vine Mojica\": [0.69, 0.0, 0.498], \"Zu Keeper\": [0.69, 0.0, 0.498], \"ODB\": [0.69, 0.0, 0.498], \"Amille D. Harris\": [0.69, 0.0, 0.498], \"Madame D\": [0.69, 0.0, 0.498], \"Santi White\": [0.69, 0.0, 0.498], \"Cool & Dre\": [0.69, 0.0, 0.498], \"Dexter Wiggle\": [0.69, 0.0, 0.498], \"Cappadonna\": [0.69, 0.0, 0.498], \"Madame Majestic\": [0.69, 0.0, 0.498], \"Ron Isley\": [0.69, 0.0, 0.498], \"Ruff Endz\": [0.69, 0.0, 0.498], \"Buddha Monk\": [0.69, 0.0, 0.498], \"Trife da God\": [0.69, 0.0, 0.498], \"Ghostface Killah\": [0.69, 0.0, 0.498], \"Snoop Dogg\": [0.69, 0.0, 0.498], \"Kanye West\": [0.69, 0.0, 0.498], \"Gerald Alston\": [0.69, 0.0, 0.498], \"Twiz\": [0.69, 0.0, 0.498], \"The Delfonics\": [0.69, 0.0, 0.498], \"Dreddy Kruger\": [0.69, 0.0, 0.498], \"Doc Gyneco\": [0.69, 0.0, 0.498], \"Music Soulchild\": [0.69, 0.0, 0.498], \"Ice Water Inc.\": [0.69, 0.0, 0.498], \"Solomon Childs\": [0.69, 0.0, 0.498], \"12 O\\u2019Clock\": [0.69, 0.0, 0.498], \"Ultra\": [0.69, 0.0, 0.498], \"Shift Shi Yan Ming\": [0.69, 0.0, 0.498], \"Crisis\": [0.69, 0.0, 0.498], \"Tiffany Villarreal\": [0.69, 0.0, 0.498], \"Kardinal Offishall\": [0.69, 0.0, 0.498], \"The Notorious B.I.G.\": [0.69, 0.0, 0.498], \"Killa Sin\": [0.69, 0.0, 0.498], \"Mr. Porter\": [0.69, 0.0, 0.498], \"Havoc\": [0.69, 0.0, 0.498], \"Megan Rochell\": [0.69, 0.0, 0.498], \"MC Eiht\": [0.69, 0.0, 0.498], \"Victorious\": [0.69, 0.0, 0.498], \"Doc Doom\": [0.69, 0.0, 0.498], \"Mathematics\": [0.69, 0.0, 0.498], \"Ebony Burke\": [0.69, 0.0, 0.498], \"Njeri Earth\": [0.69, 0.0, 0.498], \"Paulissa Moorman\": [0.69, 0.0, 0.498], \"Junior Reid\": [0.69, 0.0, 0.498], \"Squeak Ru\": [0.69, 0.0, 0.498], \"Santigold\": [0.69, 0.0, 0.498], \"Ginuwine\": [0.69, 0.0, 0.498], \"Erica Bryant\": [0.69, 0.0, 0.498], \"Shorty S\": [0.69, 0.0, 0.498], \"9th Prince\": [0.69, 0.0, 0.498], \"Saukrates\": [0.69, 0.0, 0.498], \"Beretta 9\": [0.69, 0.0, 0.498], \"Trigga\": [0.69, 0.0, 0.498], \"Murduc\": [0.69, 0.0, 0.498], \"Uncle Pete\": [0.69, 0.0, 0.498], \"RZA\": [0.69, 0.0, 0.498], \"Hell Razah\": [0.69, 0.0, 0.498], \"CCF Division\": [0.69, 0.0, 0.498], \"Joi Star\": [0.69, 0.0, 0.498], \"Monk\": [0.69, 0.0, 0.498], \"Free Murder\": [0.69, 0.0, 0.498], \"Big Bub\": [0.69, 0.0, 0.498], \"Amy Winehouse\": [0.69, 0.0, 0.498], \"Fat Joe\": [0.69, 0.0, 0.498], \"Cho-Flo\": [0.69, 0.0, 0.498], \"K. Fox\": [0.69, 0.0, 0.498], \"Erykah Badu\": [0.69, 0.0, 0.498], \"Jamie Sommers\": [0.69, 0.0, 0.498], \"Rhythm Roots Allstars\": [0.69, 0.0, 0.498], \"Mr. Maygreen\": [0.69, 0.0, 0.498], \"Eamon\": [0.69, 0.0, 0.498], \"Shawn Wigs\": [0.69, 0.0, 0.498], \"Trife\": [0.69, 0.0, 0.498], \"Crummie Beats\": [0.69, 0.0, 0.498], \"Armel\": [0.69, 0.0, 0.498], \"Bennie Sigel\": [0.69, 0.0, 0.498], \"Mojehan\": [0.69, 0.0, 0.498], \"Mary J. Blige\": [0.69, 0.0, 0.498], \"60 Second Assassin\": [0.69, 0.0, 0.498]}, \"v_offset\": 0.03}, \"view_components\": [\"View\"], \"type\": \"SGraph\", \"descriptives_links\": {\"edges\": \"edges\", \"vertices\": \"vertices\"}, \"descriptives\": {\"edges\": 25, \"vertices\": 22}}, \"positions\": null, \"error_type\": 0, \"vertices\": [\"Cappadonna\", \"Streetlife\", \"Tical\", \"The W\", \"Ironman\", \"Wu-Tang Forever\", \"Uncontrolled Substance\", \"More Fish\", \"No Said Date\", \"Iron Flag\", \"Legend of the Liquid Sword\", \"Digital Bullet\", \"4:21\\u2026The Day After\", \"Tical 0: The Prequel\", \"Supreme Clientele\", \"8 Diagrams\", \"The Movement\", \"The Lex Diamond Story\", \"Tical 2000: Judgement Day\", \"The Big Doe Rehab\", \"Only Built 4 Cuban Linx\\u2026\", \"Fishscale\"], \"vertices_labels\": [\"Cappadonna\", \"Streetlife\", \"Tical\", \"The W\", \"Ironman\", \"Wu-Tang Forever\", \"Uncontrolled Substance\", \"More Fish\", \"No Said Date\", \"Iron Flag\", \"Legend of the Liquid Sword\", \"Digital Bullet\", \"4:21\\u2026The Day After\", \"Tical 0: The Prequel\", \"Supreme Clientele\", \"8 Diagrams\", \"The Movement\", \"The Lex Diamond Story\", \"Tical 2000: Judgement Day\", \"The Big Doe Rehab\", \"Only Built 4 Cuban Linx\\u2026\", \"Fishscale\"], \"edges\": [[\"The W\", \"Cappadonna\"], [\"Wu-Tang Forever\", \"Cappadonna\"], [\"Ironman\", \"Cappadonna\"], [\"The W\", \"Streetlife\"], [\"Wu-Tang Forever\", \"Streetlife\"], [\"Tical\", \"Streetlife\"], [\"More Fish\", \"Cappadonna\"], [\"Uncontrolled Substance\", \"Streetlife\"], [\"Iron Flag\", \"Cappadonna\"], [\"Legend of the Liquid Sword\", \"Streetlife\"], [\"No Said Date\", \"Streetlife\"], [\"Digital Bullet\", \"Streetlife\"], [\"Iron Flag\", \"Streetlife\"], [\"4:21\\u2026The Day After\", \"Streetlife\"], [\"The Lex Diamond Story\", \"Cappadonna\"], [\"Supreme Clientele\", \"Cappadonna\"], [\"8 Diagrams\", \"Cappadonna\"], [\"The Movement\", \"Streetlife\"], [\"8 Diagrams\", \"Streetlife\"], [\"Tical 0: The Prequel\", \"Streetlife\"], [\"The Big Doe Rehab\", \"Cappadonna\"], [\"Only Built 4 Cuban Linx\\u2026\", \"Cappadonna\"], [\"Tical 2000: Judgement Day\", \"Cappadonna\"], [\"Fishscale\", \"Cappadonna\"], [\"Tical 2000: Judgement Day\", \"Streetlife\"]], \"ipython\": true, \"error_msg\": \"\"}, e);\n",
       "                });\n",
       "            })();\n",
       "        "
      ]
     },
     "metadata": {},
     "output_type": "display_data"
    }
   ],
   "source": [
    "gCompare = g.get_neighborhood(['Streetlife', 'Cappadonna'])\n",
    "gCompare.show(vlabel='__id', highlight=sf['Artist'])"
   ]
  },
  {
   "cell_type": "markdown",
   "metadata": {},
   "source": [
    "Based upon network analysis, it would seem that Streetlife should be considered the 10th member of the Wu-Tang Clan and not Cappadonna. "
   ]
  },
  {
   "cell_type": "markdown",
   "metadata": {},
   "source": [
    "## Question 4: How did the Wu-Tang netwok change after Triumph?\n",
    "\n",
    "Triumph was the Wu-Tang's most successful album.  It sold over 4 million copies.  What did the Wu-Tang network look like before this album and after?"
   ]
  },
  {
   "cell_type": "code",
   "execution_count": 16,
   "metadata": {},
   "outputs": [
    {
     "data": {
      "application/javascript": [
       "$(\"head\").append($(\"<link/>\").attr({\n",
       "  rel:  \"stylesheet\",\n",
       "  type: \"text/css\",\n",
       "  href: \"//cdnjs.cloudflare.com/ajax/libs/font-awesome/4.1.0/css/font-awesome.min.css\"\n",
       "}));\n",
       "$(\"head\").append($(\"<link/>\").attr({\n",
       "  rel:  \"stylesheet\",\n",
       "  type: \"text/css\",\n",
       "  href: \"https://static.turi.com/products/graphlab-create/2.1/canvas/css/canvas.css\"\n",
       "}));\n",
       "\n",
       "            (function(){\n",
       "\n",
       "                var e = null;\n",
       "                if (typeof element == 'undefined') {\n",
       "                    var scripts = document.getElementsByTagName('script');\n",
       "                    var thisScriptTag = scripts[scripts.length-1];\n",
       "                    var parentDiv = thisScriptTag.parentNode;\n",
       "                    e = document.createElement('div');\n",
       "                    parentDiv.appendChild(e);\n",
       "                } else {\n",
       "                    e = element[0];\n",
       "                }\n",
       "\n",
       "                if (typeof requirejs !== 'undefined') {\n",
       "                    // disable load timeout; ipython_app.js is large and can take a while to load.\n",
       "                    requirejs.config({waitSeconds: 0});\n",
       "                }\n",
       "\n",
       "                require(['https://static.turi.com/products/graphlab-create/2.1/canvas/js/ipython_app.js'], function(IPythonApp){\n",
       "                    var app = new IPythonApp();\n",
       "                    app.attachView('sgraph','View', {\"edges_labels\": null, \"selected_variable\": {\"name\": [\"gTriumph\"], \"view_file\": \"sgraph\", \"view_component\": \"View\", \"view_params\": {\"elabel_hover\": false, \"vertex_positions\": null, \"h_offset\": 0.0, \"node_size\": 300, \"ecolor\": [0.37, 0.33, 0.33], \"elabel\": null, \"arrows\": false, \"ewidth\": 1, \"vlabel\": \"__id\", \"highlight_color\": [[0.69, 0.0, 0.498], [0.69, 0.0, 0.498], [0.69, 0.0, 0.498], [0.69, 0.0, 0.498], [0.69, 0.0, 0.498], [0.69, 0.0, 0.498], [0.69, 0.0, 0.498], [0.69, 0.0, 0.498], [0.69, 0.0, 0.498], [0.69, 0.0, 0.498], [0.69, 0.0, 0.498], [0.69, 0.0, 0.498], [0.69, 0.0, 0.498], [0.69, 0.0, 0.498], [0.69, 0.0, 0.498], [0.69, 0.0, 0.498], [0.69, 0.0, 0.498], [0.69, 0.0, 0.498], [0.69, 0.0, 0.498], [0.69, 0.0, 0.498], [0.69, 0.0, 0.498], [0.69, 0.0, 0.498], [0.69, 0.0, 0.498], [0.69, 0.0, 0.498], [0.69, 0.0, 0.498], [0.69, 0.0, 0.498], [0.69, 0.0, 0.498], [0.69, 0.0, 0.498], [0.69, 0.0, 0.498], [0.69, 0.0, 0.498], [0.69, 0.0, 0.498], [0.69, 0.0, 0.498], [0.69, 0.0, 0.498], [0.69, 0.0, 0.498], [0.69, 0.0, 0.498], [0.69, 0.0, 0.498], [0.69, 0.0, 0.498], [0.69, 0.0, 0.498], [0.69, 0.0, 0.498], [0.69, 0.0, 0.498], [0.69, 0.0, 0.498], [0.69, 0.0, 0.498], [0.69, 0.0, 0.498], [0.69, 0.0, 0.498], [0.69, 0.0, 0.498], [0.69, 0.0, 0.498], [0.69, 0.0, 0.498], [0.69, 0.0, 0.498], [0.69, 0.0, 0.498], [0.69, 0.0, 0.498], [0.69, 0.0, 0.498], [0.69, 0.0, 0.498], [0.69, 0.0, 0.498], [0.69, 0.0, 0.498], [0.69, 0.0, 0.498], [0.69, 0.0, 0.498], [0.69, 0.0, 0.498], [0.69, 0.0, 0.498], [0.69, 0.0, 0.498], [0.69, 0.0, 0.498], [0.69, 0.0, 0.498], [0.69, 0.0, 0.498], [0.69, 0.0, 0.498], [0.69, 0.0, 0.498], [0.69, 0.0, 0.498], [0.69, 0.0, 0.498], [0.69, 0.0, 0.498], [0.69, 0.0, 0.498], [0.69, 0.0, 0.498], [0.69, 0.0, 0.498], [0.69, 0.0, 0.498], [0.69, 0.0, 0.498], [0.69, 0.0, 0.498], [0.69, 0.0, 0.498], [0.69, 0.0, 0.498], [0.69, 0.0, 0.498], [0.69, 0.0, 0.498], [0.69, 0.0, 0.498], [0.69, 0.0, 0.498], [0.69, 0.0, 0.498], [0.69, 0.0, 0.498], [0.69, 0.0, 0.498], [0.69, 0.0, 0.498], [0.69, 0.0, 0.498], [0.69, 0.0, 0.498], [0.69, 0.0, 0.498], [0.69, 0.0, 0.498], [0.69, 0.0, 0.498], [0.69, 0.0, 0.498], [0.69, 0.0, 0.498], [0.69, 0.0, 0.498], [0.69, 0.0, 0.498], [0.69, 0.0, 0.498], [0.69, 0.0, 0.498], [0.69, 0.0, 0.498], [0.69, 0.0, 0.498], [0.69, 0.0, 0.498], [0.69, 0.0, 0.498], [0.69, 0.0, 0.498], [0.69, 0.0, 0.498], [0.69, 0.0, 0.498], [0.69, 0.0, 0.498], [0.69, 0.0, 0.498], [0.69, 0.0, 0.498], [0.69, 0.0, 0.498], [0.69, 0.0, 0.498], [0.69, 0.0, 0.498], [0.69, 0.0, 0.498], [0.69, 0.0, 0.498], [0.69, 0.0, 0.498], [0.69, 0.0, 0.498], [0.69, 0.0, 0.498], [0.69, 0.0, 0.498], [0.69, 0.0, 0.498], [0.69, 0.0, 0.498], [0.69, 0.0, 0.498], [0.69, 0.0, 0.498], [0.69, 0.0, 0.498], [0.69, 0.0, 0.498], [0.69, 0.0, 0.498], [0.69, 0.0, 0.498], [0.69, 0.0, 0.498], [0.69, 0.0, 0.498], [0.69, 0.0, 0.498], [0.69, 0.0, 0.498], [0.69, 0.0, 0.498], [0.69, 0.0, 0.498], [0.69, 0.0, 0.498], [0.69, 0.0, 0.498], [0.69, 0.0, 0.498], [0.69, 0.0, 0.498], [0.69, 0.0, 0.498], [0.69, 0.0, 0.498], [0.69, 0.0, 0.498], [0.69, 0.0, 0.498], [0.69, 0.0, 0.498], [0.69, 0.0, 0.498], [0.69, 0.0, 0.498], [0.69, 0.0, 0.498], [0.69, 0.0, 0.498], [0.69, 0.0, 0.498], [0.69, 0.0, 0.498], [0.69, 0.0, 0.498], [0.69, 0.0, 0.498], [0.69, 0.0, 0.498], [0.69, 0.0, 0.498], [0.69, 0.0, 0.498], [0.69, 0.0, 0.498], [0.69, 0.0, 0.498], [0.69, 0.0, 0.498], [0.69, 0.0, 0.498], [0.69, 0.0, 0.498], [0.69, 0.0, 0.498], [0.69, 0.0, 0.498], [0.69, 0.0, 0.498], [0.69, 0.0, 0.498], [0.69, 0.0, 0.498], [0.69, 0.0, 0.498], [0.69, 0.0, 0.498], [0.69, 0.0, 0.498], [0.69, 0.0, 0.498], [0.69, 0.0, 0.498], [0.69, 0.0, 0.498], [0.69, 0.0, 0.498], [0.69, 0.0, 0.498], [0.69, 0.0, 0.498], [0.69, 0.0, 0.498], [0.69, 0.0, 0.498], [0.69, 0.0, 0.498], [0.69, 0.0, 0.498], [0.69, 0.0, 0.498], [0.69, 0.0, 0.498], [0.69, 0.0, 0.498], [0.69, 0.0, 0.498], [0.69, 0.0, 0.498], [0.69, 0.0, 0.498], [0.69, 0.0, 0.498], [0.69, 0.0, 0.498], [0.69, 0.0, 0.498], [0.69, 0.0, 0.498], [0.69, 0.0, 0.498], [0.69, 0.0, 0.498], [0.69, 0.0, 0.498], [0.69, 0.0, 0.498], [0.69, 0.0, 0.498], [0.69, 0.0, 0.498], [0.69, 0.0, 0.498], [0.69, 0.0, 0.498], [0.69, 0.0, 0.498], [0.69, 0.0, 0.498], [0.69, 0.0, 0.498], [0.69, 0.0, 0.498], [0.69, 0.0, 0.498], [0.69, 0.0, 0.498], [0.69, 0.0, 0.498], [0.69, 0.0, 0.498], [0.69, 0.0, 0.498], [0.69, 0.0, 0.498], [0.69, 0.0, 0.498], [0.69, 0.0, 0.498], [0.69, 0.0, 0.498], [0.69, 0.0, 0.498], [0.69, 0.0, 0.498], [0.69, 0.0, 0.498], [0.69, 0.0, 0.498], [0.69, 0.0, 0.498], [0.69, 0.0, 0.498], [0.69, 0.0, 0.498], [0.69, 0.0, 0.498], [0.69, 0.0, 0.498], [0.69, 0.0, 0.498], [0.69, 0.0, 0.498], [0.69, 0.0, 0.498], [0.69, 0.0, 0.498], [0.69, 0.0, 0.498], [0.69, 0.0, 0.498], [0.69, 0.0, 0.498], [0.69, 0.0, 0.498], [0.69, 0.0, 0.498], [0.69, 0.0, 0.498], [0.69, 0.0, 0.498], [0.69, 0.0, 0.498], [0.69, 0.0, 0.498], [0.69, 0.0, 0.498], [0.69, 0.0, 0.498], [0.69, 0.0, 0.498], [0.69, 0.0, 0.498], [0.69, 0.0, 0.498], [0.69, 0.0, 0.498], [0.69, 0.0, 0.498], [0.69, 0.0, 0.498], [0.69, 0.0, 0.498], [0.69, 0.0, 0.498], [0.69, 0.0, 0.498], [0.69, 0.0, 0.498], [0.69, 0.0, 0.498], [0.69, 0.0, 0.498], [0.69, 0.0, 0.498], [0.69, 0.0, 0.498], [0.69, 0.0, 0.498], [0.69, 0.0, 0.498], [0.69, 0.0, 0.498], [0.69, 0.0, 0.498], [0.69, 0.0, 0.498], [0.69, 0.0, 0.498], [0.69, 0.0, 0.498], [0.69, 0.0, 0.498], [0.69, 0.0, 0.498], [0.69, 0.0, 0.498], [0.69, 0.0, 0.498], [0.69, 0.0, 0.498], [0.69, 0.0, 0.498], [0.69, 0.0, 0.498], [0.69, 0.0, 0.498], [0.69, 0.0, 0.498], [0.69, 0.0, 0.498], [0.69, 0.0, 0.498], [0.69, 0.0, 0.498], [0.69, 0.0, 0.498], [0.69, 0.0, 0.498], [0.69, 0.0, 0.498], [0.69, 0.0, 0.498], [0.69, 0.0, 0.498], [0.69, 0.0, 0.498], [0.69, 0.0, 0.498], [0.69, 0.0, 0.498], [0.69, 0.0, 0.498], [0.69, 0.0, 0.498], [0.69, 0.0, 0.498], [0.69, 0.0, 0.498], [0.69, 0.0, 0.498], [0.69, 0.0, 0.498], [0.69, 0.0, 0.498], [0.69, 0.0, 0.498], [0.69, 0.0, 0.498], [0.69, 0.0, 0.498], [0.69, 0.0, 0.498], [0.69, 0.0, 0.498], [0.69, 0.0, 0.498], [0.69, 0.0, 0.498], [0.69, 0.0, 0.498], [0.69, 0.0, 0.498], [0.69, 0.0, 0.498], [0.69, 0.0, 0.498], [0.69, 0.0, 0.498], [0.69, 0.0, 0.498], [0.69, 0.0, 0.498], [0.69, 0.0, 0.498], [0.69, 0.0, 0.498], [0.69, 0.0, 0.498], [0.69, 0.0, 0.498], [0.69, 0.0, 0.498], [0.69, 0.0, 0.498], [0.69, 0.0, 0.498], [0.69, 0.0, 0.498], [0.69, 0.0, 0.498], [0.69, 0.0, 0.498], [0.69, 0.0, 0.498], [0.69, 0.0, 0.498], [0.69, 0.0, 0.498], [0.69, 0.0, 0.498], [0.69, 0.0, 0.498], [0.69, 0.0, 0.498], [0.69, 0.0, 0.498], [0.69, 0.0, 0.498], [0.69, 0.0, 0.498], [0.69, 0.0, 0.498], [0.69, 0.0, 0.498], [0.69, 0.0, 0.498], [0.69, 0.0, 0.498], [0.69, 0.0, 0.498], [0.69, 0.0, 0.498], [0.69, 0.0, 0.498], [0.69, 0.0, 0.498], [0.69, 0.0, 0.498], [0.69, 0.0, 0.498], [0.69, 0.0, 0.498], [0.69, 0.0, 0.498], [0.69, 0.0, 0.498], [0.69, 0.0, 0.498], [0.69, 0.0, 0.498], [0.69, 0.0, 0.498], [0.69, 0.0, 0.498], [0.69, 0.0, 0.498], [0.69, 0.0, 0.498], [0.69, 0.0, 0.498], [0.69, 0.0, 0.498], [0.69, 0.0, 0.498], [0.69, 0.0, 0.498], [0.69, 0.0, 0.498], [0.69, 0.0, 0.498], [0.69, 0.0, 0.498], [0.69, 0.0, 0.498], [0.69, 0.0, 0.498], [0.69, 0.0, 0.498], [0.69, 0.0, 0.498], [0.69, 0.0, 0.498], [0.69, 0.0, 0.498], [0.69, 0.0, 0.498], [0.69, 0.0, 0.498], [0.69, 0.0, 0.498], [0.69, 0.0, 0.498], [0.69, 0.0, 0.498], [0.69, 0.0, 0.498], [0.69, 0.0, 0.498], [0.69, 0.0, 0.498], [0.69, 0.0, 0.498], [0.69, 0.0, 0.498], [0.69, 0.0, 0.498], [0.69, 0.0, 0.498], [0.69, 0.0, 0.498], [0.69, 0.0, 0.498], [0.69, 0.0, 0.498], [0.69, 0.0, 0.498], [0.69, 0.0, 0.498], [0.69, 0.0, 0.498], [0.69, 0.0, 0.498], [0.69, 0.0, 0.498], [0.69, 0.0, 0.498], [0.69, 0.0, 0.498], [0.69, 0.0, 0.498], [0.69, 0.0, 0.498], [0.69, 0.0, 0.498], [0.69, 0.0, 0.498], [0.69, 0.0, 0.498], [0.69, 0.0, 0.498], [0.69, 0.0, 0.498], [0.69, 0.0, 0.498], [0.69, 0.0, 0.498], [0.69, 0.0, 0.498], [0.69, 0.0, 0.498], [0.69, 0.0, 0.498], [0.69, 0.0, 0.498], [0.69, 0.0, 0.498], [0.69, 0.0, 0.498], [0.69, 0.0, 0.498], [0.69, 0.0, 0.498], [0.69, 0.0, 0.498], [0.69, 0.0, 0.498], [0.69, 0.0, 0.498], [0.69, 0.0, 0.498], [0.69, 0.0, 0.498], [0.69, 0.0, 0.498], [0.69, 0.0, 0.498], [0.69, 0.0, 0.498], [0.69, 0.0, 0.498], [0.69, 0.0, 0.498], [0.69, 0.0, 0.498], [0.69, 0.0, 0.498], [0.69, 0.0, 0.498], [0.69, 0.0, 0.498], [0.69, 0.0, 0.498], [0.69, 0.0, 0.498], [0.69, 0.0, 0.498], [0.69, 0.0, 0.498], [0.69, 0.0, 0.498], [0.69, 0.0, 0.498], [0.69, 0.0, 0.498], [0.69, 0.0, 0.498], [0.69, 0.0, 0.498], [0.69, 0.0, 0.498], [0.69, 0.0, 0.498], [0.69, 0.0, 0.498], [0.69, 0.0, 0.498], [0.69, 0.0, 0.498], [0.69, 0.0, 0.498], [0.69, 0.0, 0.498], [0.69, 0.0, 0.498], [0.69, 0.0, 0.498], [0.69, 0.0, 0.498], [0.69, 0.0, 0.498], [0.69, 0.0, 0.498], [0.69, 0.0, 0.498], [0.69, 0.0, 0.498], [0.69, 0.0, 0.498], [0.69, 0.0, 0.498], [0.69, 0.0, 0.498], [0.69, 0.0, 0.498], [0.69, 0.0, 0.498], [0.69, 0.0, 0.498], [0.69, 0.0, 0.498], [0.69, 0.0, 0.498], [0.69, 0.0, 0.498], [0.69, 0.0, 0.498], [0.69, 0.0, 0.498], [0.69, 0.0, 0.498], [0.69, 0.0, 0.498], [0.69, 0.0, 0.498], [0.69, 0.0, 0.498], [0.69, 0.0, 0.498], [0.69, 0.0, 0.498], [0.69, 0.0, 0.498], [0.69, 0.0, 0.498], [0.69, 0.0, 0.498], [0.69, 0.0, 0.498], [0.69, 0.0, 0.498], [0.69, 0.0, 0.498], [0.69, 0.0, 0.498], [0.69, 0.0, 0.498], [0.69, 0.0, 0.498]], \"vcolor\": [0.522, 0.741, 0.0], \"vlabel_hover\": true, \"highlight\": {\"Islord\": [0.69, 0.0, 0.498], \"Ed Lover\": [0.69, 0.0, 0.498], \"Tekitha\": [0.69, 0.0, 0.498], \"Superb\": [0.69, 0.0, 0.498], \"Popa Wu\": [0.69, 0.0, 0.498], \"Cuetrax\": [0.69, 0.0, 0.498], \"Method Man\": [0.69, 0.0, 0.498], \"Ras Kass\": [0.69, 0.0, 0.498], \"Cilvaringz\": [0.69, 0.0, 0.498], \"Ski\": [0.69, 0.0, 0.498], \"Shamel, Kareem & Jamel\": [0.69, 0.0, 0.498], \"Tash Mahogany\": [0.69, 0.0, 0.498], \"Chrisette Michele\": [0.69, 0.0, 0.498], \"Styles P\": [0.69, 0.0, 0.498], \"Puff Daddy\": [0.69, 0.0, 0.498], \"Kim Stephens\": [0.69, 0.0, 0.498], \"K. Born\": [0.69, 0.0, 0.498], \"IAM\": [0.69, 0.0, 0.498], \"Sunny Valentine\": [0.69, 0.0, 0.498], \"Killah Priest\": [0.69, 0.0, 0.498], \"Streetlife\": [0.69, 0.0, 0.498], \"Janet Jackson\": [0.69, 0.0, 0.498], \"Angela Yee\": [0.69, 0.0, 0.498], \"Ch\": [0.69, 0.0, 0.498], \"Inspectah Deck\": [0.69, 0.0, 0.498], \"Kool G Rap\": [0.69, 0.0, 0.498], \"Intrigue\": [0.69, 0.0, 0.498], \"Xavier Naidoo\": [0.69, 0.0, 0.498], \"Jadakiss\": [0.69, 0.0, 0.498], \"Madame Cez\": [0.69, 0.0, 0.498], \"Ludacris\": [0.69, 0.0, 0.498], \"Isaac Hayes\": [0.69, 0.0, 0.498], \"George Clinton\": [0.69, 0.0, 0.498], \"Carl Thomas\": [0.69, 0.0, 0.498], \"American Cream Team\": [0.69, 0.0, 0.498], \"Anthony Allen\": [0.69, 0.0, 0.498], \"Jacki-O\": [0.69, 0.0, 0.498], \"Busta Rhymes\": [0.69, 0.0, 0.498], \"Res\": [0.69, 0.0, 0.498], \"Mizzza\": [0.69, 0.0, 0.498], \"D\\u2019Angelo\": [0.69, 0.0, 0.498], \"The Willie Cottrell Band\": [0.69, 0.0, 0.498], \"U-God\": [0.69, 0.0, 0.498], \"Sheek Louch\": [0.69, 0.0, 0.498], \"Shyheim\": [0.69, 0.0, 0.498], \"The Force M.D.s\": [0.69, 0.0, 0.498], \"Allah Real\": [0.69, 0.0, 0.498], \"Lil\\u2019 Mo\": [0.69, 0.0, 0.498], \"Leatha Face\": [0.69, 0.0, 0.498], \"La the Darkman\": [0.69, 0.0, 0.498], \"Kelis\": [0.69, 0.0, 0.498], \"Chip Banks\": [0.69, 0.0, 0.498], \"Ms. Roxy\": [0.69, 0.0, 0.498], \"Dom Pachino\": [0.69, 0.0, 0.498], \"Jayms Madison\": [0.69, 0.0, 0.498], \"E3\": [0.69, 0.0, 0.498], \"Booster\": [0.69, 0.0, 0.498], \"Missy Elliott\": [0.69, 0.0, 0.498], \"Flavor Flav\": [0.69, 0.0, 0.498], \"DJ Kayslay\": [0.69, 0.0, 0.498], \"Prodigal Sunn\": [0.69, 0.0, 0.498], \"Left Eye\": [0.69, 0.0, 0.498], \"Boo Kapone\": [0.69, 0.0, 0.498], \"Angel Cake\": [0.69, 0.0, 0.498], \"Ne-Yo\": [0.69, 0.0, 0.498], \"Sun God\": [0.69, 0.0, 0.498], \"Raekwon\": [0.69, 0.0, 0.498], \"GZA\": [0.69, 0.0, 0.498], \"Blue Raspberry\": [0.69, 0.0, 0.498], \"Kid Capri\": [0.69, 0.0, 0.498], \"P.R. Terror\": [0.69, 0.0, 0.498], \"Capone\": [0.69, 0.0, 0.498], \"Redman\": [0.69, 0.0, 0.498], \"Papa Don\": [0.69, 0.0, 0.498], \"Governor Tools\": [0.69, 0.0, 0.498], \"Joan Davis\": [0.69, 0.0, 0.498], \"Timbo King\": [0.69, 0.0, 0.498], \"Beat Switch\": [0.69, 0.0, 0.498], \"Carlton Fisk\": [0.69, 0.0, 0.498], \"Young Justice\": [0.69, 0.0, 0.498], \"Startel\": [0.69, 0.0, 0.498], \"Star\": [0.69, 0.0, 0.498], \"Big Gipp\": [0.69, 0.0, 0.498], \"Suga Bang Bang\": [0.69, 0.0, 0.498], \"Polite\": [0.69, 0.0, 0.498], \"Masta Killa\": [0.69, 0.0, 0.498], \"Nas\": [0.69, 0.0, 0.498], \"Black Ice\": [0.69, 0.0, 0.498], \"Shadii\": [0.69, 0.0, 0.498], \"Kinetic 9\": [0.69, 0.0, 0.498], \"Chris Rock\": [0.69, 0.0, 0.498], \"Vine Mojica\": [0.69, 0.0, 0.498], \"Zu Keeper\": [0.69, 0.0, 0.498], \"ODB\": [0.69, 0.0, 0.498], \"Amille D. Harris\": [0.69, 0.0, 0.498], \"Madame D\": [0.69, 0.0, 0.498], \"Santi White\": [0.69, 0.0, 0.498], \"Cool & Dre\": [0.69, 0.0, 0.498], \"Dexter Wiggle\": [0.69, 0.0, 0.498], \"Cappadonna\": [0.69, 0.0, 0.498], \"Madame Majestic\": [0.69, 0.0, 0.498], \"Ron Isley\": [0.69, 0.0, 0.498], \"Ruff Endz\": [0.69, 0.0, 0.498], \"Buddha Monk\": [0.69, 0.0, 0.498], \"Trife da God\": [0.69, 0.0, 0.498], \"Ghostface Killah\": [0.69, 0.0, 0.498], \"Snoop Dogg\": [0.69, 0.0, 0.498], \"Kanye West\": [0.69, 0.0, 0.498], \"Gerald Alston\": [0.69, 0.0, 0.498], \"Twiz\": [0.69, 0.0, 0.498], \"The Delfonics\": [0.69, 0.0, 0.498], \"Dreddy Kruger\": [0.69, 0.0, 0.498], \"Doc Gyneco\": [0.69, 0.0, 0.498], \"Music Soulchild\": [0.69, 0.0, 0.498], \"Ice Water Inc.\": [0.69, 0.0, 0.498], \"Solomon Childs\": [0.69, 0.0, 0.498], \"12 O\\u2019Clock\": [0.69, 0.0, 0.498], \"Ultra\": [0.69, 0.0, 0.498], \"Shift Shi Yan Ming\": [0.69, 0.0, 0.498], \"Crisis\": [0.69, 0.0, 0.498], \"Tiffany Villarreal\": [0.69, 0.0, 0.498], \"Kardinal Offishall\": [0.69, 0.0, 0.498], \"The Notorious B.I.G.\": [0.69, 0.0, 0.498], \"Killa Sin\": [0.69, 0.0, 0.498], \"Mr. Porter\": [0.69, 0.0, 0.498], \"Havoc\": [0.69, 0.0, 0.498], \"Megan Rochell\": [0.69, 0.0, 0.498], \"MC Eiht\": [0.69, 0.0, 0.498], \"Victorious\": [0.69, 0.0, 0.498], \"Doc Doom\": [0.69, 0.0, 0.498], \"Mathematics\": [0.69, 0.0, 0.498], \"Ebony Burke\": [0.69, 0.0, 0.498], \"Njeri Earth\": [0.69, 0.0, 0.498], \"Paulissa Moorman\": [0.69, 0.0, 0.498], \"Junior Reid\": [0.69, 0.0, 0.498], \"Squeak Ru\": [0.69, 0.0, 0.498], \"Santigold\": [0.69, 0.0, 0.498], \"Ginuwine\": [0.69, 0.0, 0.498], \"Erica Bryant\": [0.69, 0.0, 0.498], \"Shorty S\": [0.69, 0.0, 0.498], \"9th Prince\": [0.69, 0.0, 0.498], \"Saukrates\": [0.69, 0.0, 0.498], \"Beretta 9\": [0.69, 0.0, 0.498], \"Trigga\": [0.69, 0.0, 0.498], \"Murduc\": [0.69, 0.0, 0.498], \"Uncle Pete\": [0.69, 0.0, 0.498], \"RZA\": [0.69, 0.0, 0.498], \"Hell Razah\": [0.69, 0.0, 0.498], \"CCF Division\": [0.69, 0.0, 0.498], \"Joi Star\": [0.69, 0.0, 0.498], \"Monk\": [0.69, 0.0, 0.498], \"Free Murder\": [0.69, 0.0, 0.498], \"Big Bub\": [0.69, 0.0, 0.498], \"Amy Winehouse\": [0.69, 0.0, 0.498], \"Fat Joe\": [0.69, 0.0, 0.498], \"Cho-Flo\": [0.69, 0.0, 0.498], \"K. Fox\": [0.69, 0.0, 0.498], \"Erykah Badu\": [0.69, 0.0, 0.498], \"Jamie Sommers\": [0.69, 0.0, 0.498], \"Rhythm Roots Allstars\": [0.69, 0.0, 0.498], \"Mr. Maygreen\": [0.69, 0.0, 0.498], \"Eamon\": [0.69, 0.0, 0.498], \"Shawn Wigs\": [0.69, 0.0, 0.498], \"Trife\": [0.69, 0.0, 0.498], \"Crummie Beats\": [0.69, 0.0, 0.498], \"Armel\": [0.69, 0.0, 0.498], \"Bennie Sigel\": [0.69, 0.0, 0.498], \"Mojehan\": [0.69, 0.0, 0.498], \"Mary J. Blige\": [0.69, 0.0, 0.498], \"60 Second Assassin\": [0.69, 0.0, 0.498]}, \"v_offset\": 0.03}, \"view_components\": [\"View\"], \"type\": \"SGraph\", \"descriptives_links\": {\"edges\": \"edges\", \"vertices\": \"vertices\"}, \"descriptives\": {\"edges\": 80, \"vertices\": 37}}, \"positions\": null, \"error_type\": 0, \"vertices\": [\"Popa Wu\", \"Cappadonna\", \"Buddha Monk\", \"Streetlife\", \"Return to the 36 Chambers: The Dirty Version\", \"RZA\", \"Tical\", \"Liquid Swords\", \"Ironman\", \"Wu-Tang Forever\", \"Enter the Wu-Tang (36 Chambers)\", \"Method Man\", \"Mary J. Blige\", \"Shyheim\", \"Carlton Fisk\", \"ODB\", \"Murduc\", \"60 Second Assassin\", \"Prodigal Sunn\", \"U-God\", \"Uncle Pete\", \"Zu Keeper\", \"Shorty S\", \"GZA\", \"Ms. Roxy\", \"Dom Pachino\", \"Blue Raspberry\", \"Tekitha\", \"Dreddy Kruger\", \"The Delfonics\", \"12 O\\u2019Clock\", \"Raekwon\", \"Only Built 4 Cuban Linx\\u2026\", \"Inspectah Deck\", \"Masta Killa\", \"Killah Priest\", \"Ghostface Killah\"], \"vertices_labels\": [\"Popa Wu\", \"Cappadonna\", \"Buddha Monk\", \"Streetlife\", \"Return to the 36 Chambers: The Dirty Version\", \"RZA\", \"Tical\", \"Liquid Swords\", \"Ironman\", \"Wu-Tang Forever\", \"Enter the Wu-Tang (36 Chambers)\", \"Method Man\", \"Mary J. Blige\", \"Shyheim\", \"Carlton Fisk\", \"ODB\", \"Murduc\", \"60 Second Assassin\", \"Prodigal Sunn\", \"U-God\", \"Uncle Pete\", \"Zu Keeper\", \"Shorty S\", \"GZA\", \"Ms. Roxy\", \"Dom Pachino\", \"Blue Raspberry\", \"Tekitha\", \"Dreddy Kruger\", \"The Delfonics\", \"12 O\\u2019Clock\", \"Raekwon\", \"Only Built 4 Cuban Linx\\u2026\", \"Inspectah Deck\", \"Masta Killa\", \"Killah Priest\", \"Ghostface Killah\"], \"edges\": [[\"Return to the 36 Chambers: The Dirty Version\", \"Buddha Monk\"], [\"Return to the 36 Chambers: The Dirty Version\", \"RZA\"], [\"Return to the 36 Chambers: The Dirty Version\", \"Method Man\"], [\"Return to the 36 Chambers: The Dirty Version\", \"60 Second Assassin\"], [\"Return to the 36 Chambers: The Dirty Version\", \"Zu Keeper\"], [\"Return to the 36 Chambers: The Dirty Version\", \"ODB\"], [\"Return to the 36 Chambers: The Dirty Version\", \"Prodigal Sunn\"], [\"Return to the 36 Chambers: The Dirty Version\", \"Shorty S\"], [\"Return to the 36 Chambers: The Dirty Version\", \"Murduc\"], [\"Return to the 36 Chambers: The Dirty Version\", \"GZA\"], [\"Return to the 36 Chambers: The Dirty Version\", \"12 O\\u2019Clock\"], [\"Return to the 36 Chambers: The Dirty Version\", \"Killah Priest\"], [\"Return to the 36 Chambers: The Dirty Version\", \"Raekwon\"], [\"Return to the 36 Chambers: The Dirty Version\", \"Masta Killa\"], [\"Return to the 36 Chambers: The Dirty Version\", \"Ghostface Killah\"], [\"Enter the Wu-Tang (36 Chambers)\", \"Buddha Monk\"], [\"Ironman\", \"Cappadonna\"], [\"Wu-Tang Forever\", \"Popa Wu\"], [\"Wu-Tang Forever\", \"Cappadonna\"], [\"Liquid Swords\", \"RZA\"], [\"Wu-Tang Forever\", \"Streetlife\"], [\"Tical\", \"RZA\"], [\"Enter the Wu-Tang (36 Chambers)\", \"RZA\"], [\"Tical\", \"Streetlife\"], [\"Wu-Tang Forever\", \"RZA\"], [\"Ironman\", \"RZA\"], [\"Liquid Swords\", \"Method Man\"], [\"Enter the Wu-Tang (36 Chambers)\", \"Method Man\"], [\"Ironman\", \"Method Man\"], [\"Wu-Tang Forever\", \"Method Man\"], [\"Tical\", \"Carlton Fisk\"], [\"Tical\", \"Method Man\"], [\"Wu-Tang Forever\", \"Shyheim\"], [\"Ironman\", \"Mary J. Blige\"], [\"Ironman\", \"U-God\"], [\"Liquid Swords\", \"U-God\"], [\"Enter the Wu-Tang (36 Chambers)\", \"ODB\"], [\"Wu-Tang Forever\", \"Uncle Pete\"], [\"Wu-Tang Forever\", \"ODB\"], [\"Liquid Swords\", \"ODB\"], [\"Enter the Wu-Tang (36 Chambers)\", \"U-God\"], [\"Wu-Tang Forever\", \"U-God\"], [\"Enter the Wu-Tang (36 Chambers)\", \"GZA\"], [\"Liquid Swords\", \"GZA\"], [\"Wu-Tang Forever\", \"GZA\"], [\"Tical\", \"Blue Raspberry\"], [\"Wu-Tang Forever\", \"Ms. Roxy\"], [\"Wu-Tang Forever\", \"Dom Pachino\"], [\"Ironman\", \"The Delfonics\"], [\"Wu-Tang Forever\", \"Tekitha\"], [\"Wu-Tang Forever\", \"Dreddy Kruger\"], [\"Enter the Wu-Tang (36 Chambers)\", \"Ghostface Killah\"], [\"Enter the Wu-Tang (36 Chambers)\", \"Inspectah Deck\"], [\"Enter the Wu-Tang (36 Chambers)\", \"Masta Killa\"], [\"Ironman\", \"Masta Killa\"], [\"Ironman\", \"Inspectah Deck\"], [\"Liquid Swords\", \"Raekwon\"], [\"Ironman\", \"Raekwon\"], [\"Wu-Tang Forever\", \"Inspectah Deck\"], [\"Tical\", \"Inspectah Deck\"], [\"Enter the Wu-Tang (36 Chambers)\", \"Raekwon\"], [\"Wu-Tang Forever\", \"Raekwon\"], [\"Wu-Tang Forever\", \"Masta Killa\"], [\"Wu-Tang Forever\", \"Ghostface Killah\"], [\"Liquid Swords\", \"Inspectah Deck\"], [\"Liquid Swords\", \"Ghostface Killah\"], [\"Liquid Swords\", \"Killah Priest\"], [\"Liquid Swords\", \"Masta Killa\"], [\"Tical\", \"Raekwon\"], [\"Ironman\", \"Ghostface Killah\"], [\"Only Built 4 Cuban Linx\\u2026\", \"Cappadonna\"], [\"Only Built 4 Cuban Linx\\u2026\", \"RZA\"], [\"Only Built 4 Cuban Linx\\u2026\", \"Method Man\"], [\"Only Built 4 Cuban Linx\\u2026\", \"U-God\"], [\"Only Built 4 Cuban Linx\\u2026\", \"Blue Raspberry\"], [\"Only Built 4 Cuban Linx\\u2026\", \"GZA\"], [\"Only Built 4 Cuban Linx\\u2026\", \"Inspectah Deck\"], [\"Only Built 4 Cuban Linx\\u2026\", \"Ghostface Killah\"], [\"Only Built 4 Cuban Linx\\u2026\", \"Raekwon\"], [\"Only Built 4 Cuban Linx\\u2026\", \"Masta Killa\"]], \"ipython\": true, \"error_msg\": \"\"}, e);\n",
       "                });\n",
       "            })();\n",
       "        "
      ]
     },
     "metadata": {},
     "output_type": "display_data"
    }
   ],
   "source": [
    "#network up to Triumph\n",
    "gTriumph = g.get_neighborhood(sf['Album'][sf['Year']<=1997])\n",
    "gTriumph.show(vlabel='__id', vlabel_hover=True, highlight=sf['Artist'])"
   ]
  },
  {
   "cell_type": "code",
   "execution_count": 17,
   "metadata": {},
   "outputs": [
    {
     "data": {
      "application/javascript": [
       "$(\"head\").append($(\"<link/>\").attr({\n",
       "  rel:  \"stylesheet\",\n",
       "  type: \"text/css\",\n",
       "  href: \"//cdnjs.cloudflare.com/ajax/libs/font-awesome/4.1.0/css/font-awesome.min.css\"\n",
       "}));\n",
       "$(\"head\").append($(\"<link/>\").attr({\n",
       "  rel:  \"stylesheet\",\n",
       "  type: \"text/css\",\n",
       "  href: \"https://static.turi.com/products/graphlab-create/2.1/canvas/css/canvas.css\"\n",
       "}));\n",
       "\n",
       "            (function(){\n",
       "\n",
       "                var e = null;\n",
       "                if (typeof element == 'undefined') {\n",
       "                    var scripts = document.getElementsByTagName('script');\n",
       "                    var thisScriptTag = scripts[scripts.length-1];\n",
       "                    var parentDiv = thisScriptTag.parentNode;\n",
       "                    e = document.createElement('div');\n",
       "                    parentDiv.appendChild(e);\n",
       "                } else {\n",
       "                    e = element[0];\n",
       "                }\n",
       "\n",
       "                if (typeof requirejs !== 'undefined') {\n",
       "                    // disable load timeout; ipython_app.js is large and can take a while to load.\n",
       "                    requirejs.config({waitSeconds: 0});\n",
       "                }\n",
       "\n",
       "                require(['https://static.turi.com/products/graphlab-create/2.1/canvas/js/ipython_app.js'], function(IPythonApp){\n",
       "                    var app = new IPythonApp();\n",
       "                    app.attachView('sgraph','View', {\"edges_labels\": null, \"selected_variable\": {\"name\": [\"g982002\"], \"view_file\": \"sgraph\", \"view_component\": \"View\", \"view_params\": {\"elabel_hover\": false, \"vertex_positions\": null, \"h_offset\": 0.0, \"node_size\": 300, \"ecolor\": [0.37, 0.33, 0.33], \"elabel\": null, \"arrows\": false, \"ewidth\": 1, \"vlabel\": \"__id\", \"highlight_color\": [[0.69, 0.0, 0.498], [0.69, 0.0, 0.498], [0.69, 0.0, 0.498], [0.69, 0.0, 0.498], [0.69, 0.0, 0.498], [0.69, 0.0, 0.498], [0.69, 0.0, 0.498], [0.69, 0.0, 0.498], [0.69, 0.0, 0.498], [0.69, 0.0, 0.498], [0.69, 0.0, 0.498], [0.69, 0.0, 0.498], [0.69, 0.0, 0.498], [0.69, 0.0, 0.498], [0.69, 0.0, 0.498], [0.69, 0.0, 0.498], [0.69, 0.0, 0.498], [0.69, 0.0, 0.498], [0.69, 0.0, 0.498], [0.69, 0.0, 0.498], [0.69, 0.0, 0.498], [0.69, 0.0, 0.498], [0.69, 0.0, 0.498], [0.69, 0.0, 0.498], [0.69, 0.0, 0.498], [0.69, 0.0, 0.498], [0.69, 0.0, 0.498], [0.69, 0.0, 0.498], [0.69, 0.0, 0.498], [0.69, 0.0, 0.498], [0.69, 0.0, 0.498], [0.69, 0.0, 0.498], [0.69, 0.0, 0.498], [0.69, 0.0, 0.498], [0.69, 0.0, 0.498], [0.69, 0.0, 0.498], [0.69, 0.0, 0.498], [0.69, 0.0, 0.498], [0.69, 0.0, 0.498], [0.69, 0.0, 0.498], [0.69, 0.0, 0.498], [0.69, 0.0, 0.498], [0.69, 0.0, 0.498], [0.69, 0.0, 0.498], [0.69, 0.0, 0.498], [0.69, 0.0, 0.498], [0.69, 0.0, 0.498], [0.69, 0.0, 0.498], [0.69, 0.0, 0.498], [0.69, 0.0, 0.498], [0.69, 0.0, 0.498], [0.69, 0.0, 0.498], [0.69, 0.0, 0.498], [0.69, 0.0, 0.498], [0.69, 0.0, 0.498], [0.69, 0.0, 0.498], [0.69, 0.0, 0.498], [0.69, 0.0, 0.498], [0.69, 0.0, 0.498], [0.69, 0.0, 0.498], [0.69, 0.0, 0.498], [0.69, 0.0, 0.498], [0.69, 0.0, 0.498], [0.69, 0.0, 0.498], [0.69, 0.0, 0.498], [0.69, 0.0, 0.498], [0.69, 0.0, 0.498], [0.69, 0.0, 0.498], [0.69, 0.0, 0.498], [0.69, 0.0, 0.498], [0.69, 0.0, 0.498], [0.69, 0.0, 0.498], [0.69, 0.0, 0.498], [0.69, 0.0, 0.498], [0.69, 0.0, 0.498], [0.69, 0.0, 0.498], [0.69, 0.0, 0.498], [0.69, 0.0, 0.498], [0.69, 0.0, 0.498], [0.69, 0.0, 0.498], [0.69, 0.0, 0.498], [0.69, 0.0, 0.498], [0.69, 0.0, 0.498], [0.69, 0.0, 0.498], [0.69, 0.0, 0.498], [0.69, 0.0, 0.498], [0.69, 0.0, 0.498], [0.69, 0.0, 0.498], [0.69, 0.0, 0.498], [0.69, 0.0, 0.498], [0.69, 0.0, 0.498], [0.69, 0.0, 0.498], [0.69, 0.0, 0.498], [0.69, 0.0, 0.498], [0.69, 0.0, 0.498], [0.69, 0.0, 0.498], [0.69, 0.0, 0.498], [0.69, 0.0, 0.498], [0.69, 0.0, 0.498], [0.69, 0.0, 0.498], [0.69, 0.0, 0.498], [0.69, 0.0, 0.498], [0.69, 0.0, 0.498], [0.69, 0.0, 0.498], [0.69, 0.0, 0.498], [0.69, 0.0, 0.498], [0.69, 0.0, 0.498], [0.69, 0.0, 0.498], [0.69, 0.0, 0.498], [0.69, 0.0, 0.498], [0.69, 0.0, 0.498], [0.69, 0.0, 0.498], [0.69, 0.0, 0.498], [0.69, 0.0, 0.498], [0.69, 0.0, 0.498], [0.69, 0.0, 0.498], [0.69, 0.0, 0.498], [0.69, 0.0, 0.498], [0.69, 0.0, 0.498], [0.69, 0.0, 0.498], [0.69, 0.0, 0.498], [0.69, 0.0, 0.498], [0.69, 0.0, 0.498], [0.69, 0.0, 0.498], [0.69, 0.0, 0.498], [0.69, 0.0, 0.498], [0.69, 0.0, 0.498], [0.69, 0.0, 0.498], [0.69, 0.0, 0.498], [0.69, 0.0, 0.498], [0.69, 0.0, 0.498], [0.69, 0.0, 0.498], [0.69, 0.0, 0.498], [0.69, 0.0, 0.498], [0.69, 0.0, 0.498], [0.69, 0.0, 0.498], [0.69, 0.0, 0.498], [0.69, 0.0, 0.498], [0.69, 0.0, 0.498], [0.69, 0.0, 0.498], [0.69, 0.0, 0.498], [0.69, 0.0, 0.498], [0.69, 0.0, 0.498], [0.69, 0.0, 0.498], [0.69, 0.0, 0.498], [0.69, 0.0, 0.498], [0.69, 0.0, 0.498], [0.69, 0.0, 0.498], [0.69, 0.0, 0.498], [0.69, 0.0, 0.498], [0.69, 0.0, 0.498], [0.69, 0.0, 0.498], [0.69, 0.0, 0.498], [0.69, 0.0, 0.498], [0.69, 0.0, 0.498], [0.69, 0.0, 0.498], [0.69, 0.0, 0.498], [0.69, 0.0, 0.498], [0.69, 0.0, 0.498], [0.69, 0.0, 0.498], [0.69, 0.0, 0.498], [0.69, 0.0, 0.498], [0.69, 0.0, 0.498], [0.69, 0.0, 0.498], [0.69, 0.0, 0.498], [0.69, 0.0, 0.498], [0.69, 0.0, 0.498], [0.69, 0.0, 0.498], [0.69, 0.0, 0.498], [0.69, 0.0, 0.498], [0.69, 0.0, 0.498], [0.69, 0.0, 0.498], [0.69, 0.0, 0.498], [0.69, 0.0, 0.498], [0.69, 0.0, 0.498], [0.69, 0.0, 0.498], [0.69, 0.0, 0.498], [0.69, 0.0, 0.498], [0.69, 0.0, 0.498], [0.69, 0.0, 0.498], [0.69, 0.0, 0.498], [0.69, 0.0, 0.498], [0.69, 0.0, 0.498], [0.69, 0.0, 0.498], [0.69, 0.0, 0.498], [0.69, 0.0, 0.498], [0.69, 0.0, 0.498], [0.69, 0.0, 0.498], [0.69, 0.0, 0.498], [0.69, 0.0, 0.498], [0.69, 0.0, 0.498], [0.69, 0.0, 0.498], [0.69, 0.0, 0.498], [0.69, 0.0, 0.498], [0.69, 0.0, 0.498], [0.69, 0.0, 0.498], [0.69, 0.0, 0.498], [0.69, 0.0, 0.498], [0.69, 0.0, 0.498], [0.69, 0.0, 0.498], [0.69, 0.0, 0.498], [0.69, 0.0, 0.498], [0.69, 0.0, 0.498], [0.69, 0.0, 0.498], [0.69, 0.0, 0.498], [0.69, 0.0, 0.498], [0.69, 0.0, 0.498], [0.69, 0.0, 0.498], [0.69, 0.0, 0.498], [0.69, 0.0, 0.498], [0.69, 0.0, 0.498], [0.69, 0.0, 0.498], [0.69, 0.0, 0.498], [0.69, 0.0, 0.498], [0.69, 0.0, 0.498], [0.69, 0.0, 0.498], [0.69, 0.0, 0.498], [0.69, 0.0, 0.498], [0.69, 0.0, 0.498], [0.69, 0.0, 0.498], [0.69, 0.0, 0.498], [0.69, 0.0, 0.498], [0.69, 0.0, 0.498], [0.69, 0.0, 0.498], [0.69, 0.0, 0.498], [0.69, 0.0, 0.498], [0.69, 0.0, 0.498], [0.69, 0.0, 0.498], [0.69, 0.0, 0.498], [0.69, 0.0, 0.498], [0.69, 0.0, 0.498], [0.69, 0.0, 0.498], [0.69, 0.0, 0.498], [0.69, 0.0, 0.498], [0.69, 0.0, 0.498], [0.69, 0.0, 0.498], [0.69, 0.0, 0.498], [0.69, 0.0, 0.498], [0.69, 0.0, 0.498], [0.69, 0.0, 0.498], [0.69, 0.0, 0.498], [0.69, 0.0, 0.498], [0.69, 0.0, 0.498], [0.69, 0.0, 0.498], [0.69, 0.0, 0.498], [0.69, 0.0, 0.498], [0.69, 0.0, 0.498], [0.69, 0.0, 0.498], [0.69, 0.0, 0.498], [0.69, 0.0, 0.498], [0.69, 0.0, 0.498], [0.69, 0.0, 0.498], [0.69, 0.0, 0.498], [0.69, 0.0, 0.498], [0.69, 0.0, 0.498], [0.69, 0.0, 0.498], [0.69, 0.0, 0.498], [0.69, 0.0, 0.498], [0.69, 0.0, 0.498], [0.69, 0.0, 0.498], [0.69, 0.0, 0.498], [0.69, 0.0, 0.498], [0.69, 0.0, 0.498], [0.69, 0.0, 0.498], [0.69, 0.0, 0.498], [0.69, 0.0, 0.498], [0.69, 0.0, 0.498], [0.69, 0.0, 0.498], [0.69, 0.0, 0.498], [0.69, 0.0, 0.498], [0.69, 0.0, 0.498], [0.69, 0.0, 0.498], [0.69, 0.0, 0.498], [0.69, 0.0, 0.498], [0.69, 0.0, 0.498], [0.69, 0.0, 0.498], [0.69, 0.0, 0.498], [0.69, 0.0, 0.498], [0.69, 0.0, 0.498], [0.69, 0.0, 0.498], [0.69, 0.0, 0.498], [0.69, 0.0, 0.498], [0.69, 0.0, 0.498], [0.69, 0.0, 0.498], [0.69, 0.0, 0.498], [0.69, 0.0, 0.498], [0.69, 0.0, 0.498], [0.69, 0.0, 0.498], [0.69, 0.0, 0.498], [0.69, 0.0, 0.498], [0.69, 0.0, 0.498], [0.69, 0.0, 0.498], [0.69, 0.0, 0.498], [0.69, 0.0, 0.498], [0.69, 0.0, 0.498], [0.69, 0.0, 0.498], [0.69, 0.0, 0.498], [0.69, 0.0, 0.498], [0.69, 0.0, 0.498], [0.69, 0.0, 0.498], [0.69, 0.0, 0.498], [0.69, 0.0, 0.498], [0.69, 0.0, 0.498], [0.69, 0.0, 0.498], [0.69, 0.0, 0.498], [0.69, 0.0, 0.498], [0.69, 0.0, 0.498], [0.69, 0.0, 0.498], [0.69, 0.0, 0.498], [0.69, 0.0, 0.498], [0.69, 0.0, 0.498], [0.69, 0.0, 0.498], [0.69, 0.0, 0.498], [0.69, 0.0, 0.498], [0.69, 0.0, 0.498], [0.69, 0.0, 0.498], [0.69, 0.0, 0.498], [0.69, 0.0, 0.498], [0.69, 0.0, 0.498], [0.69, 0.0, 0.498], [0.69, 0.0, 0.498], [0.69, 0.0, 0.498], [0.69, 0.0, 0.498], [0.69, 0.0, 0.498], [0.69, 0.0, 0.498], [0.69, 0.0, 0.498], [0.69, 0.0, 0.498], [0.69, 0.0, 0.498], [0.69, 0.0, 0.498], [0.69, 0.0, 0.498], [0.69, 0.0, 0.498], [0.69, 0.0, 0.498], [0.69, 0.0, 0.498], [0.69, 0.0, 0.498], [0.69, 0.0, 0.498], [0.69, 0.0, 0.498], [0.69, 0.0, 0.498], [0.69, 0.0, 0.498], [0.69, 0.0, 0.498], [0.69, 0.0, 0.498], [0.69, 0.0, 0.498], [0.69, 0.0, 0.498], [0.69, 0.0, 0.498], [0.69, 0.0, 0.498], [0.69, 0.0, 0.498], [0.69, 0.0, 0.498], [0.69, 0.0, 0.498], [0.69, 0.0, 0.498], [0.69, 0.0, 0.498], [0.69, 0.0, 0.498], [0.69, 0.0, 0.498], [0.69, 0.0, 0.498], [0.69, 0.0, 0.498], [0.69, 0.0, 0.498], [0.69, 0.0, 0.498], [0.69, 0.0, 0.498], [0.69, 0.0, 0.498], [0.69, 0.0, 0.498], [0.69, 0.0, 0.498], [0.69, 0.0, 0.498], [0.69, 0.0, 0.498], [0.69, 0.0, 0.498], [0.69, 0.0, 0.498], [0.69, 0.0, 0.498], [0.69, 0.0, 0.498], [0.69, 0.0, 0.498], [0.69, 0.0, 0.498], [0.69, 0.0, 0.498], [0.69, 0.0, 0.498], [0.69, 0.0, 0.498], [0.69, 0.0, 0.498], [0.69, 0.0, 0.498], [0.69, 0.0, 0.498], [0.69, 0.0, 0.498], [0.69, 0.0, 0.498], [0.69, 0.0, 0.498], [0.69, 0.0, 0.498], [0.69, 0.0, 0.498], [0.69, 0.0, 0.498], [0.69, 0.0, 0.498], [0.69, 0.0, 0.498], [0.69, 0.0, 0.498], [0.69, 0.0, 0.498], [0.69, 0.0, 0.498], [0.69, 0.0, 0.498], [0.69, 0.0, 0.498], [0.69, 0.0, 0.498], [0.69, 0.0, 0.498], [0.69, 0.0, 0.498], [0.69, 0.0, 0.498], [0.69, 0.0, 0.498], [0.69, 0.0, 0.498], [0.69, 0.0, 0.498], [0.69, 0.0, 0.498], [0.69, 0.0, 0.498], [0.69, 0.0, 0.498], [0.69, 0.0, 0.498], [0.69, 0.0, 0.498], [0.69, 0.0, 0.498], [0.69, 0.0, 0.498], [0.69, 0.0, 0.498], [0.69, 0.0, 0.498], [0.69, 0.0, 0.498], [0.69, 0.0, 0.498], [0.69, 0.0, 0.498], [0.69, 0.0, 0.498], [0.69, 0.0, 0.498], [0.69, 0.0, 0.498], [0.69, 0.0, 0.498], [0.69, 0.0, 0.498], [0.69, 0.0, 0.498], [0.69, 0.0, 0.498], [0.69, 0.0, 0.498], [0.69, 0.0, 0.498], [0.69, 0.0, 0.498], [0.69, 0.0, 0.498], [0.69, 0.0, 0.498], [0.69, 0.0, 0.498], [0.69, 0.0, 0.498], [0.69, 0.0, 0.498], [0.69, 0.0, 0.498], [0.69, 0.0, 0.498], [0.69, 0.0, 0.498], [0.69, 0.0, 0.498], [0.69, 0.0, 0.498], [0.69, 0.0, 0.498], [0.69, 0.0, 0.498], [0.69, 0.0, 0.498], [0.69, 0.0, 0.498], [0.69, 0.0, 0.498], [0.69, 0.0, 0.498], [0.69, 0.0, 0.498], [0.69, 0.0, 0.498], [0.69, 0.0, 0.498], [0.69, 0.0, 0.498], [0.69, 0.0, 0.498], [0.69, 0.0, 0.498], [0.69, 0.0, 0.498], [0.69, 0.0, 0.498], [0.69, 0.0, 0.498]], \"vcolor\": [0.522, 0.741, 0.0], \"vlabel_hover\": true, \"highlight\": {\"Islord\": [0.69, 0.0, 0.498], \"Ed Lover\": [0.69, 0.0, 0.498], \"Tekitha\": [0.69, 0.0, 0.498], \"Superb\": [0.69, 0.0, 0.498], \"Popa Wu\": [0.69, 0.0, 0.498], \"Cuetrax\": [0.69, 0.0, 0.498], \"Method Man\": [0.69, 0.0, 0.498], \"Ras Kass\": [0.69, 0.0, 0.498], \"Cilvaringz\": [0.69, 0.0, 0.498], \"Ski\": [0.69, 0.0, 0.498], \"Shamel, Kareem & Jamel\": [0.69, 0.0, 0.498], \"Tash Mahogany\": [0.69, 0.0, 0.498], \"Chrisette Michele\": [0.69, 0.0, 0.498], \"Styles P\": [0.69, 0.0, 0.498], \"Puff Daddy\": [0.69, 0.0, 0.498], \"Kim Stephens\": [0.69, 0.0, 0.498], \"K. Born\": [0.69, 0.0, 0.498], \"IAM\": [0.69, 0.0, 0.498], \"Sunny Valentine\": [0.69, 0.0, 0.498], \"Killah Priest\": [0.69, 0.0, 0.498], \"Streetlife\": [0.69, 0.0, 0.498], \"Janet Jackson\": [0.69, 0.0, 0.498], \"Angela Yee\": [0.69, 0.0, 0.498], \"Ch\": [0.69, 0.0, 0.498], \"Inspectah Deck\": [0.69, 0.0, 0.498], \"Kool G Rap\": [0.69, 0.0, 0.498], \"Intrigue\": [0.69, 0.0, 0.498], \"Xavier Naidoo\": [0.69, 0.0, 0.498], \"Jadakiss\": [0.69, 0.0, 0.498], \"Madame Cez\": [0.69, 0.0, 0.498], \"Ludacris\": [0.69, 0.0, 0.498], \"Isaac Hayes\": [0.69, 0.0, 0.498], \"George Clinton\": [0.69, 0.0, 0.498], \"Carl Thomas\": [0.69, 0.0, 0.498], \"American Cream Team\": [0.69, 0.0, 0.498], \"Anthony Allen\": [0.69, 0.0, 0.498], \"Jacki-O\": [0.69, 0.0, 0.498], \"Busta Rhymes\": [0.69, 0.0, 0.498], \"Res\": [0.69, 0.0, 0.498], \"Mizzza\": [0.69, 0.0, 0.498], \"D\\u2019Angelo\": [0.69, 0.0, 0.498], \"The Willie Cottrell Band\": [0.69, 0.0, 0.498], \"U-God\": [0.69, 0.0, 0.498], \"Sheek Louch\": [0.69, 0.0, 0.498], \"Shyheim\": [0.69, 0.0, 0.498], \"The Force M.D.s\": [0.69, 0.0, 0.498], \"Allah Real\": [0.69, 0.0, 0.498], \"Lil\\u2019 Mo\": [0.69, 0.0, 0.498], \"Leatha Face\": [0.69, 0.0, 0.498], \"La the Darkman\": [0.69, 0.0, 0.498], \"Kelis\": [0.69, 0.0, 0.498], \"Chip Banks\": [0.69, 0.0, 0.498], \"Ms. Roxy\": [0.69, 0.0, 0.498], \"Dom Pachino\": [0.69, 0.0, 0.498], \"Jayms Madison\": [0.69, 0.0, 0.498], \"E3\": [0.69, 0.0, 0.498], \"Booster\": [0.69, 0.0, 0.498], \"Missy Elliott\": [0.69, 0.0, 0.498], \"Flavor Flav\": [0.69, 0.0, 0.498], \"DJ Kayslay\": [0.69, 0.0, 0.498], \"Prodigal Sunn\": [0.69, 0.0, 0.498], \"Left Eye\": [0.69, 0.0, 0.498], \"Boo Kapone\": [0.69, 0.0, 0.498], \"Angel Cake\": [0.69, 0.0, 0.498], \"Ne-Yo\": [0.69, 0.0, 0.498], \"Sun God\": [0.69, 0.0, 0.498], \"Raekwon\": [0.69, 0.0, 0.498], \"GZA\": [0.69, 0.0, 0.498], \"Blue Raspberry\": [0.69, 0.0, 0.498], \"Kid Capri\": [0.69, 0.0, 0.498], \"P.R. Terror\": [0.69, 0.0, 0.498], \"Capone\": [0.69, 0.0, 0.498], \"Redman\": [0.69, 0.0, 0.498], \"Papa Don\": [0.69, 0.0, 0.498], \"Governor Tools\": [0.69, 0.0, 0.498], \"Joan Davis\": [0.69, 0.0, 0.498], \"Timbo King\": [0.69, 0.0, 0.498], \"Beat Switch\": [0.69, 0.0, 0.498], \"Carlton Fisk\": [0.69, 0.0, 0.498], \"Young Justice\": [0.69, 0.0, 0.498], \"Startel\": [0.69, 0.0, 0.498], \"Star\": [0.69, 0.0, 0.498], \"Big Gipp\": [0.69, 0.0, 0.498], \"Suga Bang Bang\": [0.69, 0.0, 0.498], \"Polite\": [0.69, 0.0, 0.498], \"Masta Killa\": [0.69, 0.0, 0.498], \"Nas\": [0.69, 0.0, 0.498], \"Black Ice\": [0.69, 0.0, 0.498], \"Shadii\": [0.69, 0.0, 0.498], \"Kinetic 9\": [0.69, 0.0, 0.498], \"Chris Rock\": [0.69, 0.0, 0.498], \"Vine Mojica\": [0.69, 0.0, 0.498], \"Zu Keeper\": [0.69, 0.0, 0.498], \"ODB\": [0.69, 0.0, 0.498], \"Amille D. Harris\": [0.69, 0.0, 0.498], \"Madame D\": [0.69, 0.0, 0.498], \"Santi White\": [0.69, 0.0, 0.498], \"Cool & Dre\": [0.69, 0.0, 0.498], \"Dexter Wiggle\": [0.69, 0.0, 0.498], \"Cappadonna\": [0.69, 0.0, 0.498], \"Madame Majestic\": [0.69, 0.0, 0.498], \"Ron Isley\": [0.69, 0.0, 0.498], \"Ruff Endz\": [0.69, 0.0, 0.498], \"Buddha Monk\": [0.69, 0.0, 0.498], \"Trife da God\": [0.69, 0.0, 0.498], \"Ghostface Killah\": [0.69, 0.0, 0.498], \"Snoop Dogg\": [0.69, 0.0, 0.498], \"Kanye West\": [0.69, 0.0, 0.498], \"Gerald Alston\": [0.69, 0.0, 0.498], \"Twiz\": [0.69, 0.0, 0.498], \"The Delfonics\": [0.69, 0.0, 0.498], \"Dreddy Kruger\": [0.69, 0.0, 0.498], \"Doc Gyneco\": [0.69, 0.0, 0.498], \"Music Soulchild\": [0.69, 0.0, 0.498], \"Ice Water Inc.\": [0.69, 0.0, 0.498], \"Solomon Childs\": [0.69, 0.0, 0.498], \"12 O\\u2019Clock\": [0.69, 0.0, 0.498], \"Ultra\": [0.69, 0.0, 0.498], \"Shift Shi Yan Ming\": [0.69, 0.0, 0.498], \"Crisis\": [0.69, 0.0, 0.498], \"Tiffany Villarreal\": [0.69, 0.0, 0.498], \"Kardinal Offishall\": [0.69, 0.0, 0.498], \"The Notorious B.I.G.\": [0.69, 0.0, 0.498], \"Killa Sin\": [0.69, 0.0, 0.498], \"Mr. Porter\": [0.69, 0.0, 0.498], \"Havoc\": [0.69, 0.0, 0.498], \"Megan Rochell\": [0.69, 0.0, 0.498], \"MC Eiht\": [0.69, 0.0, 0.498], \"Victorious\": [0.69, 0.0, 0.498], \"Doc Doom\": [0.69, 0.0, 0.498], \"Mathematics\": [0.69, 0.0, 0.498], \"Ebony Burke\": [0.69, 0.0, 0.498], \"Njeri Earth\": [0.69, 0.0, 0.498], \"Paulissa Moorman\": [0.69, 0.0, 0.498], \"Junior Reid\": [0.69, 0.0, 0.498], \"Squeak Ru\": [0.69, 0.0, 0.498], \"Santigold\": [0.69, 0.0, 0.498], \"Ginuwine\": [0.69, 0.0, 0.498], \"Erica Bryant\": [0.69, 0.0, 0.498], \"Shorty S\": [0.69, 0.0, 0.498], \"9th Prince\": [0.69, 0.0, 0.498], \"Saukrates\": [0.69, 0.0, 0.498], \"Beretta 9\": [0.69, 0.0, 0.498], \"Trigga\": [0.69, 0.0, 0.498], \"Murduc\": [0.69, 0.0, 0.498], \"Uncle Pete\": [0.69, 0.0, 0.498], \"RZA\": [0.69, 0.0, 0.498], \"Hell Razah\": [0.69, 0.0, 0.498], \"CCF Division\": [0.69, 0.0, 0.498], \"Joi Star\": [0.69, 0.0, 0.498], \"Monk\": [0.69, 0.0, 0.498], \"Free Murder\": [0.69, 0.0, 0.498], \"Big Bub\": [0.69, 0.0, 0.498], \"Amy Winehouse\": [0.69, 0.0, 0.498], \"Fat Joe\": [0.69, 0.0, 0.498], \"Cho-Flo\": [0.69, 0.0, 0.498], \"K. Fox\": [0.69, 0.0, 0.498], \"Erykah Badu\": [0.69, 0.0, 0.498], \"Jamie Sommers\": [0.69, 0.0, 0.498], \"Rhythm Roots Allstars\": [0.69, 0.0, 0.498], \"Mr. Maygreen\": [0.69, 0.0, 0.498], \"Eamon\": [0.69, 0.0, 0.498], \"Shawn Wigs\": [0.69, 0.0, 0.498], \"Trife\": [0.69, 0.0, 0.498], \"Crummie Beats\": [0.69, 0.0, 0.498], \"Armel\": [0.69, 0.0, 0.498], \"Bennie Sigel\": [0.69, 0.0, 0.498], \"Mojehan\": [0.69, 0.0, 0.498], \"Mary J. Blige\": [0.69, 0.0, 0.498], \"60 Second Assassin\": [0.69, 0.0, 0.498]}, \"v_offset\": 0.03}, \"view_components\": [\"View\"], \"type\": \"SGraph\", \"descriptives_links\": {\"edges\": \"edges\", \"vertices\": \"vertices\"}, \"descriptives\": {\"edges\": 180, \"vertices\": 104}}, \"positions\": null, \"error_type\": 0, \"vertices\": [\"P.R. Terror\", \"Madame Cez\", \"Monk\", \"Immobilarity\", \"Superb\", \"Bulletproof Wallets\", \"Hell Razah\", \"Golden Arms Redemption\", \"DJ Kayslay\", \"Cappadonna\", \"The Force M.D.s\", \"Streetlife\", \"Res\", \"Kinetic 9\", \"Njeri Earth\", \"RZA\", \"Kim Stephens\", \"Janet Jackson\", \"Lil\\u2019 Mo\", \"Angela Yee\", \"Carl Thomas\", \"Big Bub\", \"Cilvaringz\", \"Bobby Digital in Stereo\", \"The W\", \"Flavor Flav\", \"Young Justice\", \"Anthony Allen\", \"Mathematics\", \"Angel Cake\", \"Method Man\", \"Leatha Face\", \"Kelis\", \"Killa Sin\", \"Uncontrolled Substance\", \"Madame Majestic\", \"Doc Doom\", \"Intrigue\", \"Beat Switch\", \"Legend of the Liquid Sword\", \"Islord\", \"Isaac Hayes\", \"D\\u2019Angelo\", \"Chip Banks\", \"Armel\", \"Nas\", \"Zu Keeper\", \"Left Eye\", \"Digital Bullet\", \"Shorty S\", \"U-God\", \"Iron Flag\", \"Suga Bang Bang\", \"Doc Gyneco\", \"Ras Kass\", \"Vine Mojica\", \"Ruff Endz\", \"Solomon Childs\", \"Shadii\", \"Trigga\", \"Beretta 9\", \"Prodigal Sunn\", \"Governor Tools\", \"ODB\", \"Twiz\", \"Paulissa Moorman\", \"Ms. Roxy\", \"La the Darkman\", \"Timbo King\", \"Redman\", \"Joan Davis\", \"Crisis\", \"Santi White\", \"Dom Pachino\", \"GZA\", \"Chris Rock\", \"American Cream Team\", \"_____ Please\", \"Trife\", \"Supreme Clientele\", \"Dreddy Kruger\", \"Cho-Flo\", \"Santigold\", \"Booster\", \"Busta Rhymes\", \"Tekitha\", \"Beneath the Surface\", \"Ron Isley\", \"Big Gipp\", \"12 O\\u2019Clock\", \"Star\", \"Raekwon\", \"Madame D\", \"Polite\", \"Masta Killa\", \"Killah Priest\", \"Jamie Sommers\", \"Ghostface Killah\", \"Snoop Dogg\", \"Junior Reid\", \"Tical 2000: Judgement Day\", \"Ed Lover\", \"Inspectah Deck\", \"9th Prince\"], \"vertices_labels\": [\"P.R. Terror\", \"Madame Cez\", \"Monk\", \"Immobilarity\", \"Superb\", \"Bulletproof Wallets\", \"Hell Razah\", \"Golden Arms Redemption\", \"DJ Kayslay\", \"Cappadonna\", \"The Force M.D.s\", \"Streetlife\", \"Res\", \"Kinetic 9\", \"Njeri Earth\", \"RZA\", \"Kim Stephens\", \"Janet Jackson\", \"Lil\\u2019 Mo\", \"Angela Yee\", \"Carl Thomas\", \"Big Bub\", \"Cilvaringz\", \"Bobby Digital in Stereo\", \"The W\", \"Flavor Flav\", \"Young Justice\", \"Anthony Allen\", \"Mathematics\", \"Angel Cake\", \"Method Man\", \"Leatha Face\", \"Kelis\", \"Killa Sin\", \"Uncontrolled Substance\", \"Madame Majestic\", \"Doc Doom\", \"Intrigue\", \"Beat Switch\", \"Legend of the Liquid Sword\", \"Islord\", \"Isaac Hayes\", \"D\\u2019Angelo\", \"Chip Banks\", \"Armel\", \"Nas\", \"Zu Keeper\", \"Left Eye\", \"Digital Bullet\", \"Shorty S\", \"U-God\", \"Iron Flag\", \"Suga Bang Bang\", \"Doc Gyneco\", \"Ras Kass\", \"Vine Mojica\", \"Ruff Endz\", \"Solomon Childs\", \"Shadii\", \"Trigga\", \"Beretta 9\", \"Prodigal Sunn\", \"Governor Tools\", \"ODB\", \"Twiz\", \"Paulissa Moorman\", \"Ms. Roxy\", \"La the Darkman\", \"Timbo King\", \"Redman\", \"Joan Davis\", \"Crisis\", \"Santi White\", \"Dom Pachino\", \"GZA\", \"Chris Rock\", \"American Cream Team\", \"_____ Please\", \"Trife\", \"Supreme Clientele\", \"Dreddy Kruger\", \"Cho-Flo\", \"Santigold\", \"Booster\", \"Busta Rhymes\", \"Tekitha\", \"Beneath the Surface\", \"Ron Isley\", \"Big Gipp\", \"12 O\\u2019Clock\", \"Star\", \"Raekwon\", \"Madame D\", \"Polite\", \"Masta Killa\", \"Killah Priest\", \"Jamie Sommers\", \"Ghostface Killah\", \"Snoop Dogg\", \"Junior Reid\", \"Tical 2000: Judgement Day\", \"Ed Lover\", \"Inspectah Deck\", \"9th Prince\"], \"edges\": [[\"Bulletproof Wallets\", \"Superb\"], [\"Golden Arms Redemption\", \"Hell Razah\"], [\"Bulletproof Wallets\", \"Carl Thomas\"], [\"Immobilarity\", \"Big Bub\"], [\"Immobilarity\", \"Kim Stephens\"], [\"Golden Arms Redemption\", \"Leatha Face\"], [\"Golden Arms Redemption\", \"Method Man\"], [\"Bulletproof Wallets\", \"Killa Sin\"], [\"Bulletproof Wallets\", \"Method Man\"], [\"Bulletproof Wallets\", \"Madame Majestic\"], [\"Immobilarity\", \"Method Man\"], [\"Bulletproof Wallets\", \"Prodigal Sunn\"], [\"Bulletproof Wallets\", \"Ruff Endz\"], [\"Golden Arms Redemption\", \"U-God\"], [\"Immobilarity\", \"American Cream Team\"], [\"Bulletproof Wallets\", \"Twiz\"], [\"Bulletproof Wallets\", \"Tekitha\"], [\"Bulletproof Wallets\", \"Trife\"], [\"Bulletproof Wallets\", \"Raekwon\"], [\"Bulletproof Wallets\", \"Ghostface Killah\"], [\"Golden Arms Redemption\", \"Raekwon\"], [\"Golden Arms Redemption\", \"Inspectah Deck\"], [\"Immobilarity\", \"Masta Killa\"], [\"Immobilarity\", \"Raekwon\"], [\"Bobby Digital in Stereo\", \"P.R. Terror\"], [\"Bobby Digital in Stereo\", \"Kinetic 9\"], [\"Bobby Digital in Stereo\", \"The Force M.D.s\"], [\"Bobby Digital in Stereo\", \"RZA\"], [\"Bobby Digital in Stereo\", \"Angel Cake\"], [\"Bobby Digital in Stereo\", \"Killa Sin\"], [\"Bobby Digital in Stereo\", \"Doc Doom\"], [\"Bobby Digital in Stereo\", \"Method Man\"], [\"Bobby Digital in Stereo\", \"ODB\"], [\"Bobby Digital in Stereo\", \"U-God\"], [\"Bobby Digital in Stereo\", \"Ras Kass\"], [\"Bobby Digital in Stereo\", \"Islord\"], [\"Bobby Digital in Stereo\", \"Dom Pachino\"], [\"Bobby Digital in Stereo\", \"Ms. Roxy\"], [\"Bobby Digital in Stereo\", \"Timbo King\"], [\"Bobby Digital in Stereo\", \"Tekitha\"], [\"Bobby Digital in Stereo\", \"Ghostface Killah\"], [\"Bobby Digital in Stereo\", \"9th Prince\"], [\"Bobby Digital in Stereo\", \"Jamie Sommers\"], [\"Bobby Digital in Stereo\", \"Masta Killa\"], [\"The W\", \"DJ Kayslay\"], [\"The W\", \"Cappadonna\"], [\"The W\", \"Streetlife\"], [\"The W\", \"RZA\"], [\"The W\", \"Method Man\"], [\"The W\", \"Isaac Hayes\"], [\"The W\", \"Nas\"], [\"The W\", \"ODB\"], [\"The W\", \"U-God\"], [\"The W\", \"GZA\"], [\"The W\", \"Redman\"], [\"The W\", \"Paulissa Moorman\"], [\"The W\", \"Busta Rhymes\"], [\"The W\", \"Ghostface Killah\"], [\"The W\", \"Snoop Dogg\"], [\"The W\", \"Inspectah Deck\"], [\"The W\", \"Masta Killa\"], [\"The W\", \"Junior Reid\"], [\"The W\", \"Raekwon\"], [\"Uncontrolled Substance\", \"Streetlife\"], [\"Uncontrolled Substance\", \"Killa Sin\"], [\"Uncontrolled Substance\", \"Vine Mojica\"], [\"Uncontrolled Substance\", \"Beretta 9\"], [\"Uncontrolled Substance\", \"U-God\"], [\"Uncontrolled Substance\", \"Shadii\"], [\"Uncontrolled Substance\", \"La the Darkman\"], [\"Uncontrolled Substance\", \"Masta Killa\"], [\"Uncontrolled Substance\", \"Inspectah Deck\"], [\"Iron Flag\", \"Cappadonna\"], [\"Digital Bullet\", \"Monk\"], [\"Digital Bullet\", \"Madame Cez\"], [\"Digital Bullet\", \"Streetlife\"], [\"Iron Flag\", \"Streetlife\"], [\"Digital Bullet\", \"RZA\"], [\"Iron Flag\", \"RZA\"], [\"Digital Bullet\", \"Cilvaringz\"], [\"Digital Bullet\", \"The Force M.D.s\"], [\"Legend of the Liquid Sword\", \"RZA\"], [\"Legend of the Liquid Sword\", \"Streetlife\"], [\"Iron Flag\", \"Flavor Flav\"], [\"Legend of the Liquid Sword\", \"Young Justice\"], [\"Legend of the Liquid Sword\", \"Anthony Allen\"], [\"Digital Bullet\", \"Intrigue\"], [\"Digital Bullet\", \"Method Man\"], [\"Iron Flag\", \"Beat Switch\"], [\"Iron Flag\", \"Method Man\"], [\"Digital Bullet\", \"Killa Sin\"], [\"Legend of the Liquid Sword\", \"Armel\"], [\"Digital Bullet\", \"Prodigal Sunn\"], [\"Digital Bullet\", \"Isaac Hayes\"], [\"Digital Bullet\", \"Doc Gyneco\"], [\"Digital Bullet\", \"ODB\"], [\"Digital Bullet\", \"Solomon Childs\"], [\"Iron Flag\", \"Suga Bang Bang\"], [\"Iron Flag\", \"U-God\"], [\"Iron Flag\", \"Prodigal Sunn\"], [\"Digital Bullet\", \"Beretta 9\"], [\"Legend of the Liquid Sword\", \"Governor Tools\"], [\"Legend of the Liquid Sword\", \"Prodigal Sunn\"], [\"Legend of the Liquid Sword\", \"GZA\"], [\"Legend of the Liquid Sword\", \"Santi White\"], [\"Iron Flag\", \"GZA\"], [\"Digital Bullet\", \"Crisis\"], [\"Digital Bullet\", \"GZA\"], [\"Iron Flag\", \"12 O\\u2019Clock\"], [\"Digital Bullet\", \"Big Gipp\"], [\"Digital Bullet\", \"Tekitha\"], [\"Iron Flag\", \"Ron Isley\"], [\"Legend of the Liquid Sword\", \"12 O\\u2019Clock\"], [\"Legend of the Liquid Sword\", \"Masta Killa\"], [\"Iron Flag\", \"Ghostface Killah\"], [\"Digital Bullet\", \"Junior Reid\"], [\"Iron Flag\", \"Raekwon\"], [\"Iron Flag\", \"Inspectah Deck\"], [\"Digital Bullet\", \"Jamie Sommers\"], [\"Iron Flag\", \"Madame D\"], [\"Digital Bullet\", \"Masta Killa\"], [\"Iron Flag\", \"Masta Killa\"], [\"Legend of the Liquid Sword\", \"Inspectah Deck\"], [\"Legend of the Liquid Sword\", \"Ghostface Killah\"], [\"Supreme Clientele\", \"Superb\"], [\"Beneath the Surface\", \"Hell Razah\"], [\"Supreme Clientele\", \"Hell Razah\"], [\"Supreme Clientele\", \"Cappadonna\"], [\"Supreme Clientele\", \"RZA\"], [\"Beneath the Surface\", \"Njeri Earth\"], [\"Beneath the Surface\", \"RZA\"], [\"_____ Please\", \"Lil\\u2019 Mo\"], [\"Beneath the Surface\", \"Angela Yee\"], [\"Beneath the Surface\", \"Res\"], [\"Supreme Clientele\", \"Mathematics\"], [\"Beneath the Surface\", \"Method Man\"], [\"_____ Please\", \"Kelis\"], [\"Supreme Clientele\", \"Method Man\"], [\"Supreme Clientele\", \"Solomon Childs\"], [\"_____ Please\", \"ODB\"], [\"Beneath the Surface\", \"ODB\"], [\"Beneath the Surface\", \"Trigga\"], [\"_____ Please\", \"Shorty S\"], [\"Beneath the Surface\", \"Prodigal Sunn\"], [\"_____ Please\", \"Zu Keeper\"], [\"Supreme Clientele\", \"U-God\"], [\"Supreme Clientele\", \"Chip Banks\"], [\"Supreme Clientele\", \"Redman\"], [\"Beneath the Surface\", \"Timbo King\"], [\"Beneath the Surface\", \"Joan Davis\"], [\"Beneath the Surface\", \"GZA\"], [\"Beneath the Surface\", \"La the Darkman\"], [\"_____ Please\", \"La the Darkman\"], [\"_____ Please\", \"Chris Rock\"], [\"Supreme Clientele\", \"GZA\"], [\"_____ Please\", \"12 O\\u2019Clock\"], [\"Beneath the Surface\", \"Santigold\"], [\"Beneath the Surface\", \"Dreddy Kruger\"], [\"Supreme Clientele\", \"Masta Killa\"], [\"Supreme Clientele\", \"Raekwon\"], [\"Beneath the Surface\", \"Killah Priest\"], [\"Beneath the Surface\", \"Masta Killa\"], [\"Supreme Clientele\", \"Ghostface Killah\"], [\"Tical 2000: Judgement Day\", \"Cappadonna\"], [\"Tical 2000: Judgement Day\", \"Janet Jackson\"], [\"Tical 2000: Judgement Day\", \"Streetlife\"], [\"Tical 2000: Judgement Day\", \"Killa Sin\"], [\"Tical 2000: Judgement Day\", \"Method Man\"], [\"Tical 2000: Judgement Day\", \"Left Eye\"], [\"Tical 2000: Judgement Day\", \"D\\u2019Angelo\"], [\"Tical 2000: Judgement Day\", \"Chris Rock\"], [\"Tical 2000: Judgement Day\", \"Redman\"], [\"Tical 2000: Judgement Day\", \"Cho-Flo\"], [\"Tical 2000: Judgement Day\", \"Booster\"], [\"Tical 2000: Judgement Day\", \"Inspectah Deck\"], [\"Tical 2000: Judgement Day\", \"Masta Killa\"], [\"Tical 2000: Judgement Day\", \"Raekwon\"], [\"Tical 2000: Judgement Day\", \"Polite\"], [\"Tical 2000: Judgement Day\", \"Ed Lover\"], [\"Tical 2000: Judgement Day\", \"Star\"]], \"ipython\": true, \"error_msg\": \"\"}, e);\n",
       "                });\n",
       "            })();\n",
       "        "
      ]
     },
     "metadata": {},
     "output_type": "display_data"
    }
   ],
   "source": [
    "#the network for the 5 years after Triumph\n",
    "g982002 = g.get_neighborhood(sf['Album'][(sf['Year']>=1998) & (sf['Year']<=2002)])\n",
    "g982002.show(vlabel='__id', vlabel_hover=True, highlight=sf['Artist'])"
   ]
  },
  {
   "cell_type": "code",
   "execution_count": 18,
   "metadata": {},
   "outputs": [
    {
     "name": "stdout",
     "output_type": "stream",
     "text": [
      "Diameter before and after Triumph: 4 6\n",
      "Density before and after Triumph: 0.12012012012 0.0336071695295\n"
     ]
    }
   ],
   "source": [
    "#use networkx for quick calculations\n",
    "gT = nx.from_pandas_dataframe(wutang.loc[wutang['Year']<=1997], \n",
    "                              source='Album', target='Artist', edge_attr='App_Prop')\n",
    "gaT = nx.from_pandas_dataframe(wutang.loc[(wutang['Year']>=1998) & (wutang['Year']<=2002)],\n",
    "                               source='Album', target='Artist', edge_attr='App_Prop')\n",
    "print \"Diameter before and after Triumph:\", nx.diameter(gT), nx.diameter(gaT)\n",
    "print \"Density before and after Triumph:\", nx.density(gT), nx.density(gaT)"
   ]
  },
  {
   "cell_type": "markdown",
   "metadata": {},
   "source": [
    "The network's diameter grew by 50% and the density decreased substantially after the Triumph album."
   ]
  },
  {
   "cell_type": "markdown",
   "metadata": {},
   "source": [
    "## Question 5: Are Ghostface and Raekwon really best friends?  \n",
    "\n",
    "Ghostface and Raekwon are the two Wu-Tang members who have worked with each other the most in the past.  Will we be able to detect this 2 person clique using SNA?"
   ]
  },
  {
   "cell_type": "code",
   "execution_count": 19,
   "metadata": {},
   "outputs": [
    {
     "name": "stdout",
     "output_type": "stream",
     "text": [
      "('Ghostface Killah', 'Raekwon', 0.6938775510204082)\n",
      "('Ghostface Killah', 'Method Man', 0.7169811320754716)\n",
      "('Ghostface Killah', 'Masta Killa', 0.6772151898734177)\n"
     ]
    }
   ],
   "source": [
    "#using the jaccard coefficient to compare the similarity between nodes\n",
    "preds = nx.jaccard_coefficient(artist_network, [('Ghostface Killah', 'Raekwon'),\n",
    "                                                ('Ghostface Killah', 'Method Man'),\n",
    "                                                ('Ghostface Killah', 'Masta Killa')])\n",
    "for u, v, p in preds:\n",
    "    print (u, v, p)"
   ]
  },
  {
   "cell_type": "code",
   "execution_count": 20,
   "metadata": {},
   "outputs": [
    {
     "data": {
      "text/plain": [
       "[[u'Cappadonna',\n",
       "  u'Masta Killa',\n",
       "  u'Method Man',\n",
       "  u'Ghostface Killah',\n",
       "  u'Raekwon'],\n",
       " [u'Streetlife', u'Inspectah Deck'],\n",
       " [u'RZA', u'ODB'],\n",
       " [u'RZA',\n",
       "  u'Masta Killa',\n",
       "  u'Raekwon',\n",
       "  u'Inspectah Deck',\n",
       "  u'GZA',\n",
       "  u'U-God',\n",
       "  u'Method Man',\n",
       "  u'Ghostface Killah']]"
      ]
     },
     "execution_count": 20,
     "metadata": {},
     "output_type": "execute_result"
    }
   ],
   "source": [
    "#see if Ghostface and Raekwon are in any cliques together\n",
    "gC = trim_edges(artist_network, weight=10000)\n",
    "cliques = list(nx.find_cliques(gC))\n",
    "cliques"
   ]
  },
  {
   "cell_type": "markdown",
   "metadata": {},
   "source": [
    "Ghostface and Raekwon do not show up alone in any cliques.  Notcie that RZA and ODB do (they are cousins). \n",
    "\n",
    "Maybe if we remove Method Man from the data set the relationship between Ghostface and Raekwon will be more pronounced."
   ]
  },
  {
   "cell_type": "code",
   "execution_count": 21,
   "metadata": {},
   "outputs": [
    {
     "data": {
      "text/plain": [
       "[[u'Raekwon', u'Inspectah Deck'],\n",
       " [u'Raekwon', u'RZA', u'Ghostface Killah', u'Masta Killa']]"
      ]
     },
     "execution_count": 21,
     "metadata": {},
     "output_type": "execute_result"
    }
   ],
   "source": [
    "noMM = wutang.loc[wutang['Artist']!='Method Man']\n",
    "gT = nx.from_pandas_dataframe(noMM, source='Album', target='Artist', edge_attr='App_Prop')\n",
    "no_MM = bi.weighted_projected_graph(gT, pd.unique(noMM['Artist']), ratio=False)\n",
    "\n",
    "gC = trim_edges(no_MM, weight=15000)\n",
    "cliques = list(nx.find_cliques(gC))\n",
    "cliques"
   ]
  },
  {
   "cell_type": "markdown",
   "metadata": {},
   "source": [
    "# Conclusion  \n",
    "\n",
    "The Wu-Tang Clan data set is a great sample data set to see how network analysis can be used to describe real world networks.  These techniques can be used on much larger data sets to reveal insights into the nature of the relationships in the network.  "
   ]
  }
 ],
 "metadata": {
  "kernelspec": {
   "display_name": "Python 2",
   "language": "python",
   "name": "python2"
  },
  "language_info": {
   "codemirror_mode": {
    "name": "ipython",
    "version": 2
   },
   "file_extension": ".py",
   "mimetype": "text/x-python",
   "name": "python",
   "nbconvert_exporter": "python",
   "pygments_lexer": "ipython2",
   "version": "2.7.14"
  }
 },
 "nbformat": 4,
 "nbformat_minor": 1
}
